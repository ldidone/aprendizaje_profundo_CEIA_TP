{
 "cells": [
  {
   "cell_type": "markdown",
   "id": "4c0d4fc8",
   "metadata": {},
   "source": [
    "# Deep Learning"
   ]
  },
  {
   "cell_type": "markdown",
   "id": "bcf3b128",
   "metadata": {},
   "source": [
    "## Examen Agosto 2022"
   ]
  },
  {
   "cell_type": "markdown",
   "id": "677bd3bf",
   "metadata": {},
   "source": [
    "## Ejercicio 4.\n",
    "\n",
    "Se tiene la función y = a * log(b) + b * c^2. Calcular las derivadas de y respecto a los parámetros a, b, c, evaluando en los valores a=2, b=10, c=0.5. Se deben calcular las derivadas por los siguientes métodos:\n",
    "- Utilizando derivadas analíticas (symbolic differentiation).\n",
    "- Utilizando límite con un delta numérico pequeño (numerical differentiation).\n",
    "- Utilizando grafos y la regla de la cadena (chain rule differentiation)\n",
    "- Utilizando PyTorch (automatic differentiation)."
   ]
  },
  {
   "cell_type": "markdown",
   "id": "2634432d",
   "metadata": {},
   "source": [
    "### Librerías y funciones globales"
   ]
  },
  {
   "cell_type": "code",
   "execution_count": 2,
   "id": "15567184",
   "metadata": {},
   "outputs": [],
   "source": [
    "import numpy as np\n",
    "import sympy\n",
    "import torch"
   ]
  },
  {
   "cell_type": "markdown",
   "id": "49df2523",
   "metadata": {},
   "source": [
    "### Cálculo por derivadas analíticas (symbolic differentiation)"
   ]
  },
  {
   "cell_type": "code",
   "execution_count": 8,
   "id": "81f6c582",
   "metadata": {},
   "outputs": [
    {
     "name": "stdout",
     "output_type": "stream",
     "text": [
      "La derivada de y respecto de a es log(b)\n",
      "La derivada de y respecto de b es a/b + c**2\n",
      "La derivada de y respecto de c es 2*b*c\n"
     ]
    }
   ],
   "source": [
    "a, b, c = sympy.symbols('a,b,c')\n",
    "\n",
    "def y(a,b,c):\n",
    "    return a * sympy.log(b) + b * np.power(c, 2)\n",
    "    \n",
    "function = y(a,b,c)\n",
    "\n",
    "a_prima = function.diff(a) \n",
    "b_prima = function.diff(b)\n",
    "c_prima = function.diff(c)\n",
    "\n",
    "print(f'La derivada de y respecto de a es {a_prima}')\n",
    "print(f'La derivada de y respecto de b es {b_prima}')\n",
    "print(f'La derivada de y respecto de c es {c_prima}')"
   ]
  },
  {
   "cell_type": "code",
   "execution_count": 22,
   "id": "224c05b8",
   "metadata": {},
   "outputs": [],
   "source": [
    "def partial_deriv_a(b):\n",
    "    return np.log10(b)"
   ]
  },
  {
   "cell_type": "code",
   "execution_count": 28,
   "id": "360f5cce",
   "metadata": {},
   "outputs": [],
   "source": [
    "def partial_deriv_b(a, b, c):\n",
    "    return (a / b) + np.power(c, 2)"
   ]
  },
  {
   "cell_type": "code",
   "execution_count": 29,
   "id": "319cfae0",
   "metadata": {},
   "outputs": [],
   "source": [
    "def partial_deriv_c(b, c):\n",
    "    return 2 * b *c"
   ]
  },
  {
   "cell_type": "code",
   "execution_count": 30,
   "id": "64194632",
   "metadata": {},
   "outputs": [],
   "source": [
    "value_a = 2\n",
    "value_b = 10\n",
    "value_c = 0.5"
   ]
  },
  {
   "cell_type": "code",
   "execution_count": 31,
   "id": "cc57fcba",
   "metadata": {},
   "outputs": [
    {
     "name": "stdout",
     "output_type": "stream",
     "text": [
      "Derivada parcial de y respecto de a, con a=2 es 1.0\n",
      "Derivada parcial de y respecto de b, con a=2, b=10 y c=0.5 es 0.45\n",
      "Derivada parcial de y respecto de c, con  b=10 y c=0.5 es 10.0\n"
     ]
    }
   ],
   "source": [
    "result_deriv_part_a = partial_deriv_a(value_b)\n",
    "result_deriv_part_b = partial_deriv_b(value_a, value_b, value_c)\n",
    "result_deriv_part_c = partial_deriv_c(value_b, value_c)\n",
    "\n",
    "print(f'Derivada parcial de y respecto de a, con a={value_a} es {result_deriv_part_a}')\n",
    "print(f'Derivada parcial de y respecto de b, con a={value_a}, b={value_b} y c={value_c} es {result_deriv_part_b}')\n",
    "print(f'Derivada parcial de y respecto de c, con  b={value_b} y c={value_c} es {result_deriv_part_c}')\n"
   ]
  },
  {
   "cell_type": "markdown",
   "id": "d09567b9",
   "metadata": {},
   "source": [
    "### Cálculo utilizando el límite"
   ]
  },
  {
   "cell_type": "code",
   "execution_count": 32,
   "id": "f1ca80af",
   "metadata": {},
   "outputs": [],
   "source": [
    "delta = 0.0001"
   ]
  },
  {
   "cell_type": "code",
   "execution_count": 33,
   "id": "7489420a",
   "metadata": {},
   "outputs": [],
   "source": [
    "def derivate(f, f_, delta):\n",
    "    return (f_ - f) / delta"
   ]
  },
  {
   "cell_type": "code",
   "execution_count": 37,
   "id": "caf70aac",
   "metadata": {},
   "outputs": [],
   "source": [
    "def function(a, b, c):\n",
    "    return a * np.log10(b) + b * np.power(c, 2)"
   ]
  },
  {
   "cell_type": "code",
   "execution_count": 46,
   "id": "21ae65b1",
   "metadata": {},
   "outputs": [],
   "source": [
    "func = function(value_a, value_b, value_c)\n",
    "func_ = function(value_a + delta, value_b + delta, value_c + delta)"
   ]
  },
  {
   "cell_type": "code",
   "execution_count": 47,
   "id": "b59bac84",
   "metadata": {},
   "outputs": [],
   "source": [
    "y_ = derivate(func, func_, delta)"
   ]
  },
  {
   "cell_type": "code",
   "execution_count": 48,
   "id": "f537409d",
   "metadata": {},
   "outputs": [
    {
     "name": "stdout",
     "output_type": "stream",
     "text": [
      "Derivada y con a=2, b=10 y c=0.5 es 11.337962815005653\n"
     ]
    }
   ],
   "source": [
    "print(f'Derivada y con a={value_a}, b={value_b} y c={value_c} es {y_}')"
   ]
  },
  {
   "cell_type": "markdown",
   "id": "ec839004",
   "metadata": {},
   "source": [
    "- El resultado es aproximado a sumar la derivada parcial de y respecto a, de b y de c"
   ]
  },
  {
   "cell_type": "markdown",
   "id": "b89fbe44",
   "metadata": {},
   "source": [
    "### Cálculo utilizando grafos y la regla de la cadena (chain rule differentiation)"
   ]
  },
  {
   "cell_type": "markdown",
   "id": "e4796ba9",
   "metadata": {},
   "source": [
    "$\\frac{\\partial y}{\\partial a} = log(b) $\t\n",
    "$\\frac{\\partial y}{\\partial b} = \\frac{a}{b} + c^2 $\t\n",
    "$\\frac{\\partial y}{\\partial c} = b . 2. c $\t"
   ]
  },
  {
   "cell_type": "markdown",
   "id": "fc493792",
   "metadata": {},
   "source": [
    "$ derivada y = \\frac{\\partial y}{\\partial a} . \\frac{\\partial y}{\\partial b} . \\frac{\\partial y}{\\partial c} $"
   ]
  },
  {
   "cell_type": "markdown",
   "id": "90a786bd",
   "metadata": {},
   "source": [
    "### Cálculo utilizando PyTorch (automatic differentiation)."
   ]
  },
  {
   "cell_type": "code",
   "execution_count": 57,
   "id": "967ecdfb",
   "metadata": {},
   "outputs": [],
   "source": [
    "a_value = 2.0\n",
    "b_value = 10.0\n",
    "c_value = 0.5"
   ]
  },
  {
   "cell_type": "code",
   "execution_count": 58,
   "id": "ca24fc07",
   "metadata": {},
   "outputs": [],
   "source": [
    "a_tensor = torch.tensor(a_value, requires_grad=True)\n",
    "b_tensor = torch.tensor(b_value, requires_grad=True)\n",
    "c_tensor = torch.tensor(c_value, requires_grad=True)"
   ]
  },
  {
   "cell_type": "code",
   "execution_count": 59,
   "id": "332bf282",
   "metadata": {},
   "outputs": [],
   "source": [
    "func_y = (a_tensor * torch.log(b_tensor)) + (b_tensor * torch.pow(c_tensor, 2))"
   ]
  },
  {
   "cell_type": "code",
   "execution_count": 60,
   "id": "32d5381d",
   "metadata": {},
   "outputs": [],
   "source": [
    "# calculo las derivada\n",
    "func_y.backward()"
   ]
  },
  {
   "cell_type": "code",
   "execution_count": 62,
   "id": "476e2517",
   "metadata": {},
   "outputs": [
    {
     "name": "stdout",
     "output_type": "stream",
     "text": [
      "Derivada parcial de y respecto de a, con a=2.0 es 2.3025851249694824\n",
      "Derivada parcial de y respecto de b, con a=2.0, b=10.0 y c=0.5 es 0.44999998807907104\n",
      "Derivada parcial de y respecto de c, con  b=10.0 y c=0.5 es 10.0\n"
     ]
    }
   ],
   "source": [
    "print(f'Derivada parcial de y respecto de a, con a={a_value} es {a_tensor.grad}')\n",
    "print(f'Derivada parcial de y respecto de b, con a={a_value}, b={b_value} y c={c_value} es {b_tensor.grad}')\n",
    "print(f'Derivada parcial de y respecto de c, con  b={b_value} y c={c_value} es {c_tensor.grad}')"
   ]
  }
 ],
 "metadata": {
  "kernelspec": {
   "display_name": "Python 3 (ipykernel)",
   "language": "python",
   "name": "python3"
  },
  "language_info": {
   "codemirror_mode": {
    "name": "ipython",
    "version": 3
   },
   "file_extension": ".py",
   "mimetype": "text/x-python",
   "name": "python",
   "nbconvert_exporter": "python",
   "pygments_lexer": "ipython3",
   "version": "3.9.5"
  }
 },
 "nbformat": 4,
 "nbformat_minor": 5
}
