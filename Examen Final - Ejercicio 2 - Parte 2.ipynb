{
 "cells": [
  {
   "cell_type": "markdown",
   "id": "9093032c",
   "metadata": {},
   "source": [
    "# Deep Learning"
   ]
  },
  {
   "cell_type": "markdown",
   "id": "4fff9085",
   "metadata": {},
   "source": [
    "## Examen Agosto 2022"
   ]
  },
  {
   "cell_type": "markdown",
   "id": "16a9143b",
   "metadata": {},
   "source": [
    "## Ejercicio 2 - Parte 2 (regularización del modelo)\n",
    "\n",
    "Utilizando el mismo dataset que en el link anterior, diseñar una red neuronal que haga un overfitting sobre el dataset. ¿Cómo saben que la red neuronal está haciendo overfitting? Agregar regularización y encontrar los parámetros correctos para lograr un buen fit. Explicar el procedimiento realizado."
   ]
  },
  {
   "cell_type": "markdown",
   "id": "97f3281e",
   "metadata": {},
   "source": [
    "### Librerías y funciones globales"
   ]
  },
  {
   "cell_type": "code",
   "execution_count": 1,
   "id": "effddd0b",
   "metadata": {},
   "outputs": [],
   "source": [
    "import pandas as pd\n",
    "import numpy as np\n",
    "import matplotlib.pyplot as plt\n",
    "import seaborn as sns\n",
    "\n",
    "import torch\n",
    "from torch.utils.data import Dataset, DataLoader\n",
    "from sklearn import metrics"
   ]
  },
  {
   "cell_type": "markdown",
   "id": "894c77f5",
   "metadata": {},
   "source": [
    "### Lectura de datos y creación de dataloaders"
   ]
  },
  {
   "cell_type": "code",
   "execution_count": 2,
   "id": "8522cd16",
   "metadata": {},
   "outputs": [],
   "source": [
    "df = pd.read_csv('data/dataset_1.csv')"
   ]
  },
  {
   "cell_type": "code",
   "execution_count": 3,
   "id": "d0a40a61",
   "metadata": {},
   "outputs": [],
   "source": [
    "x= df[\"# X\"].to_numpy()\n",
    "y= df[\"Y\"].to_numpy()"
   ]
  },
  {
   "cell_type": "code",
   "execution_count": 4,
   "id": "6bc677f1",
   "metadata": {},
   "outputs": [],
   "source": [
    "n = x.shape[0]\n",
    "idx = np.random.permutation(np.arange(0, n))\n",
    "train_idx = idx[0:int(0.80 * n)]\n",
    "test_idx = idx[int(0.80 * n):]"
   ]
  },
  {
   "cell_type": "code",
   "execution_count": 5,
   "id": "e2a89d5c",
   "metadata": {},
   "outputs": [
    {
     "name": "stdout",
     "output_type": "stream",
     "text": [
      "(8000,)\n",
      "(8000,)\n",
      "(2000,)\n",
      "(2000,)\n"
     ]
    }
   ],
   "source": [
    "X_train = x[train_idx]\n",
    "y_train = y[train_idx]\n",
    "X_test = x[test_idx]\n",
    "y_test = y[test_idx]\n",
    "\n",
    "print(X_train.shape)\n",
    "print(y_train.shape)\n",
    "print(X_test.shape)\n",
    "print(y_test.shape)"
   ]
  },
  {
   "cell_type": "code",
   "execution_count": 6,
   "id": "1b8c09f9",
   "metadata": {},
   "outputs": [],
   "source": [
    "class MyDataset(Dataset):\n",
    "\n",
    "    def __init__(self, X, y):\n",
    "        super().__init__()\n",
    "        self.X = X\n",
    "        self.y = y\n",
    "\n",
    "    def __len__(self):\n",
    "        return self.X.shape[0]\n",
    "\n",
    "    def __getitem__(self, idx):\n",
    "        return self.X[idx], self.y[idx]"
   ]
  },
  {
   "cell_type": "code",
   "execution_count": 7,
   "id": "175aacbd",
   "metadata": {},
   "outputs": [],
   "source": [
    "train = MyDataset(X_train, y_train)\n",
    "test = MyDataset(X_test, y_test)"
   ]
  },
  {
   "cell_type": "code",
   "execution_count": 8,
   "id": "04af5a80",
   "metadata": {},
   "outputs": [],
   "source": [
    "train_dataloader = DataLoader(train, batch_size=2048, shuffle=False)\n",
    "test_dataloader = DataLoader(test, batch_size=2048, shuffle=False)"
   ]
  },
  {
   "cell_type": "markdown",
   "id": "aa413439",
   "metadata": {},
   "source": [
    "### Definición de la red neuronal regularizada"
   ]
  },
  {
   "cell_type": "code",
   "execution_count": 9,
   "id": "0a7e8983",
   "metadata": {},
   "outputs": [],
   "source": [
    "class NNet(torch.nn.Module):\n",
    "\n",
    "    def __init__(self):\n",
    "        super().__init__()\n",
    "        self.linear_1 = torch.nn.Linear(in_features=1, out_features=128, bias=True)\n",
    "        self.relu_1 = torch.nn.ReLU()\n",
    "        self.dropout_1 = torch.nn.Dropout(0.6)\n",
    "        \n",
    "        self.linear_2 = torch.nn.Linear(in_features=128, out_features=256, bias=True)\n",
    "        self.relu_2 = torch.nn.ReLU()\n",
    "        self.dropout_2 = torch.nn.Dropout(0.6)\n",
    "        \n",
    "        self.linear_3 = torch.nn.Linear(in_features=256, out_features=128, bias=True)\n",
    "        self.relu_3 = torch.nn.ReLU()\n",
    "        self.dropout_3 = torch.nn.Dropout(0.5)\n",
    "        \n",
    "        self.output = torch.nn.Linear(in_features=128, out_features=1, bias=True)\n",
    "\n",
    "    def forward(self, x):\n",
    "        x = self.linear_1(x)\n",
    "        x = self.relu_1(x)\n",
    "        x = self.dropout_1(x)\n",
    "        \n",
    "        x = self.linear_2(x)\n",
    "        x = self.relu_2(x)\n",
    "        x = self.dropout_2(x)\n",
    "        \n",
    "        x = self.linear_3(x)\n",
    "        x = self.relu_3(x)\n",
    "        x = self.dropout_3(x)\n",
    "        \n",
    "        x = self.output(x)\n",
    "        return x"
   ]
  },
  {
   "cell_type": "code",
   "execution_count": 10,
   "id": "0dd5c16c",
   "metadata": {},
   "outputs": [],
   "source": [
    "nnet = NNet()"
   ]
  },
  {
   "cell_type": "code",
   "execution_count": 11,
   "id": "3443d781",
   "metadata": {},
   "outputs": [],
   "source": [
    "optimizer = torch.optim.Adam(nnet.parameters(), lr=0.001)\n",
    "loss_function = torch.nn.MSELoss()"
   ]
  },
  {
   "cell_type": "code",
   "execution_count": 12,
   "id": "7bfd387b",
   "metadata": {},
   "outputs": [
    {
     "name": "stdout",
     "output_type": "stream",
     "text": [
      "cuda:0\n"
     ]
    }
   ],
   "source": [
    "device = \"\"\n",
    "if torch.cuda.is_available():\n",
    "    device = \"cuda:0\"\n",
    "else:\n",
    "    device = \"cpu\"\n",
    "\n",
    "print(device)"
   ]
  },
  {
   "cell_type": "markdown",
   "id": "cd7eea81",
   "metadata": {},
   "source": [
    "### Entrenamiento de la red neuronal"
   ]
  },
  {
   "cell_type": "code",
   "execution_count": 13,
   "id": "3d2c194f",
   "metadata": {},
   "outputs": [
    {
     "name": "stdout",
     "output_type": "stream",
     "text": [
      "Epoch 1 | Training loss: 32.16381072998047\n",
      "Epoch 2 | Training loss: 17.682133436203003\n",
      "Epoch 3 | Training loss: 14.572710275650024\n",
      "Epoch 4 | Training loss: 13.357031106948853\n",
      "Epoch 5 | Training loss: 10.976469993591309\n",
      "Epoch 6 | Training loss: 10.069599151611328\n",
      "Epoch 7 | Training loss: 8.351502299308777\n",
      "Epoch 8 | Training loss: 7.508324384689331\n",
      "Epoch 9 | Training loss: 7.039308547973633\n",
      "Epoch 10 | Training loss: 6.1918922662734985\n",
      "Epoch 11 | Training loss: 5.990603089332581\n",
      "Epoch 12 | Training loss: 5.471506237983704\n",
      "Epoch 13 | Training loss: 5.306297659873962\n",
      "Epoch 14 | Training loss: 5.16137170791626\n",
      "Epoch 15 | Training loss: 5.102767825126648\n",
      "Epoch 16 | Training loss: 5.017390251159668\n",
      "Epoch 17 | Training loss: 4.879113554954529\n",
      "Epoch 18 | Training loss: 4.774015545845032\n",
      "Epoch 19 | Training loss: 4.68048095703125\n",
      "Epoch 20 | Training loss: 4.719798684120178\n",
      "Epoch 21 | Training loss: 4.527932643890381\n",
      "Epoch 22 | Training loss: 4.463842272758484\n",
      "Epoch 23 | Training loss: 4.505065560340881\n",
      "Epoch 24 | Training loss: 4.216726183891296\n",
      "Epoch 25 | Training loss: 4.34014755487442\n",
      "Epoch 26 | Training loss: 4.239537000656128\n",
      "Epoch 27 | Training loss: 4.258197546005249\n",
      "Epoch 28 | Training loss: 4.392484068870544\n",
      "Epoch 29 | Training loss: 4.192843914031982\n",
      "Epoch 30 | Training loss: 4.290837645530701\n",
      "Epoch 31 | Training loss: 4.159718871116638\n",
      "Epoch 32 | Training loss: 4.048393487930298\n",
      "Epoch 33 | Training loss: 4.057682633399963\n",
      "Epoch 34 | Training loss: 4.0532689690589905\n",
      "Epoch 35 | Training loss: 4.240839242935181\n",
      "Epoch 36 | Training loss: 4.036257207393646\n",
      "Epoch 37 | Training loss: 3.9621663093566895\n",
      "Epoch 38 | Training loss: 3.8290975689888\n",
      "Epoch 39 | Training loss: 3.974292039871216\n",
      "Epoch 40 | Training loss: 4.001777768135071\n",
      "Epoch 41 | Training loss: 3.936554253101349\n",
      "Epoch 42 | Training loss: 3.9946951270103455\n",
      "Epoch 43 | Training loss: 3.9477155804634094\n",
      "Epoch 44 | Training loss: 3.843565046787262\n",
      "Epoch 45 | Training loss: 3.870688796043396\n",
      "Epoch 46 | Training loss: 3.871322512626648\n",
      "Epoch 47 | Training loss: 3.7602866888046265\n",
      "Epoch 48 | Training loss: 3.7042883038520813\n",
      "Epoch 49 | Training loss: 3.8006511330604553\n",
      "Epoch 50 | Training loss: 3.742161750793457\n",
      "Epoch 51 | Training loss: 3.909950077533722\n",
      "Epoch 52 | Training loss: 3.7495354413986206\n",
      "Epoch 53 | Training loss: 3.6344739198684692\n",
      "Epoch 54 | Training loss: 3.7813610434532166\n",
      "Epoch 55 | Training loss: 3.8055790066719055\n",
      "Epoch 56 | Training loss: 3.7808843851089478\n",
      "Epoch 57 | Training loss: 3.73895001411438\n",
      "Epoch 58 | Training loss: 3.7222973108291626\n",
      "Epoch 59 | Training loss: 3.6723344922065735\n",
      "Epoch 60 | Training loss: 3.7550466656684875\n",
      "Epoch 61 | Training loss: 3.7191526293754578\n",
      "Epoch 62 | Training loss: 3.736644983291626\n",
      "Epoch 63 | Training loss: 3.7159075140953064\n",
      "Epoch 64 | Training loss: 3.611469268798828\n",
      "Epoch 65 | Training loss: 3.7222565412521362\n",
      "Epoch 66 | Training loss: 3.775599420070648\n",
      "Epoch 67 | Training loss: 3.8201189041137695\n",
      "Epoch 68 | Training loss: 3.662467122077942\n",
      "Epoch 69 | Training loss: 3.6889954209327698\n",
      "Epoch 70 | Training loss: 3.726605772972107\n",
      "Epoch 71 | Training loss: 3.5236928462982178\n",
      "Epoch 72 | Training loss: 3.7379114627838135\n",
      "Epoch 73 | Training loss: 3.70688796043396\n",
      "Epoch 74 | Training loss: 3.6923601627349854\n",
      "Epoch 75 | Training loss: 3.572114646434784\n",
      "Epoch 76 | Training loss: 3.612791955471039\n",
      "Epoch 77 | Training loss: 3.554785370826721\n",
      "Epoch 78 | Training loss: 3.5179349780082703\n",
      "Epoch 79 | Training loss: 3.682928442955017\n",
      "Epoch 80 | Training loss: 3.5932411551475525\n",
      "Epoch 81 | Training loss: 3.489112377166748\n",
      "Epoch 82 | Training loss: 3.5547719597816467\n",
      "Epoch 83 | Training loss: 3.641662120819092\n",
      "Epoch 84 | Training loss: 3.5626198053359985\n",
      "Epoch 85 | Training loss: 3.5777050852775574\n",
      "Epoch 86 | Training loss: 3.419831156730652\n",
      "Epoch 87 | Training loss: 3.4730902314186096\n",
      "Epoch 88 | Training loss: 3.5522517561912537\n",
      "Epoch 89 | Training loss: 3.405149281024933\n",
      "Epoch 90 | Training loss: 3.5505645275115967\n",
      "Epoch 91 | Training loss: 3.5181015133857727\n",
      "Epoch 92 | Training loss: 3.6084397435188293\n",
      "Epoch 93 | Training loss: 3.4599130749702454\n",
      "Epoch 94 | Training loss: 3.445573151111603\n",
      "Epoch 95 | Training loss: 3.511865019798279\n",
      "Epoch 96 | Training loss: 3.60997074842453\n",
      "Epoch 97 | Training loss: 3.582770049571991\n",
      "Epoch 98 | Training loss: 3.4537187814712524\n",
      "Epoch 99 | Training loss: 3.462249994277954\n",
      "Epoch 100 | Training loss: 3.493606150150299\n"
     ]
    }
   ],
   "source": [
    "nnet.to(device)\n",
    "\n",
    "loss_list = []\n",
    "for epoch in range(100):\n",
    "\n",
    "    running_loss = 0\n",
    "    for i, data in enumerate(train_dataloader):\n",
    "\n",
    "        # datos del batch\n",
    "        X_batch, y_batch = data         \n",
    "        X_batch = X_batch.to(device).float()\n",
    "        Y_batch = torch.reshape(y_batch.to(device).float() , (-1,1))\n",
    "        \n",
    "        # forward\n",
    "        optimizer.zero_grad()\n",
    "        y_batch_score = nnet(torch.reshape(X_batch , (-1,1)))\n",
    "\n",
    "        # backpropagation\n",
    "        loss = loss_function(y_batch_score, Y_batch) # calcula el loss\n",
    "        loss.backward() # hacer los gradientes del loss\n",
    "\n",
    "        # actualización de parametros\n",
    "        optimizer.step() \n",
    "\n",
    "        running_loss += loss.item()\n",
    "\n",
    "    # metrics\n",
    "    loss_list.append(running_loss)\n",
    "    print(f\"Epoch {epoch + 1} | Training loss: {running_loss}\")"
   ]
  },
  {
   "cell_type": "markdown",
   "id": "59dd807a",
   "metadata": {},
   "source": [
    "### Prueba de la red neuronal"
   ]
  },
  {
   "cell_type": "code",
   "execution_count": 14,
   "id": "d846857d",
   "metadata": {},
   "outputs": [],
   "source": [
    "def predict(nnet, X):\n",
    "    nnet.eval()\n",
    "    with torch.no_grad():\n",
    "        X = X.to(device).float()\n",
    "        pred = nnet(torch.reshape(X , (-1,1)))\n",
    "        return pred"
   ]
  },
  {
   "cell_type": "markdown",
   "id": "86b9413f",
   "metadata": {},
   "source": [
    "### Prueba sobre el conjunto de train"
   ]
  },
  {
   "cell_type": "code",
   "execution_count": 15,
   "id": "544ce92f",
   "metadata": {},
   "outputs": [],
   "source": [
    "X_tain_tensor = torch.from_numpy(X_train)\n",
    "y_hat_train = predict(nnet, X_tain_tensor)\n",
    "y_hat = y_hat_train.cpu().detach().numpy()"
   ]
  },
  {
   "cell_type": "code",
   "execution_count": 16,
   "id": "7950be01",
   "metadata": {},
   "outputs": [
    {
     "data": {
      "text/plain": [
       "[]"
      ]
     },
     "execution_count": 16,
     "metadata": {},
     "output_type": "execute_result"
    },
    {
     "data": {
      "image/png": "[encoded data removed]",
      "text/plain": [
       "<Figure size 640x480 with 1 Axes>"
      ]
     },
     "metadata": {},
     "output_type": "display_data"
    }
   ],
   "source": [
    "plot = sns.lineplot(x=np.squeeze(X_train), y=np.squeeze(y_train), label='real y')\n",
    "plot = sns.lineplot(x=np.squeeze(X_train), y=np.squeeze(y_hat), label='predicted y')\n",
    "plot.set(xlabel ='x', ylabel='y', title='TRAIN: y real vs y predicted')\n",
    "plot.plot()"
   ]
  },
  {
   "cell_type": "code",
   "execution_count": 17,
   "id": "ab140612",
   "metadata": {},
   "outputs": [
    {
     "name": "stdout",
     "output_type": "stream",
     "text": [
      "MSE train: 3.1050271899149005\n"
     ]
    }
   ],
   "source": [
    "mse = metrics.mean_squared_error(y_train, y_hat)\n",
    "print(f'MSE train: {mse}')"
   ]
  },
  {
   "cell_type": "markdown",
   "id": "39412ed2",
   "metadata": {},
   "source": [
    "### Prueba sobre el conjunto de test"
   ]
  },
  {
   "cell_type": "code",
   "execution_count": 18,
   "id": "4817adb4",
   "metadata": {},
   "outputs": [],
   "source": [
    "X_test_tensor = torch.from_numpy(X_test)\n",
    "y_hat_test = predict(nnet, X_test_tensor)\n",
    "y_hat = y_hat_test.cpu().detach().numpy()"
   ]
  },
  {
   "cell_type": "code",
   "execution_count": 19,
   "id": "ec12596c",
   "metadata": {},
   "outputs": [
    {
     "data": {
      "text/plain": [
       "[]"
      ]
     },
     "execution_count": 19,
     "metadata": {},
     "output_type": "execute_result"
    },
    {
     "data": {
      "image/png": "[encoded data removed]",
      "text/plain": [
       "<Figure size 640x480 with 1 Axes>"
      ]
     },
     "metadata": {},
     "output_type": "display_data"
    }
   ],
   "source": [
    "plot = sns.lineplot(x=np.squeeze(X_test), y=np.squeeze(y_test), label='real y')\n",
    "plot = sns.lineplot(x=np.squeeze(X_test), y=np.squeeze(y_hat), label='predicted y')\n",
    "plot.set(xlabel ='x', ylabel='y', title='TEST: y real vs y predicted')\n",
    "plot.plot()"
   ]
  },
  {
   "cell_type": "code",
   "execution_count": 20,
   "id": "2f7dc75f",
   "metadata": {},
   "outputs": [
    {
     "name": "stdout",
     "output_type": "stream",
     "text": [
      "MSE train: 3.0905201018363506\n"
     ]
    }
   ],
   "source": [
    "mse = metrics.mean_squared_error(y_test, y_hat)\n",
    "print(f'MSE train: {mse}')"
   ]
  },
  {
   "cell_type": "markdown",
   "id": "24098a62",
   "metadata": {},
   "source": [
    "### Conclusiones\n",
    "\n",
    "Se agregaron capas de dropout entre cada una de los bloques linear + ReLu para disminuir el sobreajuste. Además, se incrementó el tamaño de los batches para intentar mejorar la generalización, como resultado, se obtiene un modelo que ajusta mejor los datos en ambos conjuntos: train y test, es posible visualizar esto en los gráficos titulados \"TRAIN: y real vs y predicted\" y \"TEST: y real vs y predicted\"."
   ]
  }
 ],
 "metadata": {
  "kernelspec": {
   "display_name": "Python 3 (ipykernel)",
   "language": "python",
   "name": "python3"
  },
  "language_info": {
   "codemirror_mode": {
    "name": "ipython",
    "version": 3
   },
   "file_extension": ".py",
   "mimetype": "text/x-python",
   "name": "python",
   "nbconvert_exporter": "python",
   "pygments_lexer": "ipython3",
   "version": "3.9.13"
  }
 },
 "nbformat": 4,
 "nbformat_minor": 5
}
