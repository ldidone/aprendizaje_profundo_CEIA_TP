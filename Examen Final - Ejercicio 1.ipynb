{
 "cells": [
  {
   "cell_type": "markdown",
   "id": "5897e82d",
   "metadata": {},
   "source": [
    "# Deep Learning"
   ]
  },
  {
   "cell_type": "markdown",
   "id": "2034ec89",
   "metadata": {},
   "source": [
    "## Examen Agosto 2022"
   ]
  },
  {
   "cell_type": "markdown",
   "id": "a2789f49",
   "metadata": {},
   "source": [
    "## Ejercicio 1.\n",
    "\n",
    "Descargar el dataset desde el [siguiente link](https://drive.google.com/file/d/19SrZcnAWM0k2RGPeeul65wqycci1jS05/view). Entrenar el modelo propuesto a continuación de este enunciado. El modelo está haciendo underfitting, overfitting o un fit correcto. ¿Por qué? Explicar el procedimiento realizado.\n",
    "\n",
    "$ y_{hat} = X^3 W_1 + X^2 W_2 + XW_1 + b$"
   ]
  },
  {
   "cell_type": "markdown",
   "id": "9045274c",
   "metadata": {},
   "source": [
    "### Librerías y funciones globales"
   ]
  },
  {
   "cell_type": "code",
   "execution_count": 1,
   "id": "dd3f2729",
   "metadata": {},
   "outputs": [],
   "source": [
    "import pandas as pd\n",
    "import numpy as np\n",
    "import matplotlib.pyplot as plt\n",
    "import seaborn as sns"
   ]
  },
  {
   "cell_type": "markdown",
   "id": "3a48b635",
   "metadata": {},
   "source": [
    "### 1. EDA"
   ]
  },
  {
   "cell_type": "code",
   "execution_count": 2,
   "id": "e95da685",
   "metadata": {},
   "outputs": [],
   "source": [
    "df = pd.read_csv('data/dataset_1.csv')"
   ]
  },
  {
   "cell_type": "code",
   "execution_count": 3,
   "id": "a464c323",
   "metadata": {},
   "outputs": [
    {
     "data": {
      "text/html": [
       "<div>\n",
       "<style scoped>\n",
       "    .dataframe tbody tr th:only-of-type {\n",
       "        vertical-align: middle;\n",
       "    }\n",
       "\n",
       "    .dataframe tbody tr th {\n",
       "        vertical-align: top;\n",
       "    }\n",
       "\n",
       "    .dataframe thead th {\n",
       "        text-align: right;\n",
       "    }\n",
       "</style>\n",
       "<table border=\"1\" class=\"dataframe\">\n",
       "  <thead>\n",
       "    <tr style=\"text-align: right;\">\n",
       "      <th></th>\n",
       "      <th># X</th>\n",
       "      <th>Y</th>\n",
       "    </tr>\n",
       "  </thead>\n",
       "  <tbody>\n",
       "    <tr>\n",
       "      <th>0</th>\n",
       "      <td>1.791979</td>\n",
       "      <td>4.952906</td>\n",
       "    </tr>\n",
       "    <tr>\n",
       "      <th>1</th>\n",
       "      <td>0.846885</td>\n",
       "      <td>1.424248</td>\n",
       "    </tr>\n",
       "    <tr>\n",
       "      <th>2</th>\n",
       "      <td>1.000300</td>\n",
       "      <td>0.454364</td>\n",
       "    </tr>\n",
       "    <tr>\n",
       "      <th>3</th>\n",
       "      <td>1.884188</td>\n",
       "      <td>6.681510</td>\n",
       "    </tr>\n",
       "    <tr>\n",
       "      <th>4</th>\n",
       "      <td>0.889089</td>\n",
       "      <td>1.211691</td>\n",
       "    </tr>\n",
       "  </tbody>\n",
       "</table>\n",
       "</div>"
      ],
      "text/plain": [
       "        # X         Y\n",
       "0  1.791979  4.952906\n",
       "1  0.846885  1.424248\n",
       "2  1.000300  0.454364\n",
       "3  1.884188  6.681510\n",
       "4  0.889089  1.211691"
      ]
     },
     "execution_count": 3,
     "metadata": {},
     "output_type": "execute_result"
    }
   ],
   "source": [
    "df.head()"
   ]
  },
  {
   "cell_type": "code",
   "execution_count": 4,
   "id": "14b397f7",
   "metadata": {},
   "outputs": [
    {
     "data": {
      "text/plain": [
       "(10000, 2)"
      ]
     },
     "execution_count": 4,
     "metadata": {},
     "output_type": "execute_result"
    }
   ],
   "source": [
    "df.shape"
   ]
  },
  {
   "cell_type": "code",
   "execution_count": 5,
   "id": "8f3d9487",
   "metadata": {},
   "outputs": [
    {
     "data": {
      "text/html": [
       "<div>\n",
       "<style scoped>\n",
       "    .dataframe tbody tr th:only-of-type {\n",
       "        vertical-align: middle;\n",
       "    }\n",
       "\n",
       "    .dataframe tbody tr th {\n",
       "        vertical-align: top;\n",
       "    }\n",
       "\n",
       "    .dataframe thead th {\n",
       "        text-align: right;\n",
       "    }\n",
       "</style>\n",
       "<table border=\"1\" class=\"dataframe\">\n",
       "  <thead>\n",
       "    <tr style=\"text-align: right;\">\n",
       "      <th></th>\n",
       "      <th># X</th>\n",
       "      <th>Y</th>\n",
       "    </tr>\n",
       "  </thead>\n",
       "  <tbody>\n",
       "    <tr>\n",
       "      <th>count</th>\n",
       "      <td>10000.000000</td>\n",
       "      <td>10000.000000</td>\n",
       "    </tr>\n",
       "    <tr>\n",
       "      <th>mean</th>\n",
       "      <td>1.000000</td>\n",
       "      <td>2.029839</td>\n",
       "    </tr>\n",
       "    <tr>\n",
       "      <th>std</th>\n",
       "      <td>0.577437</td>\n",
       "      <td>2.303106</td>\n",
       "    </tr>\n",
       "    <tr>\n",
       "      <th>min</th>\n",
       "      <td>0.000000</td>\n",
       "      <td>-0.897512</td>\n",
       "    </tr>\n",
       "    <tr>\n",
       "      <th>25%</th>\n",
       "      <td>0.500000</td>\n",
       "      <td>0.383598</td>\n",
       "    </tr>\n",
       "    <tr>\n",
       "      <th>50%</th>\n",
       "      <td>1.000000</td>\n",
       "      <td>1.105209</td>\n",
       "    </tr>\n",
       "    <tr>\n",
       "      <th>75%</th>\n",
       "      <td>1.500000</td>\n",
       "      <td>3.831945</td>\n",
       "    </tr>\n",
       "    <tr>\n",
       "      <th>max</th>\n",
       "      <td>2.000000</td>\n",
       "      <td>8.912945</td>\n",
       "    </tr>\n",
       "  </tbody>\n",
       "</table>\n",
       "</div>"
      ],
      "text/plain": [
       "                # X             Y\n",
       "count  10000.000000  10000.000000\n",
       "mean       1.000000      2.029839\n",
       "std        0.577437      2.303106\n",
       "min        0.000000     -0.897512\n",
       "25%        0.500000      0.383598\n",
       "50%        1.000000      1.105209\n",
       "75%        1.500000      3.831945\n",
       "max        2.000000      8.912945"
      ]
     },
     "execution_count": 5,
     "metadata": {},
     "output_type": "execute_result"
    }
   ],
   "source": [
    "df.describe()"
   ]
  },
  {
   "cell_type": "code",
   "execution_count": 6,
   "id": "5ea2183d",
   "metadata": {},
   "outputs": [
    {
     "data": {
      "text/plain": [
       "<AxesSubplot:xlabel='# X', ylabel='Y'>"
      ]
     },
     "execution_count": 6,
     "metadata": {},
     "output_type": "execute_result"
    },
    {
     "data": {
      "image/png": "[encoded data removed]",
      "text/plain": [
       "<Figure size 640x480 with 1 Axes>"
      ]
     },
     "metadata": {},
     "output_type": "display_data"
    }
   ],
   "source": [
    "sns.lineplot(data=df, x=\"# X\", y=\"Y\")"
   ]
  },
  {
   "cell_type": "code",
   "execution_count": 7,
   "id": "6819d70d",
   "metadata": {},
   "outputs": [],
   "source": [
    "x= df[\"# X\"].to_numpy().reshape(-1, 1)\n",
    "y= df[\"Y\"].to_numpy().reshape(-1, 1)"
   ]
  },
  {
   "cell_type": "code",
   "execution_count": 8,
   "id": "3bb2ad06",
   "metadata": {},
   "outputs": [],
   "source": [
    "class Model:\n",
    "    def __init__(self, X, y, seed=42, lr=0.01, batch_size=32):\n",
    "        np.random.seed(seed)\n",
    "        self.W1 = np.random.rand(1)\n",
    "        self.W2 = np.random.rand(1)\n",
    "        self.b = np.zeros(1)\n",
    "        self.X = X\n",
    "        self.y = y\n",
    "        self.lr = lr\n",
    "        self.batch_size = batch_size\n",
    "    \n",
    "    def mean_squeared_error(self, y, y_hat):\n",
    "        mse = (1 / y.shape[0]) * np.sum(np.power((y - y_hat), 2))\n",
    "        return mse\n",
    "    \n",
    "    def forward(self, x):\n",
    "        y_hat = np.power(x, 3) * self.W1 + np.power(x, 2) * self.W2 + x * self.W1 + self.b\n",
    "        return y_hat\n",
    "    \n",
    "    def backward(self, x, y, y_hat):\n",
    "        self.W1 = self.W1 - self.lr * ((-2 * (y - y_hat)) * ((np.power(x, 3)) + x))\n",
    "        self.W2 = self.W2 - self.lr * ((-2 * (y - y_hat)) * ((np.power(x, 2))))\n",
    "        self.b = self.b - self.lr * (-2 * (y - y_hat))\n",
    "        \n",
    "    \n",
    "    def train(self, epochs):\n",
    "        print('Training...')\n",
    "        # SGD\n",
    "        errors = []\n",
    "        for i in range(epochs):\n",
    "            batch_errors = []\n",
    "            start = 0\n",
    "            end = start + self.batch_size\n",
    "            for x, y in zip(self.X[start:end], self.y[start:end]):\n",
    "                y_hat = self.forward(x)\n",
    "                error = self.mean_squeared_error(y, y_hat)\n",
    "                self.backward(x, y, y_hat) #backprop\n",
    "                batch_errors.append(error)\n",
    "                \n",
    "                start = end\n",
    "                end += self.batch_size\n",
    "                \n",
    "            mean_batch_error = np.mean(batch_errors)\n",
    "            print(f'epoch: {i + 1} | MSE loss: {mean_batch_error}')\n",
    "            errors.append(mean_batch_error)\n",
    "        return errors\n",
    "    \n",
    "    def predict(self, x):\n",
    "        return self.forward(x)"
   ]
  },
  {
   "cell_type": "code",
   "execution_count": 9,
   "id": "44044eb3",
   "metadata": {},
   "outputs": [
    {
     "name": "stdout",
     "output_type": "stream",
     "text": [
      "8000\n",
      "2000\n"
     ]
    }
   ],
   "source": [
    "n_epochs = 100\n",
    "n = x.shape[0]\n",
    "idx = np.random.permutation(np.arange(0, n))\n",
    "train_idx = idx[0:int(0.80 * n)]\n",
    "test_idx = idx[int(0.80 * n):]\n",
    "\n",
    "print(len(train_idx))\n",
    "print(len(test_idx))"
   ]
  },
  {
   "cell_type": "code",
   "execution_count": 10,
   "id": "6aa46141",
   "metadata": {},
   "outputs": [
    {
     "name": "stdout",
     "output_type": "stream",
     "text": [
      "(8000, 1)\n",
      "(8000, 1)\n",
      "(2000, 1)\n",
      "(2000, 1)\n"
     ]
    }
   ],
   "source": [
    "X_train = x[train_idx,:]\n",
    "y_train = y[train_idx]\n",
    "X_test = x[test_idx,:]\n",
    "y_test = y[test_idx]\n",
    "\n",
    "print(X_train.shape)\n",
    "print(y_train.shape)\n",
    "print(X_test.shape)\n",
    "print(y_test.shape)"
   ]
  },
  {
   "cell_type": "code",
   "execution_count": 11,
   "id": "7de01848",
   "metadata": {},
   "outputs": [],
   "source": [
    "model = Model(X_train, y_train, batch_size=128)"
   ]
  },
  {
   "cell_type": "code",
   "execution_count": 12,
   "id": "fe54dbf5",
   "metadata": {},
   "outputs": [
    {
     "name": "stdout",
     "output_type": "stream",
     "text": [
      "Training...\n",
      "epoch: 1 | MSE loss: 1.1244388146220166\n",
      "epoch: 2 | MSE loss: 1.05260498202951\n",
      "epoch: 3 | MSE loss: 1.0209021794972994\n",
      "epoch: 4 | MSE loss: 1.002050319299589\n",
      "epoch: 5 | MSE loss: 0.987121831627264\n",
      "epoch: 6 | MSE loss: 0.9737777645172718\n",
      "epoch: 7 | MSE loss: 0.9613168512154846\n",
      "epoch: 8 | MSE loss: 0.9495067616606082\n",
      "epoch: 9 | MSE loss: 0.9382578022511785\n",
      "epoch: 10 | MSE loss: 0.9275251108308582\n",
      "epoch: 11 | MSE loss: 0.9172785612144381\n",
      "epoch: 12 | MSE loss: 0.9074933957078504\n",
      "epoch: 13 | MSE loss: 0.8981472749155821\n",
      "epoch: 14 | MSE loss: 0.8892193229894098\n",
      "epoch: 15 | MSE loss: 0.8806897953946798\n",
      "epoch: 16 | MSE loss: 0.8725399421547576\n",
      "epoch: 17 | MSE loss: 0.8647519336037127\n",
      "epoch: 18 | MSE loss: 0.8573088071755588\n",
      "epoch: 19 | MSE loss: 0.8501944222402005\n",
      "epoch: 20 | MSE loss: 0.8433934188666801\n",
      "epoch: 21 | MSE loss: 0.8368911791598482\n",
      "epoch: 22 | MSE loss: 0.8306737906813739\n",
      "epoch: 23 | MSE loss: 0.8247280117386777\n",
      "epoch: 24 | MSE loss: 0.8190412384135385\n",
      "epoch: 25 | MSE loss: 0.8136014732326251\n",
      "epoch: 26 | MSE loss: 0.8083972953946098\n",
      "epoch: 27 | MSE loss: 0.8034178324751098\n",
      "epoch: 28 | MSE loss: 0.7986527335354022\n",
      "epoch: 29 | MSE loss: 0.7940921435647622\n",
      "epoch: 30 | MSE loss: 0.789726679189879\n",
      "epoch: 31 | MSE loss: 0.7855474055881397\n",
      "epoch: 32 | MSE loss: 0.7815458145447444\n",
      "epoch: 33 | MSE loss: 0.7777138035966271\n",
      "epoch: 34 | MSE loss: 0.7740436562089996\n",
      "epoch: 35 | MSE loss: 0.770528022933062\n",
      "epoch: 36 | MSE loss: 0.7671599034959672\n",
      "epoch: 37 | MSE loss: 0.7639326297766187\n",
      "epoch: 38 | MSE loss: 0.7608398496231505\n",
      "epoch: 39 | MSE loss: 0.7578755114701814\n",
      "epoch: 40 | MSE loss: 0.7550338497160248\n",
      "epoch: 41 | MSE loss: 0.7523093708220109\n",
      "epoch: 42 | MSE loss: 0.7496968400979813\n",
      "epoch: 43 | MSE loss: 0.7471912691398161\n",
      "epoch: 44 | MSE loss: 0.7447879038865479\n",
      "epoch: 45 | MSE loss: 0.7424822132662432\n",
      "epoch: 46 | MSE loss: 0.740269878401379\n",
      "epoch: 47 | MSE loss: 0.7381467823458897\n",
      "epoch: 48 | MSE loss: 0.736109000327466\n",
      "epoch: 49 | MSE loss: 0.7341527904699824\n",
      "epoch: 50 | MSE loss: 0.7322745849722285\n",
      "epoch: 51 | MSE loss: 0.7304709817202458\n",
      "epoch: 52 | MSE loss: 0.7287387363117654\n",
      "epoch: 53 | MSE loss: 0.7270747544722833\n",
      "epoch: 54 | MSE loss: 0.725476084843328\n",
      "epoch: 55 | MSE loss: 0.7239399121244678\n",
      "epoch: 56 | MSE loss: 0.7224635505515062\n",
      "epoch: 57 | MSE loss: 0.7210444376941956\n",
      "epoch: 58 | MSE loss: 0.7196801285576355\n",
      "epoch: 59 | MSE loss: 0.7183682899723041\n",
      "epoch: 60 | MSE loss: 0.7171066952584279\n",
      "epoch: 61 | MSE loss: 0.715893219151099\n",
      "epoch: 62 | MSE loss: 0.7147258329732425\n",
      "epoch: 63 | MSE loss: 0.7136026000441562\n",
      "epoch: 64 | MSE loss: 0.7125216713119822\n",
      "epoch: 65 | MSE loss: 0.7114812811990296\n",
      "epoch: 66 | MSE loss: 0.7104797436494259\n",
      "epoch: 67 | MSE loss: 0.7095154483691073\n",
      "epoch: 68 | MSE loss: 0.7085868572486413\n",
      "epoch: 69 | MSE loss: 0.7076925009598585\n",
      "epoch: 70 | MSE loss: 0.7068309757177103\n",
      "epoch: 71 | MSE loss: 0.7060009401992116\n",
      "epoch: 72 | MSE loss: 0.7052011126117167\n",
      "epoch: 73 | MSE loss: 0.704430267903166\n",
      "epoch: 74 | MSE loss: 0.7036872351073161\n",
      "epoch: 75 | MSE loss: 0.7029708948172999\n",
      "epoch: 76 | MSE loss: 0.702280176781211\n",
      "epoch: 77 | MSE loss: 0.7016140576136928\n",
      "epoch: 78 | MSE loss: 0.7009715586178492\n",
      "epoch: 79 | MSE loss: 0.7003517437120366\n",
      "epoch: 80 | MSE loss: 0.6997537174564017\n",
      "epoch: 81 | MSE loss: 0.6991766231742547\n",
      "epoch: 82 | MSE loss: 0.6986196411636378\n",
      "epoch: 83 | MSE loss: 0.6980819869946548\n",
      "epoch: 84 | MSE loss: 0.6975629098883707\n",
      "epoch: 85 | MSE loss: 0.6970616911732743\n",
      "epoch: 86 | MSE loss: 0.696577642815517\n",
      "epoch: 87 | MSE loss: 0.6961101060193153\n",
      "epoch: 88 | MSE loss: 0.6956584498940872\n",
      "epoch: 89 | MSE loss: 0.6952220701850609\n",
      "epoch: 90 | MSE loss: 0.6948003880642604\n",
      "epoch: 91 | MSE loss: 0.694392848978922\n",
      "epoch: 92 | MSE loss: 0.6939989215545384\n",
      "epoch: 93 | MSE loss: 0.6936180965498748\n",
      "epoch: 94 | MSE loss: 0.6932498858614198\n",
      "epoch: 95 | MSE loss: 0.6928938215748753\n",
      "epoch: 96 | MSE loss: 0.6925494550613915\n",
      "epoch: 97 | MSE loss: 0.6922163561163798\n",
      "epoch: 98 | MSE loss: 0.6918941121388283\n",
      "epoch: 99 | MSE loss: 0.6915823273491726\n",
      "epoch: 100 | MSE loss: 0.6912806220438314\n"
     ]
    }
   ],
   "source": [
    "history = model.train(n_epochs)"
   ]
  },
  {
   "cell_type": "code",
   "execution_count": 13,
   "id": "95f92c5b",
   "metadata": {},
   "outputs": [],
   "source": [
    "y_hat = model.predict(X_train)"
   ]
  },
  {
   "cell_type": "code",
   "execution_count": 14,
   "id": "ca48e1eb",
   "metadata": {},
   "outputs": [
    {
     "data": {
      "text/plain": [
       "[]"
      ]
     },
     "execution_count": 14,
     "metadata": {},
     "output_type": "execute_result"
    },
    {
     "data": {
      "image/png": "[encoded data removed]",
      "text/plain": [
       "<Figure size 640x480 with 1 Axes>"
      ]
     },
     "metadata": {},
     "output_type": "display_data"
    }
   ],
   "source": [
    "plot = sns.lineplot(x=np.squeeze(X_train), y=np.squeeze(y_train), label='real y')\n",
    "plot = sns.lineplot(x=np.squeeze(X_train), y=np.squeeze(y_hat), label='predicted y')\n",
    "plot.set(xlabel ='x', ylabel='y', title='TRAIN: y real vs y predicted')\n",
    "plot.plot()"
   ]
  },
  {
   "cell_type": "code",
   "execution_count": 15,
   "id": "9696741a",
   "metadata": {},
   "outputs": [
    {
     "data": {
      "image/png": "[encoded data removed]",
      "text/plain": [
       "<Figure size 640x480 with 1 Axes>"
      ]
     },
     "metadata": {},
     "output_type": "display_data"
    }
   ],
   "source": [
    "epochs = [i for i in range(n_epochs)]\n",
    "plt.plot(epochs, history)\n",
    "plt.xlim([0, n_epochs])\n",
    "plt.title('Loss by epoch')\n",
    "plt.xlabel('epoch')\n",
    "plt.ylabel('loss')\n",
    "plt.show()"
   ]
  },
  {
   "cell_type": "code",
   "execution_count": 16,
   "id": "383994c7",
   "metadata": {},
   "outputs": [
    {
     "name": "stdout",
     "output_type": "stream",
     "text": [
      "TRAIN MSE: 0.7971667270005222\n"
     ]
    }
   ],
   "source": [
    "# Calculate Train MSE:\n",
    "y_hat = model.predict(X_train)\n",
    "MSE = model.mean_squeared_error(y_train, y_hat)\n",
    "print(f'TRAIN MSE: {MSE}')"
   ]
  },
  {
   "cell_type": "code",
   "execution_count": 17,
   "id": "fbb8a6ec",
   "metadata": {},
   "outputs": [
    {
     "name": "stdout",
     "output_type": "stream",
     "text": [
      "TRAIN MSE: 0.7993005654868768\n"
     ]
    }
   ],
   "source": [
    "# Calculate test MSE:\n",
    "y_hat = model.predict(X_test)\n",
    "MSE = model.mean_squeared_error(y_test, y_hat)\n",
    "print(f'TRAIN MSE: {MSE}')"
   ]
  },
  {
   "cell_type": "markdown",
   "id": "bc3ef86f",
   "metadata": {},
   "source": [
    "### Conclusiones\n",
    "\n",
    "Podemos observar que el modelo está haciendo un fit correcto sobre el dataset propuesto. Esto se debe a que el grado de la función proporcionada es menor al necesario para replicar exactamente el comportamiento de los datos. Esto se evidencia en la gráfica 'TRAIN: y real vs y predicted', donde podemos observar que si bien la curva del y_predicted sigue la misma tendencia que la de y_real, esta no copia exactamente cada curva. Además al calcular la métrica de MSE para el conjunto de datos de test, obtenemos resultados muy similares a los obtenidos para el conjunto de entrenamiento.\n",
    "\n",
    "El procedimiento realizado para optimizar la función, fue el siguiente:\n",
    "* Se escogió como función de pérdida MSE, por tratarse de un problema de regresión.\n",
    "* Se implementó el algoritmo de mini batch para el entrenamiento del modelo, donde:\n",
    "    - Para calcular el error se utilizó MSE, definida de la siguiente manera: \n",
    "   $J(y, y_{hat}) = (y - y_{hat})^2$ donde su derivada respecto de y_hat es\n",
    "   $\\frac{\\partial J}{\\partial y_{hat} } = - 2 (y - y_{hat})$\n",
    "    - Para el paso forward se empleó como modelo la función propuesta.\n",
    "    - Para el paso backward se computaron los nuevos valores de W1, W2 y b a partir de las siguientes derivadas parciales empleando regla de la cadena:\n",
    "    \n",
    "   $\\frac{\\partial J}{\\partial W1} = \\frac{\\partial J}{\\partial y_{hat} } . \\frac{\\partial y_{hat}}{\\partial W1 } = - 2 (y - y_{hat}) . (x^3 + x) $\t\n",
    "   $\\frac{\\partial J}{\\partial W2} = \\frac{\\partial J}{\\partial y_{hat} } . \\frac{\\partial y_{hat}}{\\partial W2 } = - 2 (y - y_{hat}) . (x^2) $\t\n",
    "   $\\frac{\\partial J}{\\partial b} = \\frac{\\partial J}{\\partial y_{hat} } . \\frac{\\partial y_{hat}}{\\partial b } = - 2 (y - y_{hat})$\t\n",
    "\n",
    "  "
   ]
  },
  {
   "cell_type": "markdown",
   "id": "838c1a62",
   "metadata": {},
   "source": [
    "***"
   ]
  }
 ],
 "metadata": {
  "kernelspec": {
   "display_name": "Python 3 (ipykernel)",
   "language": "python",
   "name": "python3"
  },
  "language_info": {
   "codemirror_mode": {
    "name": "ipython",
    "version": 3
   },
   "file_extension": ".py",
   "mimetype": "text/x-python",
   "name": "python",
   "nbconvert_exporter": "python",
   "pygments_lexer": "ipython3",
   "version": "3.9.5"
  }
 },
 "nbformat": 4,
 "nbformat_minor": 5
}
