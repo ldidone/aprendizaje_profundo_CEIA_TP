{
 "cells": [
  {
   "cell_type": "markdown",
   "id": "9093032c",
   "metadata": {},
   "source": [
    "# Deep Learning"
   ]
  },
  {
   "cell_type": "markdown",
   "id": "4fff9085",
   "metadata": {},
   "source": [
    "## Examen Agosto 2022"
   ]
  },
  {
   "cell_type": "markdown",
   "id": "16a9143b",
   "metadata": {},
   "source": [
    "## Ejercicio 2 - Parte 1 (creación del modelo sobreajustado)\n",
    "\n",
    "Utilizando el mismo dataset que en el link anterior, diseñar una red neuronal que haga un overfitting sobre el dataset. ¿Cómo saben que la red neuronal está haciendo overfitting? Agregar regularización y encontrar los parámetros correctos para lograr un buen fit. Explicar el procedimiento realizado."
   ]
  },
  {
   "cell_type": "markdown",
   "id": "97f3281e",
   "metadata": {},
   "source": [
    "### Librerías y funciones globales"
   ]
  },
  {
   "cell_type": "code",
   "execution_count": 1,
   "id": "effddd0b",
   "metadata": {},
   "outputs": [],
   "source": [
    "import pandas as pd\n",
    "import numpy as np\n",
    "import matplotlib.pyplot as plt\n",
    "import seaborn as sns\n",
    "\n",
    "import torch\n",
    "from torch.utils.data import Dataset, DataLoader\n",
    "from sklearn import metrics"
   ]
  },
  {
   "cell_type": "markdown",
   "id": "76dc638d",
   "metadata": {},
   "source": [
    "### Lectura de datos y creación de dataloaders"
   ]
  },
  {
   "cell_type": "code",
   "execution_count": 2,
   "id": "8522cd16",
   "metadata": {},
   "outputs": [],
   "source": [
    "df = pd.read_csv('data/dataset_1.csv')"
   ]
  },
  {
   "cell_type": "code",
   "execution_count": 3,
   "id": "d0a40a61",
   "metadata": {},
   "outputs": [],
   "source": [
    "x= df[\"# X\"].to_numpy()\n",
    "y= df[\"Y\"].to_numpy()"
   ]
  },
  {
   "cell_type": "code",
   "execution_count": 4,
   "id": "6bc677f1",
   "metadata": {},
   "outputs": [],
   "source": [
    "n = x.shape[0]\n",
    "idx = np.random.permutation(np.arange(0, n))\n",
    "train_idx = idx[0:int(0.80 * n)]\n",
    "test_idx = idx[int(0.80 * n):]"
   ]
  },
  {
   "cell_type": "code",
   "execution_count": 5,
   "id": "e2a89d5c",
   "metadata": {},
   "outputs": [
    {
     "name": "stdout",
     "output_type": "stream",
     "text": [
      "(8000,)\n",
      "(8000,)\n",
      "(2000,)\n",
      "(2000,)\n"
     ]
    }
   ],
   "source": [
    "X_train = x[train_idx]\n",
    "y_train = y[train_idx]\n",
    "X_test = x[test_idx]\n",
    "y_test = y[test_idx]\n",
    "\n",
    "print(X_train.shape)\n",
    "print(y_train.shape)\n",
    "print(X_test.shape)\n",
    "print(y_test.shape)"
   ]
  },
  {
   "cell_type": "code",
   "execution_count": 6,
   "id": "1b8c09f9",
   "metadata": {},
   "outputs": [],
   "source": [
    "class MyDataset(Dataset):\n",
    "\n",
    "    def __init__(self, X, y):\n",
    "        super().__init__()\n",
    "        self.X = X\n",
    "        self.y = y\n",
    "\n",
    "    def __len__(self):\n",
    "        return self.X.shape[0]\n",
    "\n",
    "    def __getitem__(self, idx):\n",
    "        return self.X[idx], self.y[idx]"
   ]
  },
  {
   "cell_type": "code",
   "execution_count": 7,
   "id": "175aacbd",
   "metadata": {},
   "outputs": [],
   "source": [
    "train = MyDataset(X_train, y_train)\n",
    "test = MyDataset(X_test, y_test)"
   ]
  },
  {
   "cell_type": "code",
   "execution_count": 8,
   "id": "04af5a80",
   "metadata": {},
   "outputs": [],
   "source": [
    "train_dataloader = DataLoader(train, batch_size=512, shuffle=False)\n",
    "test_dataloader = DataLoader(test, batch_size=512, shuffle=False)"
   ]
  },
  {
   "cell_type": "markdown",
   "id": "ef98fab5",
   "metadata": {},
   "source": [
    "### Definición de la red neuronal"
   ]
  },
  {
   "cell_type": "code",
   "execution_count": 9,
   "id": "0a7e8983",
   "metadata": {},
   "outputs": [],
   "source": [
    "class NNet(torch.nn.Module):\n",
    "\n",
    "    def __init__(self):\n",
    "        super().__init__()\n",
    "        self.linear_1 = torch.nn.Linear(in_features=1, out_features=128, bias=True)\n",
    "        self.relu_1 = torch.nn.ReLU()\n",
    "        self.linear_2 = torch.nn.Linear(in_features=128, out_features=256, bias=True)\n",
    "        self.relu_2 = torch.nn.ReLU()\n",
    "        self.linear_3 = torch.nn.Linear(in_features=256, out_features=128, bias=True)\n",
    "        self.relu_3 = torch.nn.ReLU()\n",
    "        self.output = torch.nn.Linear(in_features=128, out_features=1, bias=True)\n",
    "\n",
    "    def forward(self, x):\n",
    "        x = self.linear_1(x)\n",
    "        x = self.relu_1(x)\n",
    "        x = self.linear_2(x)\n",
    "        x = self.relu_2(x)\n",
    "        x = self.linear_3(x)\n",
    "        x = self.relu_3(x)\n",
    "        x = self.output(x)\n",
    "        return x"
   ]
  },
  {
   "cell_type": "code",
   "execution_count": 10,
   "id": "0dd5c16c",
   "metadata": {},
   "outputs": [],
   "source": [
    "nnet = NNet()"
   ]
  },
  {
   "cell_type": "code",
   "execution_count": 11,
   "id": "3443d781",
   "metadata": {},
   "outputs": [],
   "source": [
    "optimizer = torch.optim.Adam(nnet.parameters(), lr=0.001)\n",
    "loss_function = torch.nn.MSELoss()"
   ]
  },
  {
   "cell_type": "code",
   "execution_count": 12,
   "id": "7bfd387b",
   "metadata": {},
   "outputs": [
    {
     "name": "stdout",
     "output_type": "stream",
     "text": [
      "cuda:0\n"
     ]
    }
   ],
   "source": [
    "device = \"\"\n",
    "if torch.cuda.is_available():\n",
    "    device = \"cuda:0\"\n",
    "else:\n",
    "    device = \"cpu\"\n",
    "\n",
    "print(device)"
   ]
  },
  {
   "cell_type": "markdown",
   "id": "a55bd95c",
   "metadata": {},
   "source": [
    "### Entrenamiento de la red neuronal"
   ]
  },
  {
   "cell_type": "code",
   "execution_count": 13,
   "id": "3d2c194f",
   "metadata": {},
   "outputs": [
    {
     "name": "stdout",
     "output_type": "stream",
     "text": [
      "Epoch 1 | Training loss: 83.58222222328186\n",
      "Epoch 2 | Training loss: 33.442917227745056\n",
      "Epoch 3 | Training loss: 14.982912480831146\n",
      "Epoch 4 | Training loss: 9.967408895492554\n",
      "Epoch 5 | Training loss: 8.434082090854645\n",
      "Epoch 6 | Training loss: 7.835878670215607\n",
      "Epoch 7 | Training loss: 7.529052436351776\n",
      "Epoch 8 | Training loss: 7.292296528816223\n",
      "Epoch 9 | Training loss: 7.039076149463654\n",
      "Epoch 10 | Training loss: 6.818549573421478\n",
      "Epoch 11 | Training loss: 6.5874960124492645\n",
      "Epoch 12 | Training loss: 6.340814083814621\n",
      "Epoch 13 | Training loss: 6.071862906217575\n",
      "Epoch 14 | Training loss: 5.7679822742938995\n",
      "Epoch 15 | Training loss: 5.433931112289429\n",
      "Epoch 16 | Training loss: 5.073634475469589\n",
      "Epoch 17 | Training loss: 4.689610809087753\n",
      "Epoch 18 | Training loss: 4.314234867691994\n",
      "Epoch 19 | Training loss: 3.9862236827611923\n",
      "Epoch 20 | Training loss: 3.715486019849777\n",
      "Epoch 21 | Training loss: 3.5083126723766327\n",
      "Epoch 22 | Training loss: 3.3613520115613937\n",
      "Epoch 23 | Training loss: 3.27407905459404\n",
      "Epoch 24 | Training loss: 3.210201844573021\n",
      "Epoch 25 | Training loss: 3.1499111503362656\n",
      "Epoch 26 | Training loss: 3.0915666073560715\n",
      "Epoch 27 | Training loss: 3.033772334456444\n",
      "Epoch 28 | Training loss: 2.976632609963417\n",
      "Epoch 29 | Training loss: 2.9192041158676147\n",
      "Epoch 30 | Training loss: 2.8621710389852524\n",
      "Epoch 31 | Training loss: 2.803911939263344\n",
      "Epoch 32 | Training loss: 2.745296850800514\n",
      "Epoch 33 | Training loss: 2.6857022047042847\n",
      "Epoch 34 | Training loss: 2.6258388608694077\n",
      "Epoch 35 | Training loss: 2.5657451450824738\n",
      "Epoch 36 | Training loss: 2.50588196516037\n",
      "Epoch 37 | Training loss: 2.4453313052654266\n",
      "Epoch 38 | Training loss: 2.3842072933912277\n",
      "Epoch 39 | Training loss: 2.321311168372631\n",
      "Epoch 40 | Training loss: 2.254372298717499\n",
      "Epoch 41 | Training loss: 2.182900443673134\n",
      "Epoch 42 | Training loss: 2.1061664298176765\n",
      "Epoch 43 | Training loss: 2.0244404524564743\n",
      "Epoch 44 | Training loss: 1.9364262372255325\n",
      "Epoch 45 | Training loss: 1.8408455178141594\n",
      "Epoch 46 | Training loss: 1.735116995871067\n",
      "Epoch 47 | Training loss: 1.6161576509475708\n",
      "Epoch 48 | Training loss: 1.488237977027893\n",
      "Epoch 49 | Training loss: 1.3768131881952286\n",
      "Epoch 50 | Training loss: 1.286957398056984\n",
      "Epoch 51 | Training loss: 1.1981751695275307\n",
      "Epoch 52 | Training loss: 1.1235983967781067\n",
      "Epoch 53 | Training loss: 1.0615118071436882\n",
      "Epoch 54 | Training loss: 1.003400132060051\n",
      "Epoch 55 | Training loss: 0.9380589872598648\n",
      "Epoch 56 | Training loss: 0.8609768263995647\n",
      "Epoch 57 | Training loss: 0.7791035622358322\n",
      "Epoch 58 | Training loss: 0.702119629830122\n",
      "Epoch 59 | Training loss: 0.6333039700984955\n",
      "Epoch 60 | Training loss: 0.5688564013689756\n",
      "Epoch 61 | Training loss: 0.5085411109030247\n",
      "Epoch 62 | Training loss: 0.45398026145994663\n",
      "Epoch 63 | Training loss: 0.4050768408924341\n",
      "Epoch 64 | Training loss: 0.35992194525897503\n",
      "Epoch 65 | Training loss: 0.3159638149663806\n",
      "Epoch 66 | Training loss: 0.27187771163880825\n",
      "Epoch 67 | Training loss: 0.22735318634659052\n",
      "Epoch 68 | Training loss: 0.18476432841271162\n",
      "Epoch 69 | Training loss: 0.1482148002833128\n",
      "Epoch 70 | Training loss: 0.12260804558172822\n",
      "Epoch 71 | Training loss: 0.1066882312297821\n",
      "Epoch 72 | Training loss: 0.09387162467464805\n",
      "Epoch 73 | Training loss: 0.08288646209985018\n",
      "Epoch 74 | Training loss: 0.07324548065662384\n",
      "Epoch 75 | Training loss: 0.06444120034575462\n",
      "Epoch 76 | Training loss: 0.05638891598209739\n",
      "Epoch 77 | Training loss: 0.04945778427645564\n",
      "Epoch 78 | Training loss: 0.04378753458149731\n",
      "Epoch 79 | Training loss: 0.03927460918202996\n",
      "Epoch 80 | Training loss: 0.03561630588956177\n",
      "Epoch 81 | Training loss: 0.03249828377738595\n",
      "Epoch 82 | Training loss: 0.029563057702034712\n",
      "Epoch 83 | Training loss: 0.026883409125730395\n",
      "Epoch 84 | Training loss: 0.024515575845725834\n",
      "Epoch 85 | Training loss: 0.022438836051151156\n",
      "Epoch 86 | Training loss: 0.020867622341029346\n",
      "Epoch 87 | Training loss: 0.019547078292816877\n",
      "Epoch 88 | Training loss: 0.018528091022744775\n",
      "Epoch 89 | Training loss: 0.01784149039303884\n",
      "Epoch 90 | Training loss: 0.0173029953148216\n",
      "Epoch 91 | Training loss: 0.016767813765909523\n",
      "Epoch 92 | Training loss: 0.01626000745454803\n",
      "Epoch 93 | Training loss: 0.01686168956803158\n",
      "Epoch 94 | Training loss: 0.018292065476998687\n",
      "Epoch 95 | Training loss: 0.01778485474642366\n",
      "Epoch 96 | Training loss: 0.014294130553025752\n",
      "Epoch 97 | Training loss: 0.012171026086434722\n",
      "Epoch 98 | Training loss: 0.011227043578401208\n",
      "Epoch 99 | Training loss: 0.011602721584495157\n",
      "Epoch 100 | Training loss: 0.010650766780599952\n"
     ]
    }
   ],
   "source": [
    "nnet.to(device)\n",
    "\n",
    "loss_list = []\n",
    "for epoch in range(100):\n",
    "\n",
    "    running_loss = 0\n",
    "    for i, data in enumerate(train_dataloader):\n",
    "\n",
    "        # datos del batch\n",
    "        X_batch, y_batch = data         \n",
    "        X_batch = X_batch.to(device).float()\n",
    "        Y_batch = torch.reshape(y_batch.to(device).float() , (-1,1))\n",
    "        \n",
    "        # forward\n",
    "        optimizer.zero_grad()\n",
    "        y_batch_score = nnet(torch.reshape(X_batch , (-1,1)))\n",
    "\n",
    "        # backpropagation\n",
    "        loss = loss_function(y_batch_score, Y_batch) # calcula el loss\n",
    "        loss.backward() # hacer los gradientes del loss\n",
    "\n",
    "        # actualización de parametros\n",
    "        optimizer.step() \n",
    "\n",
    "        running_loss += loss.item()\n",
    "\n",
    "    # metrics\n",
    "    loss_list.append(running_loss)\n",
    "    print(f\"Epoch {epoch + 1} | Training loss: {running_loss}\")"
   ]
  },
  {
   "cell_type": "markdown",
   "id": "bb91e71c",
   "metadata": {},
   "source": [
    "### Prueba de la red neuronal"
   ]
  },
  {
   "cell_type": "code",
   "execution_count": 14,
   "id": "d846857d",
   "metadata": {},
   "outputs": [],
   "source": [
    "def predict(nnet, X):\n",
    "    nnet.eval()\n",
    "    with torch.no_grad():\n",
    "        X = X.to(device).float()\n",
    "        pred = nnet(torch.reshape(X , (-1,1)))\n",
    "        return pred"
   ]
  },
  {
   "cell_type": "markdown",
   "id": "c313d0f7",
   "metadata": {},
   "source": [
    "### Prueba sobre el conjunto de train"
   ]
  },
  {
   "cell_type": "code",
   "execution_count": 15,
   "id": "18d7d1f2",
   "metadata": {},
   "outputs": [],
   "source": [
    "X_tain_tensor = torch.from_numpy(X_train)\n",
    "y_hat_train = predict(nnet, X_tain_tensor)\n",
    "y_hat = y_hat_train.cpu().detach().numpy()"
   ]
  },
  {
   "cell_type": "code",
   "execution_count": 16,
   "id": "f1f846a6",
   "metadata": {},
   "outputs": [
    {
     "data": {
      "text/plain": [
       "[]"
      ]
     },
     "execution_count": 16,
     "metadata": {},
     "output_type": "execute_result"
    },
    {
     "data": {
      "image/png": "[encoded data removed]",
      "text/plain": [
       "<Figure size 640x480 with 1 Axes>"
      ]
     },
     "metadata": {},
     "output_type": "display_data"
    }
   ],
   "source": [
    "plot = sns.lineplot(x=np.squeeze(X_train), y=np.squeeze(y_train), label='real y')\n",
    "plot = sns.lineplot(x=np.squeeze(X_train), y=np.squeeze(y_hat), label='predicted y')\n",
    "plot.set(xlabel ='x', ylabel='y', title='TRAIN: y real vs y predicted')\n",
    "plot.plot()"
   ]
  },
  {
   "cell_type": "code",
   "execution_count": 17,
   "id": "ab140612",
   "metadata": {},
   "outputs": [
    {
     "name": "stdout",
     "output_type": "stream",
     "text": [
      "MSE train: 0.0006513503858784407\n"
     ]
    }
   ],
   "source": [
    "mse = metrics.mean_squared_error(y_train, y_hat)\n",
    "print(f'MSE train: {mse}')"
   ]
  },
  {
   "cell_type": "markdown",
   "id": "570304af",
   "metadata": {},
   "source": [
    "### Prueba sobre el conjunto de test"
   ]
  },
  {
   "cell_type": "code",
   "execution_count": 18,
   "id": "5d169688",
   "metadata": {},
   "outputs": [],
   "source": [
    "X_test_tensor = torch.from_numpy(X_test)\n",
    "y_hat_test = predict(nnet, X_test_tensor)\n",
    "y_hat = y_hat_test.cpu().detach().numpy()"
   ]
  },
  {
   "cell_type": "code",
   "execution_count": 19,
   "id": "0421da56",
   "metadata": {},
   "outputs": [
    {
     "data": {
      "text/plain": [
       "[]"
      ]
     },
     "execution_count": 19,
     "metadata": {},
     "output_type": "execute_result"
    },
    {
     "data": {
      "image/png": "[encoded data removed]",
      "text/plain": [
       "<Figure size 640x480 with 1 Axes>"
      ]
     },
     "metadata": {},
     "output_type": "display_data"
    }
   ],
   "source": [
    "plot = sns.lineplot(x=np.squeeze(X_test), y=np.squeeze(y_test), label='real y')\n",
    "plot = sns.lineplot(x=np.squeeze(X_test), y=np.squeeze(y_hat), label='predicted y')\n",
    "plot.set(xlabel ='x', ylabel='y', title='TEST: y real vs y predicted')\n",
    "plot.plot()"
   ]
  },
  {
   "cell_type": "code",
   "execution_count": 20,
   "id": "b1c4ae22",
   "metadata": {},
   "outputs": [
    {
     "name": "stdout",
     "output_type": "stream",
     "text": [
      "MSE train: 0.000661643989386551\n"
     ]
    }
   ],
   "source": [
    "mse = metrics.mean_squared_error(y_test, y_hat)\n",
    "print(f'MSE train: {mse}')"
   ]
  },
  {
   "cell_type": "markdown",
   "id": "4fcb5bbd",
   "metadata": {},
   "source": [
    "### Conclusiones\n",
    "\n",
    "Es posible determinar que el modelo está haciendo overfitting debido a que al observar la curva predicha por el modelo (tanto en train como en test) es posible notar que dicha curva \"copia\" perfectamente la trayectoria descripta por los datos originales, evidenciando de esta manera sobreajuste. Además, al calcular la métrica MSE para el conjunto de train y de test, notamos valores tendientes a 0 y muy similares entre sí (otro indicio de overfit).\n",
    "Una propuesta de solución al problema de overfit se presenta en el notebook \"Examen Final - Ejercicio 2- Parte 2\""
   ]
  }
 ],
 "metadata": {
  "kernelspec": {
   "display_name": "Python 3 (ipykernel)",
   "language": "python",
   "name": "python3"
  },
  "language_info": {
   "codemirror_mode": {
    "name": "ipython",
    "version": 3
   },
   "file_extension": ".py",
   "mimetype": "text/x-python",
   "name": "python",
   "nbconvert_exporter": "python",
   "pygments_lexer": "ipython3",
   "version": "3.9.13"
  }
 },
 "nbformat": 4,
 "nbformat_minor": 5
}
