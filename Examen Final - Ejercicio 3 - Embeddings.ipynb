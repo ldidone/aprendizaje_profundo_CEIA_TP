{
 "cells": [
  {
   "cell_type": "markdown",
   "id": "02d5dfff",
   "metadata": {},
   "source": [
    "# Deep Learning"
   ]
  },
  {
   "cell_type": "markdown",
   "id": "410d17cf",
   "metadata": {},
   "source": [
    "## Examen Agosto 2022 - Embeddings"
   ]
  },
  {
   "cell_type": "markdown",
   "id": "5891d146",
   "metadata": {},
   "source": [
    "## Ejercicio 3.\n",
    "\n",
    "Descargar el dataset desde el [siguiente link](https://drive.google.com/file/d/1r1vnIW0jL1LJBrT_QVcQz_Sjizwa0adR/view). El dataset son compras de productos que diferentes clientes realizaron durante un black sales. El dataset contiene información sobre las transacciones y el objetivo es poder utilizar el dataset para crear diferentes modelos que puedan predecir cuánto un cliente está dispuesto a gastar en un producto en el futuro.\n",
    "Particularmente, vamos a tratar este problema como una clasificación binaria donde queremos averiguar si el cliente va a gastar mucha plata (más de 9000) o poca plata (menos de 9000).\n",
    "- a) Entrenar un modelo de deep learning que no utilice embeddings.\n",
    "- b) Entrenar un modelo de deep learning que utilice embeddings tanto para los productos como los usuarios. Realizar el mapeo de identificador de producto y usuarios a indices antes de separar el dataset en training, validation y testing.\n",
    "- c) Compare el score de cada modelo y comente lo necesario."
   ]
  },
  {
   "cell_type": "markdown",
   "id": "06189a13",
   "metadata": {},
   "source": [
    "### Librerías y funciones globales"
   ]
  },
  {
   "cell_type": "code",
   "execution_count": 1,
   "id": "312ac912",
   "metadata": {},
   "outputs": [],
   "source": [
    "import pandas as pd\n",
    "import numpy as np\n",
    "import matplotlib.pyplot as plt\n",
    "import seaborn as sns\n",
    "\n",
    "import torch\n",
    "from torch.utils.data import Dataset, DataLoader\n",
    "from sklearn import metrics"
   ]
  },
  {
   "cell_type": "markdown",
   "id": "54be1282",
   "metadata": {},
   "source": [
    "### 1. EDA"
   ]
  },
  {
   "cell_type": "code",
   "execution_count": 2,
   "id": "0499f166",
   "metadata": {},
   "outputs": [],
   "source": [
    "dataset = pd.read_csv('data/dataset_2.csv')"
   ]
  },
  {
   "cell_type": "code",
   "execution_count": 3,
   "id": "533be531",
   "metadata": {},
   "outputs": [],
   "source": [
    "df = dataset.copy(deep=True)"
   ]
  },
  {
   "cell_type": "code",
   "execution_count": 4,
   "id": "9d6354a6",
   "metadata": {},
   "outputs": [
    {
     "data": {
      "text/html": [
       "<div>\n",
       "<style scoped>\n",
       "    .dataframe tbody tr th:only-of-type {\n",
       "        vertical-align: middle;\n",
       "    }\n",
       "\n",
       "    .dataframe tbody tr th {\n",
       "        vertical-align: top;\n",
       "    }\n",
       "\n",
       "    .dataframe thead th {\n",
       "        text-align: right;\n",
       "    }\n",
       "</style>\n",
       "<table border=\"1\" class=\"dataframe\">\n",
       "  <thead>\n",
       "    <tr style=\"text-align: right;\">\n",
       "      <th></th>\n",
       "      <th>User_ID</th>\n",
       "      <th>Product_ID</th>\n",
       "      <th>Gender</th>\n",
       "      <th>Age</th>\n",
       "      <th>Occupation</th>\n",
       "      <th>City_Category</th>\n",
       "      <th>Stay_In_Current_City_Years</th>\n",
       "      <th>Marital_Status</th>\n",
       "      <th>Product_Category_1</th>\n",
       "      <th>Product_Category_2</th>\n",
       "      <th>Product_Category_3</th>\n",
       "      <th>Purchase</th>\n",
       "    </tr>\n",
       "  </thead>\n",
       "  <tbody>\n",
       "    <tr>\n",
       "      <th>0</th>\n",
       "      <td>1000001</td>\n",
       "      <td>P00069042</td>\n",
       "      <td>F</td>\n",
       "      <td>0-17</td>\n",
       "      <td>10</td>\n",
       "      <td>A</td>\n",
       "      <td>2</td>\n",
       "      <td>0</td>\n",
       "      <td>3</td>\n",
       "      <td>NaN</td>\n",
       "      <td>NaN</td>\n",
       "      <td>8370</td>\n",
       "    </tr>\n",
       "    <tr>\n",
       "      <th>1</th>\n",
       "      <td>1000001</td>\n",
       "      <td>P00248942</td>\n",
       "      <td>F</td>\n",
       "      <td>0-17</td>\n",
       "      <td>10</td>\n",
       "      <td>A</td>\n",
       "      <td>2</td>\n",
       "      <td>0</td>\n",
       "      <td>1</td>\n",
       "      <td>6.0</td>\n",
       "      <td>14.0</td>\n",
       "      <td>15200</td>\n",
       "    </tr>\n",
       "    <tr>\n",
       "      <th>2</th>\n",
       "      <td>1000001</td>\n",
       "      <td>P00087842</td>\n",
       "      <td>F</td>\n",
       "      <td>0-17</td>\n",
       "      <td>10</td>\n",
       "      <td>A</td>\n",
       "      <td>2</td>\n",
       "      <td>0</td>\n",
       "      <td>12</td>\n",
       "      <td>NaN</td>\n",
       "      <td>NaN</td>\n",
       "      <td>1422</td>\n",
       "    </tr>\n",
       "    <tr>\n",
       "      <th>3</th>\n",
       "      <td>1000001</td>\n",
       "      <td>P00085442</td>\n",
       "      <td>F</td>\n",
       "      <td>0-17</td>\n",
       "      <td>10</td>\n",
       "      <td>A</td>\n",
       "      <td>2</td>\n",
       "      <td>0</td>\n",
       "      <td>12</td>\n",
       "      <td>14.0</td>\n",
       "      <td>NaN</td>\n",
       "      <td>1057</td>\n",
       "    </tr>\n",
       "    <tr>\n",
       "      <th>4</th>\n",
       "      <td>1000002</td>\n",
       "      <td>P00285442</td>\n",
       "      <td>M</td>\n",
       "      <td>55+</td>\n",
       "      <td>16</td>\n",
       "      <td>C</td>\n",
       "      <td>4+</td>\n",
       "      <td>0</td>\n",
       "      <td>8</td>\n",
       "      <td>NaN</td>\n",
       "      <td>NaN</td>\n",
       "      <td>7969</td>\n",
       "    </tr>\n",
       "  </tbody>\n",
       "</table>\n",
       "</div>"
      ],
      "text/plain": [
       "   User_ID Product_ID Gender   Age  Occupation City_Category  \\\n",
       "0  1000001  P00069042      F  0-17          10             A   \n",
       "1  1000001  P00248942      F  0-17          10             A   \n",
       "2  1000001  P00087842      F  0-17          10             A   \n",
       "3  1000001  P00085442      F  0-17          10             A   \n",
       "4  1000002  P00285442      M   55+          16             C   \n",
       "\n",
       "  Stay_In_Current_City_Years  Marital_Status  Product_Category_1  \\\n",
       "0                          2               0                   3   \n",
       "1                          2               0                   1   \n",
       "2                          2               0                  12   \n",
       "3                          2               0                  12   \n",
       "4                         4+               0                   8   \n",
       "\n",
       "   Product_Category_2  Product_Category_3  Purchase  \n",
       "0                 NaN                 NaN      8370  \n",
       "1                 6.0                14.0     15200  \n",
       "2                 NaN                 NaN      1422  \n",
       "3                14.0                 NaN      1057  \n",
       "4                 NaN                 NaN      7969  "
      ]
     },
     "execution_count": 4,
     "metadata": {},
     "output_type": "execute_result"
    }
   ],
   "source": [
    "df.head()"
   ]
  },
  {
   "cell_type": "code",
   "execution_count": 5,
   "id": "18dc5a1a",
   "metadata": {},
   "outputs": [
    {
     "name": "stdout",
     "output_type": "stream",
     "text": [
      "<class 'pandas.core.frame.DataFrame'>\n",
      "RangeIndex: 550068 entries, 0 to 550067\n",
      "Data columns (total 12 columns):\n",
      " #   Column                      Non-Null Count   Dtype  \n",
      "---  ------                      --------------   -----  \n",
      " 0   User_ID                     550068 non-null  int64  \n",
      " 1   Product_ID                  550068 non-null  object \n",
      " 2   Gender                      550068 non-null  object \n",
      " 3   Age                         550068 non-null  object \n",
      " 4   Occupation                  550068 non-null  int64  \n",
      " 5   City_Category               550068 non-null  object \n",
      " 6   Stay_In_Current_City_Years  550068 non-null  object \n",
      " 7   Marital_Status              550068 non-null  int64  \n",
      " 8   Product_Category_1          550068 non-null  int64  \n",
      " 9   Product_Category_2          376430 non-null  float64\n",
      " 10  Product_Category_3          166821 non-null  float64\n",
      " 11  Purchase                    550068 non-null  int64  \n",
      "dtypes: float64(2), int64(5), object(5)\n",
      "memory usage: 50.4+ MB\n"
     ]
    }
   ],
   "source": [
    "df.info()"
   ]
  },
  {
   "cell_type": "code",
   "execution_count": 6,
   "id": "b363efe1",
   "metadata": {},
   "outputs": [
    {
     "data": {
      "text/html": [
       "<div>\n",
       "<style scoped>\n",
       "    .dataframe tbody tr th:only-of-type {\n",
       "        vertical-align: middle;\n",
       "    }\n",
       "\n",
       "    .dataframe tbody tr th {\n",
       "        vertical-align: top;\n",
       "    }\n",
       "\n",
       "    .dataframe thead th {\n",
       "        text-align: right;\n",
       "    }\n",
       "</style>\n",
       "<table border=\"1\" class=\"dataframe\">\n",
       "  <thead>\n",
       "    <tr style=\"text-align: right;\">\n",
       "      <th></th>\n",
       "      <th>User_ID</th>\n",
       "      <th>Occupation</th>\n",
       "      <th>Marital_Status</th>\n",
       "      <th>Product_Category_1</th>\n",
       "      <th>Product_Category_2</th>\n",
       "      <th>Product_Category_3</th>\n",
       "      <th>Purchase</th>\n",
       "    </tr>\n",
       "  </thead>\n",
       "  <tbody>\n",
       "    <tr>\n",
       "      <th>count</th>\n",
       "      <td>5.500680e+05</td>\n",
       "      <td>550068.000000</td>\n",
       "      <td>550068.000000</td>\n",
       "      <td>550068.000000</td>\n",
       "      <td>376430.000000</td>\n",
       "      <td>166821.000000</td>\n",
       "      <td>550068.000000</td>\n",
       "    </tr>\n",
       "    <tr>\n",
       "      <th>mean</th>\n",
       "      <td>1.003029e+06</td>\n",
       "      <td>8.076707</td>\n",
       "      <td>0.409653</td>\n",
       "      <td>5.404270</td>\n",
       "      <td>9.842329</td>\n",
       "      <td>12.668243</td>\n",
       "      <td>9263.968713</td>\n",
       "    </tr>\n",
       "    <tr>\n",
       "      <th>std</th>\n",
       "      <td>1.727592e+03</td>\n",
       "      <td>6.522660</td>\n",
       "      <td>0.491770</td>\n",
       "      <td>3.936211</td>\n",
       "      <td>5.086590</td>\n",
       "      <td>4.125338</td>\n",
       "      <td>5023.065394</td>\n",
       "    </tr>\n",
       "    <tr>\n",
       "      <th>min</th>\n",
       "      <td>1.000001e+06</td>\n",
       "      <td>0.000000</td>\n",
       "      <td>0.000000</td>\n",
       "      <td>1.000000</td>\n",
       "      <td>2.000000</td>\n",
       "      <td>3.000000</td>\n",
       "      <td>12.000000</td>\n",
       "    </tr>\n",
       "    <tr>\n",
       "      <th>25%</th>\n",
       "      <td>1.001516e+06</td>\n",
       "      <td>2.000000</td>\n",
       "      <td>0.000000</td>\n",
       "      <td>1.000000</td>\n",
       "      <td>5.000000</td>\n",
       "      <td>9.000000</td>\n",
       "      <td>5823.000000</td>\n",
       "    </tr>\n",
       "    <tr>\n",
       "      <th>50%</th>\n",
       "      <td>1.003077e+06</td>\n",
       "      <td>7.000000</td>\n",
       "      <td>0.000000</td>\n",
       "      <td>5.000000</td>\n",
       "      <td>9.000000</td>\n",
       "      <td>14.000000</td>\n",
       "      <td>8047.000000</td>\n",
       "    </tr>\n",
       "    <tr>\n",
       "      <th>75%</th>\n",
       "      <td>1.004478e+06</td>\n",
       "      <td>14.000000</td>\n",
       "      <td>1.000000</td>\n",
       "      <td>8.000000</td>\n",
       "      <td>15.000000</td>\n",
       "      <td>16.000000</td>\n",
       "      <td>12054.000000</td>\n",
       "    </tr>\n",
       "    <tr>\n",
       "      <th>max</th>\n",
       "      <td>1.006040e+06</td>\n",
       "      <td>20.000000</td>\n",
       "      <td>1.000000</td>\n",
       "      <td>20.000000</td>\n",
       "      <td>18.000000</td>\n",
       "      <td>18.000000</td>\n",
       "      <td>23961.000000</td>\n",
       "    </tr>\n",
       "  </tbody>\n",
       "</table>\n",
       "</div>"
      ],
      "text/plain": [
       "            User_ID     Occupation  Marital_Status  Product_Category_1  \\\n",
       "count  5.500680e+05  550068.000000   550068.000000       550068.000000   \n",
       "mean   1.003029e+06       8.076707        0.409653            5.404270   \n",
       "std    1.727592e+03       6.522660        0.491770            3.936211   \n",
       "min    1.000001e+06       0.000000        0.000000            1.000000   \n",
       "25%    1.001516e+06       2.000000        0.000000            1.000000   \n",
       "50%    1.003077e+06       7.000000        0.000000            5.000000   \n",
       "75%    1.004478e+06      14.000000        1.000000            8.000000   \n",
       "max    1.006040e+06      20.000000        1.000000           20.000000   \n",
       "\n",
       "       Product_Category_2  Product_Category_3       Purchase  \n",
       "count       376430.000000       166821.000000  550068.000000  \n",
       "mean             9.842329           12.668243    9263.968713  \n",
       "std              5.086590            4.125338    5023.065394  \n",
       "min              2.000000            3.000000      12.000000  \n",
       "25%              5.000000            9.000000    5823.000000  \n",
       "50%              9.000000           14.000000    8047.000000  \n",
       "75%             15.000000           16.000000   12054.000000  \n",
       "max             18.000000           18.000000   23961.000000  "
      ]
     },
     "execution_count": 6,
     "metadata": {},
     "output_type": "execute_result"
    }
   ],
   "source": [
    "df.describe()"
   ]
  },
  {
   "cell_type": "code",
   "execution_count": 7,
   "id": "47895c5f",
   "metadata": {},
   "outputs": [
    {
     "data": {
      "text/plain": [
       "User_ID                            0\n",
       "Product_ID                         0\n",
       "Gender                             0\n",
       "Age                                0\n",
       "Occupation                         0\n",
       "City_Category                      0\n",
       "Stay_In_Current_City_Years         0\n",
       "Marital_Status                     0\n",
       "Product_Category_1                 0\n",
       "Product_Category_2            173638\n",
       "Product_Category_3            383247\n",
       "Purchase                           0\n",
       "dtype: int64"
      ]
     },
     "execution_count": 7,
     "metadata": {},
     "output_type": "execute_result"
    }
   ],
   "source": [
    "df.isna().sum()"
   ]
  },
  {
   "cell_type": "markdown",
   "id": "470ca853",
   "metadata": {},
   "source": [
    "### Creamos la variable target y analizamos su distrbución"
   ]
  },
  {
   "cell_type": "code",
   "execution_count": 8,
   "id": "e463a4cf",
   "metadata": {},
   "outputs": [],
   "source": [
    "df['target'] = df['Purchase'].apply(lambda x: 1 if x >= 9000 else 0)"
   ]
  },
  {
   "cell_type": "code",
   "execution_count": 9,
   "id": "066dac56",
   "metadata": {},
   "outputs": [
    {
     "data": {
      "text/plain": [
       "<AxesSubplot:ylabel='target'>"
      ]
     },
     "execution_count": 9,
     "metadata": {},
     "output_type": "execute_result"
    },
    {
     "data": {
      "image/png": "[encoded data removed]",
      "text/plain": [
       "<Figure size 400x400 with 1 Axes>"
      ]
     },
     "metadata": {},
     "output_type": "display_data"
    }
   ],
   "source": [
    "df['target'].value_counts().plot.pie(autopct='%1.0f%%', figsize=(4,4))"
   ]
  },
  {
   "cell_type": "code",
   "execution_count": 10,
   "id": "810c4b66",
   "metadata": {},
   "outputs": [
    {
     "data": {
      "text/plain": [
       "0    330871\n",
       "1    219197\n",
       "Name: target, dtype: int64"
      ]
     },
     "execution_count": 10,
     "metadata": {},
     "output_type": "execute_result"
    }
   ],
   "source": [
    "# 0 -> compra menos de 9000\n",
    "# 1 -> compra 9000 o más\n",
    "df['target'].value_counts()"
   ]
  },
  {
   "cell_type": "markdown",
   "id": "4ad6a7ec",
   "metadata": {},
   "source": [
    "### Eliminamos la variable Purchase"
   ]
  },
  {
   "cell_type": "code",
   "execution_count": 11,
   "id": "5985712a",
   "metadata": {},
   "outputs": [],
   "source": [
    "df.drop(['Purchase'], axis=1, inplace=True)"
   ]
  },
  {
   "cell_type": "markdown",
   "id": "53a2c3a4",
   "metadata": {},
   "source": [
    "### Eliminamos la variable Product_Category_2 y Product_Category_3\n",
    "- Las eliminamos ya que superan el 25% de valores nulos"
   ]
  },
  {
   "cell_type": "code",
   "execution_count": 12,
   "id": "26c079aa",
   "metadata": {},
   "outputs": [],
   "source": [
    "df.drop(['Product_Category_2'], axis=1, inplace=True)\n",
    "df.drop(['Product_Category_3'], axis=1, inplace=True)"
   ]
  },
  {
   "cell_type": "markdown",
   "id": "064febab",
   "metadata": {},
   "source": [
    "### Renombramos las columnas restantes"
   ]
  },
  {
   "cell_type": "code",
   "execution_count": 13,
   "id": "34d3a6e2",
   "metadata": {},
   "outputs": [
    {
     "data": {
      "text/plain": [
       "Index(['User_ID', 'Product_ID', 'Gender', 'Age', 'Occupation', 'City_Category',\n",
       "       'Stay_In_Current_City_Years', 'Marital_Status', 'Product_Category_1',\n",
       "       'target'],\n",
       "      dtype='object')"
      ]
     },
     "execution_count": 13,
     "metadata": {},
     "output_type": "execute_result"
    }
   ],
   "source": [
    "df.columns"
   ]
  },
  {
   "cell_type": "code",
   "execution_count": 14,
   "id": "36c413a2",
   "metadata": {},
   "outputs": [],
   "source": [
    "columns = {\n",
    "    'User_ID': 'user_id',\n",
    "    'Product_ID': 'product_id',\n",
    "    'Gender': 'gender',\n",
    "    'Age': 'age',\n",
    "    'Occupation': 'occupation',\n",
    "    'City_Category': 'city_category',\n",
    "    'Stay_In_Current_City_Years': 'stay_in_current_city_years',\n",
    "    'Marital_Status': 'marital_status',\n",
    "    'Product_Category_1': 'product_category_1',\n",
    "    'target': 'target',\n",
    "}"
   ]
  },
  {
   "cell_type": "code",
   "execution_count": 15,
   "id": "75b925c4",
   "metadata": {},
   "outputs": [],
   "source": [
    "df.rename(columns=columns, inplace=True)"
   ]
  },
  {
   "cell_type": "markdown",
   "id": "18ec3c9e",
   "metadata": {},
   "source": [
    "### Ingeniería de features"
   ]
  },
  {
   "cell_type": "code",
   "execution_count": 16,
   "id": "67168c78",
   "metadata": {},
   "outputs": [
    {
     "data": {
      "text/html": [
       "<div>\n",
       "<style scoped>\n",
       "    .dataframe tbody tr th:only-of-type {\n",
       "        vertical-align: middle;\n",
       "    }\n",
       "\n",
       "    .dataframe tbody tr th {\n",
       "        vertical-align: top;\n",
       "    }\n",
       "\n",
       "    .dataframe thead th {\n",
       "        text-align: right;\n",
       "    }\n",
       "</style>\n",
       "<table border=\"1\" class=\"dataframe\">\n",
       "  <thead>\n",
       "    <tr style=\"text-align: right;\">\n",
       "      <th></th>\n",
       "      <th>user_id</th>\n",
       "      <th>product_id</th>\n",
       "      <th>gender</th>\n",
       "      <th>age</th>\n",
       "      <th>occupation</th>\n",
       "      <th>city_category</th>\n",
       "      <th>stay_in_current_city_years</th>\n",
       "      <th>marital_status</th>\n",
       "      <th>product_category_1</th>\n",
       "      <th>target</th>\n",
       "    </tr>\n",
       "  </thead>\n",
       "  <tbody>\n",
       "    <tr>\n",
       "      <th>0</th>\n",
       "      <td>1000001</td>\n",
       "      <td>P00069042</td>\n",
       "      <td>F</td>\n",
       "      <td>0-17</td>\n",
       "      <td>10</td>\n",
       "      <td>A</td>\n",
       "      <td>2</td>\n",
       "      <td>0</td>\n",
       "      <td>3</td>\n",
       "      <td>0</td>\n",
       "    </tr>\n",
       "    <tr>\n",
       "      <th>1</th>\n",
       "      <td>1000001</td>\n",
       "      <td>P00248942</td>\n",
       "      <td>F</td>\n",
       "      <td>0-17</td>\n",
       "      <td>10</td>\n",
       "      <td>A</td>\n",
       "      <td>2</td>\n",
       "      <td>0</td>\n",
       "      <td>1</td>\n",
       "      <td>1</td>\n",
       "    </tr>\n",
       "    <tr>\n",
       "      <th>2</th>\n",
       "      <td>1000001</td>\n",
       "      <td>P00087842</td>\n",
       "      <td>F</td>\n",
       "      <td>0-17</td>\n",
       "      <td>10</td>\n",
       "      <td>A</td>\n",
       "      <td>2</td>\n",
       "      <td>0</td>\n",
       "      <td>12</td>\n",
       "      <td>0</td>\n",
       "    </tr>\n",
       "    <tr>\n",
       "      <th>3</th>\n",
       "      <td>1000001</td>\n",
       "      <td>P00085442</td>\n",
       "      <td>F</td>\n",
       "      <td>0-17</td>\n",
       "      <td>10</td>\n",
       "      <td>A</td>\n",
       "      <td>2</td>\n",
       "      <td>0</td>\n",
       "      <td>12</td>\n",
       "      <td>0</td>\n",
       "    </tr>\n",
       "    <tr>\n",
       "      <th>4</th>\n",
       "      <td>1000002</td>\n",
       "      <td>P00285442</td>\n",
       "      <td>M</td>\n",
       "      <td>55+</td>\n",
       "      <td>16</td>\n",
       "      <td>C</td>\n",
       "      <td>4+</td>\n",
       "      <td>0</td>\n",
       "      <td>8</td>\n",
       "      <td>0</td>\n",
       "    </tr>\n",
       "  </tbody>\n",
       "</table>\n",
       "</div>"
      ],
      "text/plain": [
       "   user_id product_id gender   age  occupation city_category  \\\n",
       "0  1000001  P00069042      F  0-17          10             A   \n",
       "1  1000001  P00248942      F  0-17          10             A   \n",
       "2  1000001  P00087842      F  0-17          10             A   \n",
       "3  1000001  P00085442      F  0-17          10             A   \n",
       "4  1000002  P00285442      M   55+          16             C   \n",
       "\n",
       "  stay_in_current_city_years  marital_status  product_category_1  target  \n",
       "0                          2               0                   3       0  \n",
       "1                          2               0                   1       1  \n",
       "2                          2               0                  12       0  \n",
       "3                          2               0                  12       0  \n",
       "4                         4+               0                   8       0  "
      ]
     },
     "execution_count": 16,
     "metadata": {},
     "output_type": "execute_result"
    }
   ],
   "source": [
    "df.head()"
   ]
  },
  {
   "cell_type": "markdown",
   "id": "9225a1f6",
   "metadata": {},
   "source": [
    "#### Variable user_id: embeddings"
   ]
  },
  {
   "cell_type": "code",
   "execution_count": 17,
   "id": "7682d4f7",
   "metadata": {},
   "outputs": [
    {
     "name": "stdout",
     "output_type": "stream",
     "text": [
      "Cantidad de elementos únicos: 5891\n"
     ]
    }
   ],
   "source": [
    "# Analicemos la variable user_id\n",
    "print(f'Cantidad de elementos únicos: {len(df[\"user_id\"].unique())}')\n",
    "user_ids = df[\"user_id\"]\n",
    "df.drop([\"user_id\"], axis=1, inplace=True)"
   ]
  },
  {
   "cell_type": "markdown",
   "id": "25d22b7d",
   "metadata": {},
   "source": [
    "#### Variable product_id: embeddings"
   ]
  },
  {
   "cell_type": "code",
   "execution_count": 18,
   "id": "3f7fc02b",
   "metadata": {},
   "outputs": [
    {
     "name": "stdout",
     "output_type": "stream",
     "text": [
      "Cantidad de elementos únicos: 3631\n"
     ]
    }
   ],
   "source": [
    "# Analicemos la variable product_id\n",
    "print(f'Cantidad de elementos únicos: {len(df[\"product_id\"].unique())}')\n",
    "product_ids = df[\"product_id\"]\n",
    "df.drop([\"product_id\"], axis=1, inplace=True)"
   ]
  },
  {
   "cell_type": "markdown",
   "id": "166df8b1",
   "metadata": {},
   "source": [
    "#### Variables gender: binarización"
   ]
  },
  {
   "cell_type": "code",
   "execution_count": 19,
   "id": "77189b3f",
   "metadata": {},
   "outputs": [],
   "source": [
    "df['gender'] = df['gender'].apply(lambda x: 1 if x == 'F' else 0)"
   ]
  },
  {
   "cell_type": "markdown",
   "id": "430eb6d6",
   "metadata": {},
   "source": [
    "#### Variables categóricas:"
   ]
  },
  {
   "cell_type": "code",
   "execution_count": 20,
   "id": "84d5f63b",
   "metadata": {},
   "outputs": [],
   "source": [
    "categorical_columns = ['age', 'occupation', 'city_category', 'stay_in_current_city_years', 'product_category_1']"
   ]
  },
  {
   "cell_type": "code",
   "execution_count": 21,
   "id": "874bdc3c",
   "metadata": {},
   "outputs": [],
   "source": [
    "for column in categorical_columns:\n",
    "    dummies = pd.get_dummies(df[column], prefix=column) \n",
    "    df = pd.concat([df, dummies], axis=1)\n",
    "    df.drop([column], axis=1, inplace=True)"
   ]
  },
  {
   "cell_type": "markdown",
   "id": "a4fa23c3",
   "metadata": {},
   "source": [
    "### Normalización"
   ]
  },
  {
   "cell_type": "code",
   "execution_count": 22,
   "id": "a1d9d5c4",
   "metadata": {},
   "outputs": [],
   "source": [
    "X_columns = list(df.columns)"
   ]
  },
  {
   "cell_type": "code",
   "execution_count": 23,
   "id": "1bc61589",
   "metadata": {},
   "outputs": [],
   "source": [
    "X_columns.remove('target')"
   ]
  },
  {
   "cell_type": "code",
   "execution_count": 24,
   "id": "2300e7be",
   "metadata": {},
   "outputs": [],
   "source": [
    "X = df[X_columns]"
   ]
  },
  {
   "cell_type": "code",
   "execution_count": 25,
   "id": "a9bf2c5d",
   "metadata": {},
   "outputs": [],
   "source": [
    "y = df['target']"
   ]
  },
  {
   "cell_type": "code",
   "execution_count": 26,
   "id": "2dbae6a7",
   "metadata": {},
   "outputs": [],
   "source": [
    "X_norm = (X - np.min(X, axis=0)) / (np.max(X, axis=0) - np.min(X, axis=0))"
   ]
  },
  {
   "cell_type": "code",
   "execution_count": 27,
   "id": "d5332a96",
   "metadata": {},
   "outputs": [
    {
     "name": "stdout",
     "output_type": "stream",
     "text": [
      "gender                           0.0\n",
      "marital_status                   0.0\n",
      "age_0-17                         0.0\n",
      "age_18-25                        0.0\n",
      "age_26-35                        0.0\n",
      "age_36-45                        0.0\n",
      "age_46-50                        0.0\n",
      "age_51-55                        0.0\n",
      "age_55+                          0.0\n",
      "occupation_0                     0.0\n",
      "occupation_1                     0.0\n",
      "occupation_2                     0.0\n",
      "occupation_3                     0.0\n",
      "occupation_4                     0.0\n",
      "occupation_5                     0.0\n",
      "occupation_6                     0.0\n",
      "occupation_7                     0.0\n",
      "occupation_8                     0.0\n",
      "occupation_9                     0.0\n",
      "occupation_10                    0.0\n",
      "occupation_11                    0.0\n",
      "occupation_12                    0.0\n",
      "occupation_13                    0.0\n",
      "occupation_14                    0.0\n",
      "occupation_15                    0.0\n",
      "occupation_16                    0.0\n",
      "occupation_17                    0.0\n",
      "occupation_18                    0.0\n",
      "occupation_19                    0.0\n",
      "occupation_20                    0.0\n",
      "city_category_A                  0.0\n",
      "city_category_B                  0.0\n",
      "city_category_C                  0.0\n",
      "stay_in_current_city_years_0     0.0\n",
      "stay_in_current_city_years_1     0.0\n",
      "stay_in_current_city_years_2     0.0\n",
      "stay_in_current_city_years_3     0.0\n",
      "stay_in_current_city_years_4+    0.0\n",
      "product_category_1_1             0.0\n",
      "product_category_1_2             0.0\n",
      "product_category_1_3             0.0\n",
      "product_category_1_4             0.0\n",
      "product_category_1_5             0.0\n",
      "product_category_1_6             0.0\n",
      "product_category_1_7             0.0\n",
      "product_category_1_8             0.0\n",
      "product_category_1_9             0.0\n",
      "product_category_1_10            0.0\n",
      "product_category_1_11            0.0\n",
      "product_category_1_12            0.0\n",
      "product_category_1_13            0.0\n",
      "product_category_1_14            0.0\n",
      "product_category_1_15            0.0\n",
      "product_category_1_16            0.0\n",
      "product_category_1_17            0.0\n",
      "product_category_1_18            0.0\n",
      "product_category_1_19            0.0\n",
      "product_category_1_20            0.0\n",
      "dtype: float64\n",
      "gender                           1.0\n",
      "marital_status                   1.0\n",
      "age_0-17                         1.0\n",
      "age_18-25                        1.0\n",
      "age_26-35                        1.0\n",
      "age_36-45                        1.0\n",
      "age_46-50                        1.0\n",
      "age_51-55                        1.0\n",
      "age_55+                          1.0\n",
      "occupation_0                     1.0\n",
      "occupation_1                     1.0\n",
      "occupation_2                     1.0\n",
      "occupation_3                     1.0\n",
      "occupation_4                     1.0\n",
      "occupation_5                     1.0\n",
      "occupation_6                     1.0\n",
      "occupation_7                     1.0\n",
      "occupation_8                     1.0\n",
      "occupation_9                     1.0\n",
      "occupation_10                    1.0\n",
      "occupation_11                    1.0\n",
      "occupation_12                    1.0\n",
      "occupation_13                    1.0\n",
      "occupation_14                    1.0\n",
      "occupation_15                    1.0\n",
      "occupation_16                    1.0\n",
      "occupation_17                    1.0\n",
      "occupation_18                    1.0\n",
      "occupation_19                    1.0\n",
      "occupation_20                    1.0\n",
      "city_category_A                  1.0\n",
      "city_category_B                  1.0\n",
      "city_category_C                  1.0\n",
      "stay_in_current_city_years_0     1.0\n",
      "stay_in_current_city_years_1     1.0\n",
      "stay_in_current_city_years_2     1.0\n",
      "stay_in_current_city_years_3     1.0\n",
      "stay_in_current_city_years_4+    1.0\n",
      "product_category_1_1             1.0\n",
      "product_category_1_2             1.0\n",
      "product_category_1_3             1.0\n",
      "product_category_1_4             1.0\n",
      "product_category_1_5             1.0\n",
      "product_category_1_6             1.0\n",
      "product_category_1_7             1.0\n",
      "product_category_1_8             1.0\n",
      "product_category_1_9             1.0\n",
      "product_category_1_10            1.0\n",
      "product_category_1_11            1.0\n",
      "product_category_1_12            1.0\n",
      "product_category_1_13            1.0\n",
      "product_category_1_14            1.0\n",
      "product_category_1_15            1.0\n",
      "product_category_1_16            1.0\n",
      "product_category_1_17            1.0\n",
      "product_category_1_18            1.0\n",
      "product_category_1_19            1.0\n",
      "product_category_1_20            1.0\n",
      "dtype: float64\n"
     ]
    }
   ],
   "source": [
    "print(np.min(X_norm, axis=0))\n",
    "print(np.max(X_norm, axis=0))"
   ]
  },
  {
   "cell_type": "code",
   "execution_count": 28,
   "id": "0a9ba8a2",
   "metadata": {},
   "outputs": [
    {
     "data": {
      "text/html": [
       "<div>\n",
       "<style scoped>\n",
       "    .dataframe tbody tr th:only-of-type {\n",
       "        vertical-align: middle;\n",
       "    }\n",
       "\n",
       "    .dataframe tbody tr th {\n",
       "        vertical-align: top;\n",
       "    }\n",
       "\n",
       "    .dataframe thead th {\n",
       "        text-align: right;\n",
       "    }\n",
       "</style>\n",
       "<table border=\"1\" class=\"dataframe\">\n",
       "  <thead>\n",
       "    <tr style=\"text-align: right;\">\n",
       "      <th></th>\n",
       "      <th>gender</th>\n",
       "      <th>marital_status</th>\n",
       "      <th>age_0-17</th>\n",
       "      <th>age_18-25</th>\n",
       "      <th>age_26-35</th>\n",
       "      <th>age_36-45</th>\n",
       "      <th>age_46-50</th>\n",
       "      <th>age_51-55</th>\n",
       "      <th>age_55+</th>\n",
       "      <th>occupation_0</th>\n",
       "      <th>...</th>\n",
       "      <th>product_category_1_11</th>\n",
       "      <th>product_category_1_12</th>\n",
       "      <th>product_category_1_13</th>\n",
       "      <th>product_category_1_14</th>\n",
       "      <th>product_category_1_15</th>\n",
       "      <th>product_category_1_16</th>\n",
       "      <th>product_category_1_17</th>\n",
       "      <th>product_category_1_18</th>\n",
       "      <th>product_category_1_19</th>\n",
       "      <th>product_category_1_20</th>\n",
       "    </tr>\n",
       "  </thead>\n",
       "  <tbody>\n",
       "    <tr>\n",
       "      <th>count</th>\n",
       "      <td>550068.000000</td>\n",
       "      <td>550068.000000</td>\n",
       "      <td>550068.000000</td>\n",
       "      <td>550068.000000</td>\n",
       "      <td>550068.000000</td>\n",
       "      <td>550068.000000</td>\n",
       "      <td>550068.000000</td>\n",
       "      <td>550068.000000</td>\n",
       "      <td>550068.000000</td>\n",
       "      <td>550068.000000</td>\n",
       "      <td>...</td>\n",
       "      <td>550068.000000</td>\n",
       "      <td>550068.000000</td>\n",
       "      <td>550068.000000</td>\n",
       "      <td>550068.000000</td>\n",
       "      <td>550068.000000</td>\n",
       "      <td>550068.000000</td>\n",
       "      <td>550068.000000</td>\n",
       "      <td>550068.000000</td>\n",
       "      <td>550068.000000</td>\n",
       "      <td>550068.000000</td>\n",
       "    </tr>\n",
       "    <tr>\n",
       "      <th>mean</th>\n",
       "      <td>0.246895</td>\n",
       "      <td>0.409653</td>\n",
       "      <td>0.027455</td>\n",
       "      <td>0.181178</td>\n",
       "      <td>0.399200</td>\n",
       "      <td>0.199999</td>\n",
       "      <td>0.083082</td>\n",
       "      <td>0.069993</td>\n",
       "      <td>0.039093</td>\n",
       "      <td>0.126599</td>\n",
       "      <td>...</td>\n",
       "      <td>0.044153</td>\n",
       "      <td>0.007175</td>\n",
       "      <td>0.010088</td>\n",
       "      <td>0.002769</td>\n",
       "      <td>0.011435</td>\n",
       "      <td>0.017867</td>\n",
       "      <td>0.001051</td>\n",
       "      <td>0.005681</td>\n",
       "      <td>0.002914</td>\n",
       "      <td>0.004636</td>\n",
       "    </tr>\n",
       "    <tr>\n",
       "      <th>std</th>\n",
       "      <td>0.431205</td>\n",
       "      <td>0.491770</td>\n",
       "      <td>0.163405</td>\n",
       "      <td>0.385166</td>\n",
       "      <td>0.489734</td>\n",
       "      <td>0.400000</td>\n",
       "      <td>0.276007</td>\n",
       "      <td>0.255136</td>\n",
       "      <td>0.193817</td>\n",
       "      <td>0.332523</td>\n",
       "      <td>...</td>\n",
       "      <td>0.205435</td>\n",
       "      <td>0.084404</td>\n",
       "      <td>0.099930</td>\n",
       "      <td>0.052546</td>\n",
       "      <td>0.106321</td>\n",
       "      <td>0.132468</td>\n",
       "      <td>0.032399</td>\n",
       "      <td>0.075159</td>\n",
       "      <td>0.053905</td>\n",
       "      <td>0.067929</td>\n",
       "    </tr>\n",
       "    <tr>\n",
       "      <th>min</th>\n",
       "      <td>0.000000</td>\n",
       "      <td>0.000000</td>\n",
       "      <td>0.000000</td>\n",
       "      <td>0.000000</td>\n",
       "      <td>0.000000</td>\n",
       "      <td>0.000000</td>\n",
       "      <td>0.000000</td>\n",
       "      <td>0.000000</td>\n",
       "      <td>0.000000</td>\n",
       "      <td>0.000000</td>\n",
       "      <td>...</td>\n",
       "      <td>0.000000</td>\n",
       "      <td>0.000000</td>\n",
       "      <td>0.000000</td>\n",
       "      <td>0.000000</td>\n",
       "      <td>0.000000</td>\n",
       "      <td>0.000000</td>\n",
       "      <td>0.000000</td>\n",
       "      <td>0.000000</td>\n",
       "      <td>0.000000</td>\n",
       "      <td>0.000000</td>\n",
       "    </tr>\n",
       "    <tr>\n",
       "      <th>25%</th>\n",
       "      <td>0.000000</td>\n",
       "      <td>0.000000</td>\n",
       "      <td>0.000000</td>\n",
       "      <td>0.000000</td>\n",
       "      <td>0.000000</td>\n",
       "      <td>0.000000</td>\n",
       "      <td>0.000000</td>\n",
       "      <td>0.000000</td>\n",
       "      <td>0.000000</td>\n",
       "      <td>0.000000</td>\n",
       "      <td>...</td>\n",
       "      <td>0.000000</td>\n",
       "      <td>0.000000</td>\n",
       "      <td>0.000000</td>\n",
       "      <td>0.000000</td>\n",
       "      <td>0.000000</td>\n",
       "      <td>0.000000</td>\n",
       "      <td>0.000000</td>\n",
       "      <td>0.000000</td>\n",
       "      <td>0.000000</td>\n",
       "      <td>0.000000</td>\n",
       "    </tr>\n",
       "    <tr>\n",
       "      <th>50%</th>\n",
       "      <td>0.000000</td>\n",
       "      <td>0.000000</td>\n",
       "      <td>0.000000</td>\n",
       "      <td>0.000000</td>\n",
       "      <td>0.000000</td>\n",
       "      <td>0.000000</td>\n",
       "      <td>0.000000</td>\n",
       "      <td>0.000000</td>\n",
       "      <td>0.000000</td>\n",
       "      <td>0.000000</td>\n",
       "      <td>...</td>\n",
       "      <td>0.000000</td>\n",
       "      <td>0.000000</td>\n",
       "      <td>0.000000</td>\n",
       "      <td>0.000000</td>\n",
       "      <td>0.000000</td>\n",
       "      <td>0.000000</td>\n",
       "      <td>0.000000</td>\n",
       "      <td>0.000000</td>\n",
       "      <td>0.000000</td>\n",
       "      <td>0.000000</td>\n",
       "    </tr>\n",
       "    <tr>\n",
       "      <th>75%</th>\n",
       "      <td>0.000000</td>\n",
       "      <td>1.000000</td>\n",
       "      <td>0.000000</td>\n",
       "      <td>0.000000</td>\n",
       "      <td>1.000000</td>\n",
       "      <td>0.000000</td>\n",
       "      <td>0.000000</td>\n",
       "      <td>0.000000</td>\n",
       "      <td>0.000000</td>\n",
       "      <td>0.000000</td>\n",
       "      <td>...</td>\n",
       "      <td>0.000000</td>\n",
       "      <td>0.000000</td>\n",
       "      <td>0.000000</td>\n",
       "      <td>0.000000</td>\n",
       "      <td>0.000000</td>\n",
       "      <td>0.000000</td>\n",
       "      <td>0.000000</td>\n",
       "      <td>0.000000</td>\n",
       "      <td>0.000000</td>\n",
       "      <td>0.000000</td>\n",
       "    </tr>\n",
       "    <tr>\n",
       "      <th>max</th>\n",
       "      <td>1.000000</td>\n",
       "      <td>1.000000</td>\n",
       "      <td>1.000000</td>\n",
       "      <td>1.000000</td>\n",
       "      <td>1.000000</td>\n",
       "      <td>1.000000</td>\n",
       "      <td>1.000000</td>\n",
       "      <td>1.000000</td>\n",
       "      <td>1.000000</td>\n",
       "      <td>1.000000</td>\n",
       "      <td>...</td>\n",
       "      <td>1.000000</td>\n",
       "      <td>1.000000</td>\n",
       "      <td>1.000000</td>\n",
       "      <td>1.000000</td>\n",
       "      <td>1.000000</td>\n",
       "      <td>1.000000</td>\n",
       "      <td>1.000000</td>\n",
       "      <td>1.000000</td>\n",
       "      <td>1.000000</td>\n",
       "      <td>1.000000</td>\n",
       "    </tr>\n",
       "  </tbody>\n",
       "</table>\n",
       "<p>8 rows × 58 columns</p>\n",
       "</div>"
      ],
      "text/plain": [
       "              gender  marital_status       age_0-17      age_18-25  \\\n",
       "count  550068.000000   550068.000000  550068.000000  550068.000000   \n",
       "mean        0.246895        0.409653       0.027455       0.181178   \n",
       "std         0.431205        0.491770       0.163405       0.385166   \n",
       "min         0.000000        0.000000       0.000000       0.000000   \n",
       "25%         0.000000        0.000000       0.000000       0.000000   \n",
       "50%         0.000000        0.000000       0.000000       0.000000   \n",
       "75%         0.000000        1.000000       0.000000       0.000000   \n",
       "max         1.000000        1.000000       1.000000       1.000000   \n",
       "\n",
       "           age_26-35      age_36-45      age_46-50      age_51-55  \\\n",
       "count  550068.000000  550068.000000  550068.000000  550068.000000   \n",
       "mean        0.399200       0.199999       0.083082       0.069993   \n",
       "std         0.489734       0.400000       0.276007       0.255136   \n",
       "min         0.000000       0.000000       0.000000       0.000000   \n",
       "25%         0.000000       0.000000       0.000000       0.000000   \n",
       "50%         0.000000       0.000000       0.000000       0.000000   \n",
       "75%         1.000000       0.000000       0.000000       0.000000   \n",
       "max         1.000000       1.000000       1.000000       1.000000   \n",
       "\n",
       "             age_55+   occupation_0  ...  product_category_1_11  \\\n",
       "count  550068.000000  550068.000000  ...          550068.000000   \n",
       "mean        0.039093       0.126599  ...               0.044153   \n",
       "std         0.193817       0.332523  ...               0.205435   \n",
       "min         0.000000       0.000000  ...               0.000000   \n",
       "25%         0.000000       0.000000  ...               0.000000   \n",
       "50%         0.000000       0.000000  ...               0.000000   \n",
       "75%         0.000000       0.000000  ...               0.000000   \n",
       "max         1.000000       1.000000  ...               1.000000   \n",
       "\n",
       "       product_category_1_12  product_category_1_13  product_category_1_14  \\\n",
       "count          550068.000000          550068.000000          550068.000000   \n",
       "mean                0.007175               0.010088               0.002769   \n",
       "std                 0.084404               0.099930               0.052546   \n",
       "min                 0.000000               0.000000               0.000000   \n",
       "25%                 0.000000               0.000000               0.000000   \n",
       "50%                 0.000000               0.000000               0.000000   \n",
       "75%                 0.000000               0.000000               0.000000   \n",
       "max                 1.000000               1.000000               1.000000   \n",
       "\n",
       "       product_category_1_15  product_category_1_16  product_category_1_17  \\\n",
       "count          550068.000000          550068.000000          550068.000000   \n",
       "mean                0.011435               0.017867               0.001051   \n",
       "std                 0.106321               0.132468               0.032399   \n",
       "min                 0.000000               0.000000               0.000000   \n",
       "25%                 0.000000               0.000000               0.000000   \n",
       "50%                 0.000000               0.000000               0.000000   \n",
       "75%                 0.000000               0.000000               0.000000   \n",
       "max                 1.000000               1.000000               1.000000   \n",
       "\n",
       "       product_category_1_18  product_category_1_19  product_category_1_20  \n",
       "count          550068.000000          550068.000000          550068.000000  \n",
       "mean                0.005681               0.002914               0.004636  \n",
       "std                 0.075159               0.053905               0.067929  \n",
       "min                 0.000000               0.000000               0.000000  \n",
       "25%                 0.000000               0.000000               0.000000  \n",
       "50%                 0.000000               0.000000               0.000000  \n",
       "75%                 0.000000               0.000000               0.000000  \n",
       "max                 1.000000               1.000000               1.000000  \n",
       "\n",
       "[8 rows x 58 columns]"
      ]
     },
     "execution_count": 28,
     "metadata": {},
     "output_type": "execute_result"
    }
   ],
   "source": [
    "X_norm.describe()"
   ]
  },
  {
   "cell_type": "markdown",
   "id": "1c0fcfeb",
   "metadata": {},
   "source": [
    "### Split"
   ]
  },
  {
   "cell_type": "code",
   "execution_count": 29,
   "id": "67ad0bd9",
   "metadata": {},
   "outputs": [
    {
     "name": "stdout",
     "output_type": "stream",
     "text": [
      "550068\n",
      "467557\n",
      "82511\n"
     ]
    }
   ],
   "source": [
    "X_norm = X_norm.to_numpy()\n",
    "y = y.to_numpy()\n",
    "n = X_norm.shape[0]\n",
    "print(n)\n",
    "idx = np.random.permutation(np.arange(0, n))\n",
    "train_idx = idx[0:int(0.85 * n)]\n",
    "valid_idx = idx[int(0.85 * n):]\n",
    "print(len(train_idx))\n",
    "print(len(valid_idx))\n",
    "\n",
    "# train -> entrenar tu modelo (80%)\n",
    "# valid -> encontrar los HPs (10%)\n",
    "# test -> calcular las metricas finales (10%)"
   ]
  },
  {
   "cell_type": "code",
   "execution_count": 30,
   "id": "ee552772",
   "metadata": {},
   "outputs": [
    {
     "name": "stdout",
     "output_type": "stream",
     "text": [
      "(467557, 58)\n",
      "(467557,)\n",
      "(82511, 58)\n",
      "(82511,)\n"
     ]
    }
   ],
   "source": [
    "X_train = X_norm[train_idx,:]\n",
    "y_train = y[train_idx]\n",
    "X_valid = X_norm[valid_idx,:]\n",
    "y_valid = y[valid_idx]\n",
    "\n",
    "print(X_train.shape)\n",
    "print(y_train.shape)\n",
    "print(X_valid.shape)\n",
    "print(y_valid.shape)"
   ]
  },
  {
   "cell_type": "markdown",
   "id": "0ab7bcaa",
   "metadata": {},
   "source": [
    "# NNet with embeddings"
   ]
  },
  {
   "cell_type": "code",
   "execution_count": 37,
   "id": "786a99cf",
   "metadata": {},
   "outputs": [],
   "source": [
    "user_ids_unique = np.unique(user_ids)\n",
    "index_user_ids = np.arange(0, len(user_ids_unique))\n",
    "user_id_to_index = {key: value for key, value in zip(user_ids_unique, index_user_ids)}\n",
    "\n",
    "product_ids_unique = np.unique(product_ids)\n",
    "index_product_ids = np.arange(0, len(product_ids_unique))\n",
    "product_id_to_index = {key: value for key, value in zip(product_ids_unique, index_product_ids)}"
   ]
  },
  {
   "cell_type": "code",
   "execution_count": 42,
   "id": "a5c09258",
   "metadata": {},
   "outputs": [],
   "source": [
    "users_idx = np.array([user_id_to_index[user] for user in user_ids])"
   ]
  },
  {
   "cell_type": "code",
   "execution_count": 43,
   "id": "2b184dc4",
   "metadata": {},
   "outputs": [],
   "source": [
    "products_idx = np.array([product_id_to_index[product] for product in product_ids])"
   ]
  },
  {
   "cell_type": "code",
   "execution_count": 44,
   "id": "aa686dfa",
   "metadata": {},
   "outputs": [],
   "source": [
    "class CustomDatasetWithEmb(Dataset):\n",
    "\n",
    "    def __init__(self, X, users_idx, products_idx, y):\n",
    "        super().__init__()\n",
    "        self.X = X\n",
    "        self.users_idx = users_idx\n",
    "        self.products_idx = products_idx\n",
    "        self.y = y\n",
    "\n",
    "    def __len__(self):\n",
    "        return self.X.shape[0]\n",
    "\n",
    "    def __getitem__(self, idx):\n",
    "        return self.X[idx], self.users_idx[idx], self.products_idx[idx], self.y[idx]"
   ]
  },
  {
   "cell_type": "code",
   "execution_count": 45,
   "id": "b537ab2e",
   "metadata": {},
   "outputs": [],
   "source": [
    "users_index_train = users_idx[train_idx]  \n",
    "users_index_val = users_idx[valid_idx]\n",
    "\n",
    "products_index_train = products_idx[train_idx]  \n",
    "products_index_val = products_idx[valid_idx]\n",
    "\n",
    "train = CustomDatasetWithEmb(X_train, users_index_train, products_index_train, y_train)\n",
    "valid = CustomDatasetWithEmb(X_valid, users_index_val, products_index_val, y_valid)"
   ]
  },
  {
   "cell_type": "code",
   "execution_count": 46,
   "id": "1a296f19",
   "metadata": {},
   "outputs": [],
   "source": [
    "train_dataloader = DataLoader(train, batch_size=64, shuffle=True)\n",
    "valid_dataloader = DataLoader(valid, batch_size=64, shuffle=True)"
   ]
  },
  {
   "cell_type": "code",
   "execution_count": 68,
   "id": "940a3dd0",
   "metadata": {},
   "outputs": [],
   "source": [
    "class NNetWithEmbeddings(torch.nn.Module):\n",
    "\n",
    "    def __init__(self, number_of_users, number_od_products, d):\n",
    "        super().__init__()\n",
    "        self.embedding_1 = torch.nn.Embedding(num_embeddings=number_of_users, embedding_dim=d)\n",
    "        self.embedding_2 = torch.nn.Embedding(num_embeddings=number_od_products, embedding_dim=d)\n",
    "        \n",
    "        self.linear_1 = torch.nn.Linear(in_features=(58+d+d), out_features=128, bias=True)\n",
    "        self.relu_1 = torch.nn.ReLU()\n",
    "        self.linear_2 = torch.nn.Linear(in_features=128, out_features=256, bias=True)\n",
    "        self.relu_2 = torch.nn.ReLU()\n",
    "        self.linear_3 = torch.nn.Linear(in_features=256, out_features=1, bias=True)\n",
    "        self.output = torch.nn.Sigmoid()\n",
    "\n",
    "    def forward(self, x, user_idx, product_idx):\n",
    "        user_emb = self.embedding_1(user_idx)\n",
    "        prod_emb = self.embedding_2(product_idx)\n",
    "\n",
    "        final_input = torch.cat([x, user_emb, prod_emb], dim=1)\n",
    "\n",
    "        x = self.linear_1(final_input) \n",
    "        x = self.relu_1(x)\n",
    "        x = self.linear_2(x)\n",
    "        x = self.relu_2(x)        \n",
    "        x = self.linear_3(x)\n",
    "        x = self.output(x)\n",
    "        return x"
   ]
  },
  {
   "cell_type": "code",
   "execution_count": 69,
   "id": "f7cb3c4e",
   "metadata": {},
   "outputs": [],
   "source": [
    "nnet2 = NNetWithEmbeddings(number_of_users=5891, number_od_products=3631, d=8)\n",
    "optimizer = torch.optim.Adam(nnet2.parameters(), lr=0.001)\n",
    "loss_function = torch.nn.BCEWithLogitsLoss(reduction=\"sum\")"
   ]
  },
  {
   "cell_type": "code",
   "execution_count": 70,
   "id": "53216292",
   "metadata": {},
   "outputs": [
    {
     "name": "stdout",
     "output_type": "stream",
     "text": [
      "cpu\n"
     ]
    }
   ],
   "source": [
    "device = \"\"\n",
    "if torch.cuda.is_available():\n",
    "    device = \"cuda:0\"\n",
    "else:\n",
    "    device = \"cpu\"\n",
    "\n",
    "print(device)"
   ]
  },
  {
   "cell_type": "code",
   "execution_count": 71,
   "id": "6a1c0965",
   "metadata": {},
   "outputs": [
    {
     "name": "stdout",
     "output_type": "stream",
     "text": [
      "NNetWithEmbeddings(\n",
      "  (embedding_1): Embedding(5891, 8)\n",
      "  (embedding_2): Embedding(3631, 8)\n",
      "  (linear_1): Linear(in_features=74, out_features=128, bias=True)\n",
      "  (relu_1): ReLU()\n",
      "  (linear_2): Linear(in_features=128, out_features=256, bias=True)\n",
      "  (relu_2): ReLU()\n",
      "  (linear_3): Linear(in_features=256, out_features=1, bias=True)\n",
      "  (output): Sigmoid()\n",
      ")\n"
     ]
    }
   ],
   "source": [
    "print(nnet2)"
   ]
  },
  {
   "cell_type": "code",
   "execution_count": null,
   "id": "3fe3ca3b",
   "metadata": {},
   "outputs": [],
   "source": [
    "nnet = nnet2\n",
    "\n",
    "nnet.to(device)\n",
    "\n",
    "loss_list = []\n",
    "train_auc = []\n",
    "for epoch in range(100):\n",
    "\n",
    "    running_loss = 0\n",
    "    running_y_score = []\n",
    "    running_y_label = []\n",
    "\n",
    "    #### TRAINING ####\n",
    "\n",
    "    for i, data in enumerate(train_dataloader):\n",
    "\n",
    "        # datos del batch\n",
    "        X_batch, user_idx_batch, product_idx_batch, y_batch = data \n",
    "        X_batch = X_batch.to(device).float()\n",
    "        user_idx_batch = user_idx_batch.to(device)\n",
    "        product_idx_batch = product_idx_batch.to(device)\n",
    "        Y_batch = y_batch.to(device).float()\n",
    "\n",
    "        # forward\n",
    "        optimizer.zero_grad()\n",
    "        y_batch_score = nnet(X_batch, user_idx_batch, product_idx_batch).reshape(-1)\n",
    "        y_batch_hat = torch.sigmoid(y_batch_score).reshape(-1)\n",
    "\n",
    "        # backpropagation\n",
    "        loss = loss_function(y_batch_score, Y_batch) # calcula el loss\n",
    "        loss.backward() # hacer los gradientes del loss\n",
    "\n",
    "        # actualización de parametros\n",
    "        optimizer.step() \n",
    "\n",
    "        running_loss += loss.item()\n",
    "        running_y_score += list(y_batch_score.detach().cpu().numpy())  \n",
    "        running_y_label += list(Y_batch.detach().cpu().numpy()) \n",
    "\n",
    "    # metrics\n",
    "    loss_list.append(running_loss)\n",
    "    fpt, tpr, _ = metrics.roc_curve(running_y_label, running_y_score)\n",
    "    auc = metrics.auc(fpt, tpr)\n",
    "    train_auc.append(auc)\n",
    "    print(f\"Epoch {epoch} | Training loss: {running_loss} | AUC: {auc}\")"
   ]
  },
  {
   "cell_type": "code",
   "execution_count": null,
   "id": "73bc6b3c",
   "metadata": {},
   "outputs": [],
   "source": []
  }
 ],
 "metadata": {
  "kernelspec": {
   "display_name": "Python 3 (ipykernel)",
   "language": "python",
   "name": "python3"
  },
  "language_info": {
   "codemirror_mode": {
    "name": "ipython",
    "version": 3
   },
   "file_extension": ".py",
   "mimetype": "text/x-python",
   "name": "python",
   "nbconvert_exporter": "python",
   "pygments_lexer": "ipython3",
   "version": "3.9.5"
  }
 },
 "nbformat": 4,
 "nbformat_minor": 5
}
