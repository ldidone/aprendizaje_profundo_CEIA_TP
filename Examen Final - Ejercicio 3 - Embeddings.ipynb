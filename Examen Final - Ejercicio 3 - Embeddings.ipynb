{
 "cells": [
  {
   "cell_type": "markdown",
   "id": "02d5dfff",
   "metadata": {},
   "source": [
    "# Deep Learning"
   ]
  },
  {
   "cell_type": "markdown",
   "id": "410d17cf",
   "metadata": {},
   "source": [
    "## Examen Agosto 2022 - Embeddings"
   ]
  },
  {
   "cell_type": "markdown",
   "id": "5891d146",
   "metadata": {},
   "source": [
    "## Ejercicio 3.\n",
    "\n",
    "Descargar el dataset desde el [siguiente link](https://drive.google.com/file/d/1r1vnIW0jL1LJBrT_QVcQz_Sjizwa0adR/view). El dataset son compras de productos que diferentes clientes realizaron durante un black sales. El dataset contiene información sobre las transacciones y el objetivo es poder utilizar el dataset para crear diferentes modelos que puedan predecir cuánto un cliente está dispuesto a gastar en un producto en el futuro.\n",
    "Particularmente, vamos a tratar este problema como una clasificación binaria donde queremos averiguar si el cliente va a gastar mucha plata (más de 9000) o poca plata (menos de 9000).\n",
    "- a) Entrenar un modelo de deep learning que no utilice embeddings.\n",
    "- b) Entrenar un modelo de deep learning que utilice embeddings tanto para los productos como los usuarios. Realizar el mapeo de identificador de producto y usuarios a indices antes de separar el dataset en training, validation y testing.\n",
    "- c) Compare el score de cada modelo y comente lo necesario."
   ]
  },
  {
   "cell_type": "markdown",
   "id": "06189a13",
   "metadata": {},
   "source": [
    "### Librerías y funciones globales"
   ]
  },
  {
   "cell_type": "code",
   "execution_count": 1,
   "id": "312ac912",
   "metadata": {},
   "outputs": [],
   "source": [
    "import pandas as pd\n",
    "import numpy as np\n",
    "import matplotlib.pyplot as plt\n",
    "import seaborn as sns\n",
    "\n",
    "import torch\n",
    "from torch.utils.data import Dataset, DataLoader\n",
    "from sklearn import metrics"
   ]
  },
  {
   "cell_type": "markdown",
   "id": "54be1282",
   "metadata": {},
   "source": [
    "### 1. EDA"
   ]
  },
  {
   "cell_type": "code",
   "execution_count": 2,
   "id": "0499f166",
   "metadata": {},
   "outputs": [],
   "source": [
    "dataset = pd.read_csv('data/dataset_2.csv')"
   ]
  },
  {
   "cell_type": "code",
   "execution_count": 3,
   "id": "533be531",
   "metadata": {},
   "outputs": [],
   "source": [
    "df = dataset.copy(deep=True)"
   ]
  },
  {
   "cell_type": "code",
   "execution_count": 4,
   "id": "9d6354a6",
   "metadata": {},
   "outputs": [
    {
     "data": {
      "text/html": [
       "<div>\n",
       "<style scoped>\n",
       "    .dataframe tbody tr th:only-of-type {\n",
       "        vertical-align: middle;\n",
       "    }\n",
       "\n",
       "    .dataframe tbody tr th {\n",
       "        vertical-align: top;\n",
       "    }\n",
       "\n",
       "    .dataframe thead th {\n",
       "        text-align: right;\n",
       "    }\n",
       "</style>\n",
       "<table border=\"1\" class=\"dataframe\">\n",
       "  <thead>\n",
       "    <tr style=\"text-align: right;\">\n",
       "      <th></th>\n",
       "      <th>User_ID</th>\n",
       "      <th>Product_ID</th>\n",
       "      <th>Gender</th>\n",
       "      <th>Age</th>\n",
       "      <th>Occupation</th>\n",
       "      <th>City_Category</th>\n",
       "      <th>Stay_In_Current_City_Years</th>\n",
       "      <th>Marital_Status</th>\n",
       "      <th>Product_Category_1</th>\n",
       "      <th>Product_Category_2</th>\n",
       "      <th>Product_Category_3</th>\n",
       "      <th>Purchase</th>\n",
       "    </tr>\n",
       "  </thead>\n",
       "  <tbody>\n",
       "    <tr>\n",
       "      <th>0</th>\n",
       "      <td>1000001</td>\n",
       "      <td>P00069042</td>\n",
       "      <td>F</td>\n",
       "      <td>0-17</td>\n",
       "      <td>10</td>\n",
       "      <td>A</td>\n",
       "      <td>2</td>\n",
       "      <td>0</td>\n",
       "      <td>3</td>\n",
       "      <td>NaN</td>\n",
       "      <td>NaN</td>\n",
       "      <td>8370</td>\n",
       "    </tr>\n",
       "    <tr>\n",
       "      <th>1</th>\n",
       "      <td>1000001</td>\n",
       "      <td>P00248942</td>\n",
       "      <td>F</td>\n",
       "      <td>0-17</td>\n",
       "      <td>10</td>\n",
       "      <td>A</td>\n",
       "      <td>2</td>\n",
       "      <td>0</td>\n",
       "      <td>1</td>\n",
       "      <td>6.0</td>\n",
       "      <td>14.0</td>\n",
       "      <td>15200</td>\n",
       "    </tr>\n",
       "    <tr>\n",
       "      <th>2</th>\n",
       "      <td>1000001</td>\n",
       "      <td>P00087842</td>\n",
       "      <td>F</td>\n",
       "      <td>0-17</td>\n",
       "      <td>10</td>\n",
       "      <td>A</td>\n",
       "      <td>2</td>\n",
       "      <td>0</td>\n",
       "      <td>12</td>\n",
       "      <td>NaN</td>\n",
       "      <td>NaN</td>\n",
       "      <td>1422</td>\n",
       "    </tr>\n",
       "    <tr>\n",
       "      <th>3</th>\n",
       "      <td>1000001</td>\n",
       "      <td>P00085442</td>\n",
       "      <td>F</td>\n",
       "      <td>0-17</td>\n",
       "      <td>10</td>\n",
       "      <td>A</td>\n",
       "      <td>2</td>\n",
       "      <td>0</td>\n",
       "      <td>12</td>\n",
       "      <td>14.0</td>\n",
       "      <td>NaN</td>\n",
       "      <td>1057</td>\n",
       "    </tr>\n",
       "    <tr>\n",
       "      <th>4</th>\n",
       "      <td>1000002</td>\n",
       "      <td>P00285442</td>\n",
       "      <td>M</td>\n",
       "      <td>55+</td>\n",
       "      <td>16</td>\n",
       "      <td>C</td>\n",
       "      <td>4+</td>\n",
       "      <td>0</td>\n",
       "      <td>8</td>\n",
       "      <td>NaN</td>\n",
       "      <td>NaN</td>\n",
       "      <td>7969</td>\n",
       "    </tr>\n",
       "  </tbody>\n",
       "</table>\n",
       "</div>"
      ],
      "text/plain": [
       "   User_ID Product_ID Gender   Age  Occupation City_Category  \\\n",
       "0  1000001  P00069042      F  0-17          10             A   \n",
       "1  1000001  P00248942      F  0-17          10             A   \n",
       "2  1000001  P00087842      F  0-17          10             A   \n",
       "3  1000001  P00085442      F  0-17          10             A   \n",
       "4  1000002  P00285442      M   55+          16             C   \n",
       "\n",
       "  Stay_In_Current_City_Years  Marital_Status  Product_Category_1  \\\n",
       "0                          2               0                   3   \n",
       "1                          2               0                   1   \n",
       "2                          2               0                  12   \n",
       "3                          2               0                  12   \n",
       "4                         4+               0                   8   \n",
       "\n",
       "   Product_Category_2  Product_Category_3  Purchase  \n",
       "0                 NaN                 NaN      8370  \n",
       "1                 6.0                14.0     15200  \n",
       "2                 NaN                 NaN      1422  \n",
       "3                14.0                 NaN      1057  \n",
       "4                 NaN                 NaN      7969  "
      ]
     },
     "execution_count": 4,
     "metadata": {},
     "output_type": "execute_result"
    }
   ],
   "source": [
    "df.head()"
   ]
  },
  {
   "cell_type": "code",
   "execution_count": 5,
   "id": "18dc5a1a",
   "metadata": {},
   "outputs": [
    {
     "name": "stdout",
     "output_type": "stream",
     "text": [
      "<class 'pandas.core.frame.DataFrame'>\n",
      "RangeIndex: 550068 entries, 0 to 550067\n",
      "Data columns (total 12 columns):\n",
      " #   Column                      Non-Null Count   Dtype  \n",
      "---  ------                      --------------   -----  \n",
      " 0   User_ID                     550068 non-null  int64  \n",
      " 1   Product_ID                  550068 non-null  object \n",
      " 2   Gender                      550068 non-null  object \n",
      " 3   Age                         550068 non-null  object \n",
      " 4   Occupation                  550068 non-null  int64  \n",
      " 5   City_Category               550068 non-null  object \n",
      " 6   Stay_In_Current_City_Years  550068 non-null  object \n",
      " 7   Marital_Status              550068 non-null  int64  \n",
      " 8   Product_Category_1          550068 non-null  int64  \n",
      " 9   Product_Category_2          376430 non-null  float64\n",
      " 10  Product_Category_3          166821 non-null  float64\n",
      " 11  Purchase                    550068 non-null  int64  \n",
      "dtypes: float64(2), int64(5), object(5)\n",
      "memory usage: 50.4+ MB\n"
     ]
    }
   ],
   "source": [
    "df.info()"
   ]
  },
  {
   "cell_type": "code",
   "execution_count": 6,
   "id": "b363efe1",
   "metadata": {},
   "outputs": [
    {
     "data": {
      "text/html": [
       "<div>\n",
       "<style scoped>\n",
       "    .dataframe tbody tr th:only-of-type {\n",
       "        vertical-align: middle;\n",
       "    }\n",
       "\n",
       "    .dataframe tbody tr th {\n",
       "        vertical-align: top;\n",
       "    }\n",
       "\n",
       "    .dataframe thead th {\n",
       "        text-align: right;\n",
       "    }\n",
       "</style>\n",
       "<table border=\"1\" class=\"dataframe\">\n",
       "  <thead>\n",
       "    <tr style=\"text-align: right;\">\n",
       "      <th></th>\n",
       "      <th>User_ID</th>\n",
       "      <th>Occupation</th>\n",
       "      <th>Marital_Status</th>\n",
       "      <th>Product_Category_1</th>\n",
       "      <th>Product_Category_2</th>\n",
       "      <th>Product_Category_3</th>\n",
       "      <th>Purchase</th>\n",
       "    </tr>\n",
       "  </thead>\n",
       "  <tbody>\n",
       "    <tr>\n",
       "      <th>count</th>\n",
       "      <td>5.500680e+05</td>\n",
       "      <td>550068.000000</td>\n",
       "      <td>550068.000000</td>\n",
       "      <td>550068.000000</td>\n",
       "      <td>376430.000000</td>\n",
       "      <td>166821.000000</td>\n",
       "      <td>550068.000000</td>\n",
       "    </tr>\n",
       "    <tr>\n",
       "      <th>mean</th>\n",
       "      <td>1.003029e+06</td>\n",
       "      <td>8.076707</td>\n",
       "      <td>0.409653</td>\n",
       "      <td>5.404270</td>\n",
       "      <td>9.842329</td>\n",
       "      <td>12.668243</td>\n",
       "      <td>9263.968713</td>\n",
       "    </tr>\n",
       "    <tr>\n",
       "      <th>std</th>\n",
       "      <td>1.727592e+03</td>\n",
       "      <td>6.522660</td>\n",
       "      <td>0.491770</td>\n",
       "      <td>3.936211</td>\n",
       "      <td>5.086590</td>\n",
       "      <td>4.125338</td>\n",
       "      <td>5023.065394</td>\n",
       "    </tr>\n",
       "    <tr>\n",
       "      <th>min</th>\n",
       "      <td>1.000001e+06</td>\n",
       "      <td>0.000000</td>\n",
       "      <td>0.000000</td>\n",
       "      <td>1.000000</td>\n",
       "      <td>2.000000</td>\n",
       "      <td>3.000000</td>\n",
       "      <td>12.000000</td>\n",
       "    </tr>\n",
       "    <tr>\n",
       "      <th>25%</th>\n",
       "      <td>1.001516e+06</td>\n",
       "      <td>2.000000</td>\n",
       "      <td>0.000000</td>\n",
       "      <td>1.000000</td>\n",
       "      <td>5.000000</td>\n",
       "      <td>9.000000</td>\n",
       "      <td>5823.000000</td>\n",
       "    </tr>\n",
       "    <tr>\n",
       "      <th>50%</th>\n",
       "      <td>1.003077e+06</td>\n",
       "      <td>7.000000</td>\n",
       "      <td>0.000000</td>\n",
       "      <td>5.000000</td>\n",
       "      <td>9.000000</td>\n",
       "      <td>14.000000</td>\n",
       "      <td>8047.000000</td>\n",
       "    </tr>\n",
       "    <tr>\n",
       "      <th>75%</th>\n",
       "      <td>1.004478e+06</td>\n",
       "      <td>14.000000</td>\n",
       "      <td>1.000000</td>\n",
       "      <td>8.000000</td>\n",
       "      <td>15.000000</td>\n",
       "      <td>16.000000</td>\n",
       "      <td>12054.000000</td>\n",
       "    </tr>\n",
       "    <tr>\n",
       "      <th>max</th>\n",
       "      <td>1.006040e+06</td>\n",
       "      <td>20.000000</td>\n",
       "      <td>1.000000</td>\n",
       "      <td>20.000000</td>\n",
       "      <td>18.000000</td>\n",
       "      <td>18.000000</td>\n",
       "      <td>23961.000000</td>\n",
       "    </tr>\n",
       "  </tbody>\n",
       "</table>\n",
       "</div>"
      ],
      "text/plain": [
       "            User_ID     Occupation  Marital_Status  Product_Category_1  \\\n",
       "count  5.500680e+05  550068.000000   550068.000000       550068.000000   \n",
       "mean   1.003029e+06       8.076707        0.409653            5.404270   \n",
       "std    1.727592e+03       6.522660        0.491770            3.936211   \n",
       "min    1.000001e+06       0.000000        0.000000            1.000000   \n",
       "25%    1.001516e+06       2.000000        0.000000            1.000000   \n",
       "50%    1.003077e+06       7.000000        0.000000            5.000000   \n",
       "75%    1.004478e+06      14.000000        1.000000            8.000000   \n",
       "max    1.006040e+06      20.000000        1.000000           20.000000   \n",
       "\n",
       "       Product_Category_2  Product_Category_3       Purchase  \n",
       "count       376430.000000       166821.000000  550068.000000  \n",
       "mean             9.842329           12.668243    9263.968713  \n",
       "std              5.086590            4.125338    5023.065394  \n",
       "min              2.000000            3.000000      12.000000  \n",
       "25%              5.000000            9.000000    5823.000000  \n",
       "50%              9.000000           14.000000    8047.000000  \n",
       "75%             15.000000           16.000000   12054.000000  \n",
       "max             18.000000           18.000000   23961.000000  "
      ]
     },
     "execution_count": 6,
     "metadata": {},
     "output_type": "execute_result"
    }
   ],
   "source": [
    "df.describe()"
   ]
  },
  {
   "cell_type": "code",
   "execution_count": 7,
   "id": "47895c5f",
   "metadata": {},
   "outputs": [
    {
     "data": {
      "text/plain": [
       "User_ID                            0\n",
       "Product_ID                         0\n",
       "Gender                             0\n",
       "Age                                0\n",
       "Occupation                         0\n",
       "City_Category                      0\n",
       "Stay_In_Current_City_Years         0\n",
       "Marital_Status                     0\n",
       "Product_Category_1                 0\n",
       "Product_Category_2            173638\n",
       "Product_Category_3            383247\n",
       "Purchase                           0\n",
       "dtype: int64"
      ]
     },
     "execution_count": 7,
     "metadata": {},
     "output_type": "execute_result"
    }
   ],
   "source": [
    "df.isna().sum()"
   ]
  },
  {
   "cell_type": "markdown",
   "id": "470ca853",
   "metadata": {},
   "source": [
    "### Creamos la variable target y analizamos su distrbución"
   ]
  },
  {
   "cell_type": "code",
   "execution_count": 8,
   "id": "e463a4cf",
   "metadata": {},
   "outputs": [],
   "source": [
    "df['target'] = df['Purchase'].apply(lambda x: 1 if x >= 9000 else 0)"
   ]
  },
  {
   "cell_type": "code",
   "execution_count": 9,
   "id": "066dac56",
   "metadata": {},
   "outputs": [
    {
     "data": {
      "text/plain": [
       "<AxesSubplot:ylabel='target'>"
      ]
     },
     "execution_count": 9,
     "metadata": {},
     "output_type": "execute_result"
    },
    {
     "data": {
      "image/png": "[encoded data removed]",
      "text/plain": [
       "<Figure size 400x400 with 1 Axes>"
      ]
     },
     "metadata": {},
     "output_type": "display_data"
    }
   ],
   "source": [
    "df['target'].value_counts().plot.pie(autopct='%1.0f%%', figsize=(4,4))"
   ]
  },
  {
   "cell_type": "code",
   "execution_count": 10,
   "id": "810c4b66",
   "metadata": {},
   "outputs": [
    {
     "data": {
      "text/plain": [
       "0    330871\n",
       "1    219197\n",
       "Name: target, dtype: int64"
      ]
     },
     "execution_count": 10,
     "metadata": {},
     "output_type": "execute_result"
    }
   ],
   "source": [
    "# 0 -> compra menos de 9000\n",
    "# 1 -> compra 9000 o más\n",
    "df['target'].value_counts()"
   ]
  },
  {
   "cell_type": "markdown",
   "id": "4ad6a7ec",
   "metadata": {},
   "source": [
    "### Eliminamos la variable Purchase"
   ]
  },
  {
   "cell_type": "code",
   "execution_count": 11,
   "id": "5985712a",
   "metadata": {},
   "outputs": [],
   "source": [
    "df.drop(['Purchase'], axis=1, inplace=True)"
   ]
  },
  {
   "cell_type": "markdown",
   "id": "53a2c3a4",
   "metadata": {},
   "source": [
    "### Eliminamos la variable Product_Category_2 y Product_Category_3\n",
    "- Las eliminamos ya que superan el 25% de valores nulos"
   ]
  },
  {
   "cell_type": "code",
   "execution_count": 12,
   "id": "26c079aa",
   "metadata": {},
   "outputs": [],
   "source": [
    "df.drop(['Product_Category_2'], axis=1, inplace=True)\n",
    "df.drop(['Product_Category_3'], axis=1, inplace=True)"
   ]
  },
  {
   "cell_type": "markdown",
   "id": "064febab",
   "metadata": {},
   "source": [
    "### Renombramos las columnas restantes"
   ]
  },
  {
   "cell_type": "code",
   "execution_count": 13,
   "id": "34d3a6e2",
   "metadata": {},
   "outputs": [
    {
     "data": {
      "text/plain": [
       "Index(['User_ID', 'Product_ID', 'Gender', 'Age', 'Occupation', 'City_Category',\n",
       "       'Stay_In_Current_City_Years', 'Marital_Status', 'Product_Category_1',\n",
       "       'target'],\n",
       "      dtype='object')"
      ]
     },
     "execution_count": 13,
     "metadata": {},
     "output_type": "execute_result"
    }
   ],
   "source": [
    "df.columns"
   ]
  },
  {
   "cell_type": "code",
   "execution_count": 14,
   "id": "36c413a2",
   "metadata": {},
   "outputs": [],
   "source": [
    "columns = {\n",
    "    'User_ID': 'user_id',\n",
    "    'Product_ID': 'product_id',\n",
    "    'Gender': 'gender',\n",
    "    'Age': 'age',\n",
    "    'Occupation': 'occupation',\n",
    "    'City_Category': 'city_category',\n",
    "    'Stay_In_Current_City_Years': 'stay_in_current_city_years',\n",
    "    'Marital_Status': 'marital_status',\n",
    "    'Product_Category_1': 'product_category_1',\n",
    "    'target': 'target',\n",
    "}"
   ]
  },
  {
   "cell_type": "code",
   "execution_count": 15,
   "id": "75b925c4",
   "metadata": {},
   "outputs": [],
   "source": [
    "df.rename(columns=columns, inplace=True)"
   ]
  },
  {
   "cell_type": "markdown",
   "id": "18ec3c9e",
   "metadata": {},
   "source": [
    "### Ingeniería de features"
   ]
  },
  {
   "cell_type": "code",
   "execution_count": 16,
   "id": "67168c78",
   "metadata": {},
   "outputs": [
    {
     "data": {
      "text/html": [
       "<div>\n",
       "<style scoped>\n",
       "    .dataframe tbody tr th:only-of-type {\n",
       "        vertical-align: middle;\n",
       "    }\n",
       "\n",
       "    .dataframe tbody tr th {\n",
       "        vertical-align: top;\n",
       "    }\n",
       "\n",
       "    .dataframe thead th {\n",
       "        text-align: right;\n",
       "    }\n",
       "</style>\n",
       "<table border=\"1\" class=\"dataframe\">\n",
       "  <thead>\n",
       "    <tr style=\"text-align: right;\">\n",
       "      <th></th>\n",
       "      <th>user_id</th>\n",
       "      <th>product_id</th>\n",
       "      <th>gender</th>\n",
       "      <th>age</th>\n",
       "      <th>occupation</th>\n",
       "      <th>city_category</th>\n",
       "      <th>stay_in_current_city_years</th>\n",
       "      <th>marital_status</th>\n",
       "      <th>product_category_1</th>\n",
       "      <th>target</th>\n",
       "    </tr>\n",
       "  </thead>\n",
       "  <tbody>\n",
       "    <tr>\n",
       "      <th>0</th>\n",
       "      <td>1000001</td>\n",
       "      <td>P00069042</td>\n",
       "      <td>F</td>\n",
       "      <td>0-17</td>\n",
       "      <td>10</td>\n",
       "      <td>A</td>\n",
       "      <td>2</td>\n",
       "      <td>0</td>\n",
       "      <td>3</td>\n",
       "      <td>0</td>\n",
       "    </tr>\n",
       "    <tr>\n",
       "      <th>1</th>\n",
       "      <td>1000001</td>\n",
       "      <td>P00248942</td>\n",
       "      <td>F</td>\n",
       "      <td>0-17</td>\n",
       "      <td>10</td>\n",
       "      <td>A</td>\n",
       "      <td>2</td>\n",
       "      <td>0</td>\n",
       "      <td>1</td>\n",
       "      <td>1</td>\n",
       "    </tr>\n",
       "    <tr>\n",
       "      <th>2</th>\n",
       "      <td>1000001</td>\n",
       "      <td>P00087842</td>\n",
       "      <td>F</td>\n",
       "      <td>0-17</td>\n",
       "      <td>10</td>\n",
       "      <td>A</td>\n",
       "      <td>2</td>\n",
       "      <td>0</td>\n",
       "      <td>12</td>\n",
       "      <td>0</td>\n",
       "    </tr>\n",
       "    <tr>\n",
       "      <th>3</th>\n",
       "      <td>1000001</td>\n",
       "      <td>P00085442</td>\n",
       "      <td>F</td>\n",
       "      <td>0-17</td>\n",
       "      <td>10</td>\n",
       "      <td>A</td>\n",
       "      <td>2</td>\n",
       "      <td>0</td>\n",
       "      <td>12</td>\n",
       "      <td>0</td>\n",
       "    </tr>\n",
       "    <tr>\n",
       "      <th>4</th>\n",
       "      <td>1000002</td>\n",
       "      <td>P00285442</td>\n",
       "      <td>M</td>\n",
       "      <td>55+</td>\n",
       "      <td>16</td>\n",
       "      <td>C</td>\n",
       "      <td>4+</td>\n",
       "      <td>0</td>\n",
       "      <td>8</td>\n",
       "      <td>0</td>\n",
       "    </tr>\n",
       "  </tbody>\n",
       "</table>\n",
       "</div>"
      ],
      "text/plain": [
       "   user_id product_id gender   age  occupation city_category  \\\n",
       "0  1000001  P00069042      F  0-17          10             A   \n",
       "1  1000001  P00248942      F  0-17          10             A   \n",
       "2  1000001  P00087842      F  0-17          10             A   \n",
       "3  1000001  P00085442      F  0-17          10             A   \n",
       "4  1000002  P00285442      M   55+          16             C   \n",
       "\n",
       "  stay_in_current_city_years  marital_status  product_category_1  target  \n",
       "0                          2               0                   3       0  \n",
       "1                          2               0                   1       1  \n",
       "2                          2               0                  12       0  \n",
       "3                          2               0                  12       0  \n",
       "4                         4+               0                   8       0  "
      ]
     },
     "execution_count": 16,
     "metadata": {},
     "output_type": "execute_result"
    }
   ],
   "source": [
    "df.head()"
   ]
  },
  {
   "cell_type": "markdown",
   "id": "9225a1f6",
   "metadata": {},
   "source": [
    "#### Variable user_id: embeddings"
   ]
  },
  {
   "cell_type": "code",
   "execution_count": 17,
   "id": "7682d4f7",
   "metadata": {},
   "outputs": [
    {
     "name": "stdout",
     "output_type": "stream",
     "text": [
      "Cantidad de elementos únicos: 5891\n"
     ]
    }
   ],
   "source": [
    "# Analicemos la variable user_id\n",
    "print(f'Cantidad de elementos únicos: {len(df[\"user_id\"].unique())}')\n",
    "user_ids = df[\"user_id\"]\n",
    "df.drop([\"user_id\"], axis=1, inplace=True)"
   ]
  },
  {
   "cell_type": "markdown",
   "id": "25d22b7d",
   "metadata": {},
   "source": [
    "#### Variable product_id: embeddings"
   ]
  },
  {
   "cell_type": "code",
   "execution_count": 18,
   "id": "3f7fc02b",
   "metadata": {},
   "outputs": [
    {
     "name": "stdout",
     "output_type": "stream",
     "text": [
      "Cantidad de elementos únicos: 3631\n"
     ]
    }
   ],
   "source": [
    "# Analicemos la variable product_id\n",
    "print(f'Cantidad de elementos únicos: {len(df[\"product_id\"].unique())}')\n",
    "product_ids = df[\"product_id\"]\n",
    "df.drop([\"product_id\"], axis=1, inplace=True)"
   ]
  },
  {
   "cell_type": "markdown",
   "id": "166df8b1",
   "metadata": {},
   "source": [
    "#### Variables gender: binarización"
   ]
  },
  {
   "cell_type": "code",
   "execution_count": 19,
   "id": "77189b3f",
   "metadata": {},
   "outputs": [],
   "source": [
    "df['gender'] = df['gender'].apply(lambda x: 1 if x == 'F' else 0)"
   ]
  },
  {
   "cell_type": "markdown",
   "id": "430eb6d6",
   "metadata": {},
   "source": [
    "#### Variables categóricas:"
   ]
  },
  {
   "cell_type": "code",
   "execution_count": 20,
   "id": "84d5f63b",
   "metadata": {},
   "outputs": [],
   "source": [
    "categorical_columns = ['age', 'occupation', 'city_category', 'stay_in_current_city_years', 'product_category_1']"
   ]
  },
  {
   "cell_type": "code",
   "execution_count": 21,
   "id": "874bdc3c",
   "metadata": {},
   "outputs": [],
   "source": [
    "for column in categorical_columns:\n",
    "    dummies = pd.get_dummies(df[column], prefix=column) \n",
    "    df = pd.concat([df, dummies], axis=1)\n",
    "    df.drop([column], axis=1, inplace=True)"
   ]
  },
  {
   "cell_type": "markdown",
   "id": "a4fa23c3",
   "metadata": {},
   "source": [
    "### Normalización"
   ]
  },
  {
   "cell_type": "code",
   "execution_count": 22,
   "id": "a1d9d5c4",
   "metadata": {},
   "outputs": [],
   "source": [
    "X_columns = list(df.columns)"
   ]
  },
  {
   "cell_type": "code",
   "execution_count": 23,
   "id": "1bc61589",
   "metadata": {},
   "outputs": [],
   "source": [
    "X_columns.remove('target')"
   ]
  },
  {
   "cell_type": "code",
   "execution_count": 24,
   "id": "2300e7be",
   "metadata": {},
   "outputs": [],
   "source": [
    "X = df[X_columns]"
   ]
  },
  {
   "cell_type": "code",
   "execution_count": 25,
   "id": "a9bf2c5d",
   "metadata": {},
   "outputs": [],
   "source": [
    "y = df['target']"
   ]
  },
  {
   "cell_type": "code",
   "execution_count": 26,
   "id": "2dbae6a7",
   "metadata": {},
   "outputs": [],
   "source": [
    "X_norm = (X - np.min(X, axis=0)) / (np.max(X, axis=0) - np.min(X, axis=0))"
   ]
  },
  {
   "cell_type": "code",
   "execution_count": 27,
   "id": "d5332a96",
   "metadata": {},
   "outputs": [
    {
     "name": "stdout",
     "output_type": "stream",
     "text": [
      "gender                           0.0\n",
      "marital_status                   0.0\n",
      "age_0-17                         0.0\n",
      "age_18-25                        0.0\n",
      "age_26-35                        0.0\n",
      "age_36-45                        0.0\n",
      "age_46-50                        0.0\n",
      "age_51-55                        0.0\n",
      "age_55+                          0.0\n",
      "occupation_0                     0.0\n",
      "occupation_1                     0.0\n",
      "occupation_2                     0.0\n",
      "occupation_3                     0.0\n",
      "occupation_4                     0.0\n",
      "occupation_5                     0.0\n",
      "occupation_6                     0.0\n",
      "occupation_7                     0.0\n",
      "occupation_8                     0.0\n",
      "occupation_9                     0.0\n",
      "occupation_10                    0.0\n",
      "occupation_11                    0.0\n",
      "occupation_12                    0.0\n",
      "occupation_13                    0.0\n",
      "occupation_14                    0.0\n",
      "occupation_15                    0.0\n",
      "occupation_16                    0.0\n",
      "occupation_17                    0.0\n",
      "occupation_18                    0.0\n",
      "occupation_19                    0.0\n",
      "occupation_20                    0.0\n",
      "city_category_A                  0.0\n",
      "city_category_B                  0.0\n",
      "city_category_C                  0.0\n",
      "stay_in_current_city_years_0     0.0\n",
      "stay_in_current_city_years_1     0.0\n",
      "stay_in_current_city_years_2     0.0\n",
      "stay_in_current_city_years_3     0.0\n",
      "stay_in_current_city_years_4+    0.0\n",
      "product_category_1_1             0.0\n",
      "product_category_1_2             0.0\n",
      "product_category_1_3             0.0\n",
      "product_category_1_4             0.0\n",
      "product_category_1_5             0.0\n",
      "product_category_1_6             0.0\n",
      "product_category_1_7             0.0\n",
      "product_category_1_8             0.0\n",
      "product_category_1_9             0.0\n",
      "product_category_1_10            0.0\n",
      "product_category_1_11            0.0\n",
      "product_category_1_12            0.0\n",
      "product_category_1_13            0.0\n",
      "product_category_1_14            0.0\n",
      "product_category_1_15            0.0\n",
      "product_category_1_16            0.0\n",
      "product_category_1_17            0.0\n",
      "product_category_1_18            0.0\n",
      "product_category_1_19            0.0\n",
      "product_category_1_20            0.0\n",
      "dtype: float64\n",
      "gender                           1.0\n",
      "marital_status                   1.0\n",
      "age_0-17                         1.0\n",
      "age_18-25                        1.0\n",
      "age_26-35                        1.0\n",
      "age_36-45                        1.0\n",
      "age_46-50                        1.0\n",
      "age_51-55                        1.0\n",
      "age_55+                          1.0\n",
      "occupation_0                     1.0\n",
      "occupation_1                     1.0\n",
      "occupation_2                     1.0\n",
      "occupation_3                     1.0\n",
      "occupation_4                     1.0\n",
      "occupation_5                     1.0\n",
      "occupation_6                     1.0\n",
      "occupation_7                     1.0\n",
      "occupation_8                     1.0\n",
      "occupation_9                     1.0\n",
      "occupation_10                    1.0\n",
      "occupation_11                    1.0\n",
      "occupation_12                    1.0\n",
      "occupation_13                    1.0\n",
      "occupation_14                    1.0\n",
      "occupation_15                    1.0\n",
      "occupation_16                    1.0\n",
      "occupation_17                    1.0\n",
      "occupation_18                    1.0\n",
      "occupation_19                    1.0\n",
      "occupation_20                    1.0\n",
      "city_category_A                  1.0\n",
      "city_category_B                  1.0\n",
      "city_category_C                  1.0\n",
      "stay_in_current_city_years_0     1.0\n",
      "stay_in_current_city_years_1     1.0\n",
      "stay_in_current_city_years_2     1.0\n",
      "stay_in_current_city_years_3     1.0\n",
      "stay_in_current_city_years_4+    1.0\n",
      "product_category_1_1             1.0\n",
      "product_category_1_2             1.0\n",
      "product_category_1_3             1.0\n",
      "product_category_1_4             1.0\n",
      "product_category_1_5             1.0\n",
      "product_category_1_6             1.0\n",
      "product_category_1_7             1.0\n",
      "product_category_1_8             1.0\n",
      "product_category_1_9             1.0\n",
      "product_category_1_10            1.0\n",
      "product_category_1_11            1.0\n",
      "product_category_1_12            1.0\n",
      "product_category_1_13            1.0\n",
      "product_category_1_14            1.0\n",
      "product_category_1_15            1.0\n",
      "product_category_1_16            1.0\n",
      "product_category_1_17            1.0\n",
      "product_category_1_18            1.0\n",
      "product_category_1_19            1.0\n",
      "product_category_1_20            1.0\n",
      "dtype: float64\n"
     ]
    }
   ],
   "source": [
    "print(np.min(X_norm, axis=0))\n",
    "print(np.max(X_norm, axis=0))"
   ]
  },
  {
   "cell_type": "code",
   "execution_count": 28,
   "id": "0a9ba8a2",
   "metadata": {},
   "outputs": [
    {
     "data": {
      "text/html": [
       "<div>\n",
       "<style scoped>\n",
       "    .dataframe tbody tr th:only-of-type {\n",
       "        vertical-align: middle;\n",
       "    }\n",
       "\n",
       "    .dataframe tbody tr th {\n",
       "        vertical-align: top;\n",
       "    }\n",
       "\n",
       "    .dataframe thead th {\n",
       "        text-align: right;\n",
       "    }\n",
       "</style>\n",
       "<table border=\"1\" class=\"dataframe\">\n",
       "  <thead>\n",
       "    <tr style=\"text-align: right;\">\n",
       "      <th></th>\n",
       "      <th>gender</th>\n",
       "      <th>marital_status</th>\n",
       "      <th>age_0-17</th>\n",
       "      <th>age_18-25</th>\n",
       "      <th>age_26-35</th>\n",
       "      <th>age_36-45</th>\n",
       "      <th>age_46-50</th>\n",
       "      <th>age_51-55</th>\n",
       "      <th>age_55+</th>\n",
       "      <th>occupation_0</th>\n",
       "      <th>...</th>\n",
       "      <th>product_category_1_11</th>\n",
       "      <th>product_category_1_12</th>\n",
       "      <th>product_category_1_13</th>\n",
       "      <th>product_category_1_14</th>\n",
       "      <th>product_category_1_15</th>\n",
       "      <th>product_category_1_16</th>\n",
       "      <th>product_category_1_17</th>\n",
       "      <th>product_category_1_18</th>\n",
       "      <th>product_category_1_19</th>\n",
       "      <th>product_category_1_20</th>\n",
       "    </tr>\n",
       "  </thead>\n",
       "  <tbody>\n",
       "    <tr>\n",
       "      <th>count</th>\n",
       "      <td>550068.000000</td>\n",
       "      <td>550068.000000</td>\n",
       "      <td>550068.000000</td>\n",
       "      <td>550068.000000</td>\n",
       "      <td>550068.000000</td>\n",
       "      <td>550068.000000</td>\n",
       "      <td>550068.000000</td>\n",
       "      <td>550068.000000</td>\n",
       "      <td>550068.000000</td>\n",
       "      <td>550068.000000</td>\n",
       "      <td>...</td>\n",
       "      <td>550068.000000</td>\n",
       "      <td>550068.000000</td>\n",
       "      <td>550068.000000</td>\n",
       "      <td>550068.000000</td>\n",
       "      <td>550068.000000</td>\n",
       "      <td>550068.000000</td>\n",
       "      <td>550068.000000</td>\n",
       "      <td>550068.000000</td>\n",
       "      <td>550068.000000</td>\n",
       "      <td>550068.000000</td>\n",
       "    </tr>\n",
       "    <tr>\n",
       "      <th>mean</th>\n",
       "      <td>0.246895</td>\n",
       "      <td>0.409653</td>\n",
       "      <td>0.027455</td>\n",
       "      <td>0.181178</td>\n",
       "      <td>0.399200</td>\n",
       "      <td>0.199999</td>\n",
       "      <td>0.083082</td>\n",
       "      <td>0.069993</td>\n",
       "      <td>0.039093</td>\n",
       "      <td>0.126599</td>\n",
       "      <td>...</td>\n",
       "      <td>0.044153</td>\n",
       "      <td>0.007175</td>\n",
       "      <td>0.010088</td>\n",
       "      <td>0.002769</td>\n",
       "      <td>0.011435</td>\n",
       "      <td>0.017867</td>\n",
       "      <td>0.001051</td>\n",
       "      <td>0.005681</td>\n",
       "      <td>0.002914</td>\n",
       "      <td>0.004636</td>\n",
       "    </tr>\n",
       "    <tr>\n",
       "      <th>std</th>\n",
       "      <td>0.431205</td>\n",
       "      <td>0.491770</td>\n",
       "      <td>0.163405</td>\n",
       "      <td>0.385166</td>\n",
       "      <td>0.489734</td>\n",
       "      <td>0.400000</td>\n",
       "      <td>0.276007</td>\n",
       "      <td>0.255136</td>\n",
       "      <td>0.193817</td>\n",
       "      <td>0.332523</td>\n",
       "      <td>...</td>\n",
       "      <td>0.205435</td>\n",
       "      <td>0.084404</td>\n",
       "      <td>0.099930</td>\n",
       "      <td>0.052546</td>\n",
       "      <td>0.106321</td>\n",
       "      <td>0.132468</td>\n",
       "      <td>0.032399</td>\n",
       "      <td>0.075159</td>\n",
       "      <td>0.053905</td>\n",
       "      <td>0.067929</td>\n",
       "    </tr>\n",
       "    <tr>\n",
       "      <th>min</th>\n",
       "      <td>0.000000</td>\n",
       "      <td>0.000000</td>\n",
       "      <td>0.000000</td>\n",
       "      <td>0.000000</td>\n",
       "      <td>0.000000</td>\n",
       "      <td>0.000000</td>\n",
       "      <td>0.000000</td>\n",
       "      <td>0.000000</td>\n",
       "      <td>0.000000</td>\n",
       "      <td>0.000000</td>\n",
       "      <td>...</td>\n",
       "      <td>0.000000</td>\n",
       "      <td>0.000000</td>\n",
       "      <td>0.000000</td>\n",
       "      <td>0.000000</td>\n",
       "      <td>0.000000</td>\n",
       "      <td>0.000000</td>\n",
       "      <td>0.000000</td>\n",
       "      <td>0.000000</td>\n",
       "      <td>0.000000</td>\n",
       "      <td>0.000000</td>\n",
       "    </tr>\n",
       "    <tr>\n",
       "      <th>25%</th>\n",
       "      <td>0.000000</td>\n",
       "      <td>0.000000</td>\n",
       "      <td>0.000000</td>\n",
       "      <td>0.000000</td>\n",
       "      <td>0.000000</td>\n",
       "      <td>0.000000</td>\n",
       "      <td>0.000000</td>\n",
       "      <td>0.000000</td>\n",
       "      <td>0.000000</td>\n",
       "      <td>0.000000</td>\n",
       "      <td>...</td>\n",
       "      <td>0.000000</td>\n",
       "      <td>0.000000</td>\n",
       "      <td>0.000000</td>\n",
       "      <td>0.000000</td>\n",
       "      <td>0.000000</td>\n",
       "      <td>0.000000</td>\n",
       "      <td>0.000000</td>\n",
       "      <td>0.000000</td>\n",
       "      <td>0.000000</td>\n",
       "      <td>0.000000</td>\n",
       "    </tr>\n",
       "    <tr>\n",
       "      <th>50%</th>\n",
       "      <td>0.000000</td>\n",
       "      <td>0.000000</td>\n",
       "      <td>0.000000</td>\n",
       "      <td>0.000000</td>\n",
       "      <td>0.000000</td>\n",
       "      <td>0.000000</td>\n",
       "      <td>0.000000</td>\n",
       "      <td>0.000000</td>\n",
       "      <td>0.000000</td>\n",
       "      <td>0.000000</td>\n",
       "      <td>...</td>\n",
       "      <td>0.000000</td>\n",
       "      <td>0.000000</td>\n",
       "      <td>0.000000</td>\n",
       "      <td>0.000000</td>\n",
       "      <td>0.000000</td>\n",
       "      <td>0.000000</td>\n",
       "      <td>0.000000</td>\n",
       "      <td>0.000000</td>\n",
       "      <td>0.000000</td>\n",
       "      <td>0.000000</td>\n",
       "    </tr>\n",
       "    <tr>\n",
       "      <th>75%</th>\n",
       "      <td>0.000000</td>\n",
       "      <td>1.000000</td>\n",
       "      <td>0.000000</td>\n",
       "      <td>0.000000</td>\n",
       "      <td>1.000000</td>\n",
       "      <td>0.000000</td>\n",
       "      <td>0.000000</td>\n",
       "      <td>0.000000</td>\n",
       "      <td>0.000000</td>\n",
       "      <td>0.000000</td>\n",
       "      <td>...</td>\n",
       "      <td>0.000000</td>\n",
       "      <td>0.000000</td>\n",
       "      <td>0.000000</td>\n",
       "      <td>0.000000</td>\n",
       "      <td>0.000000</td>\n",
       "      <td>0.000000</td>\n",
       "      <td>0.000000</td>\n",
       "      <td>0.000000</td>\n",
       "      <td>0.000000</td>\n",
       "      <td>0.000000</td>\n",
       "    </tr>\n",
       "    <tr>\n",
       "      <th>max</th>\n",
       "      <td>1.000000</td>\n",
       "      <td>1.000000</td>\n",
       "      <td>1.000000</td>\n",
       "      <td>1.000000</td>\n",
       "      <td>1.000000</td>\n",
       "      <td>1.000000</td>\n",
       "      <td>1.000000</td>\n",
       "      <td>1.000000</td>\n",
       "      <td>1.000000</td>\n",
       "      <td>1.000000</td>\n",
       "      <td>...</td>\n",
       "      <td>1.000000</td>\n",
       "      <td>1.000000</td>\n",
       "      <td>1.000000</td>\n",
       "      <td>1.000000</td>\n",
       "      <td>1.000000</td>\n",
       "      <td>1.000000</td>\n",
       "      <td>1.000000</td>\n",
       "      <td>1.000000</td>\n",
       "      <td>1.000000</td>\n",
       "      <td>1.000000</td>\n",
       "    </tr>\n",
       "  </tbody>\n",
       "</table>\n",
       "<p>8 rows × 58 columns</p>\n",
       "</div>"
      ],
      "text/plain": [
       "              gender  marital_status       age_0-17      age_18-25  \\\n",
       "count  550068.000000   550068.000000  550068.000000  550068.000000   \n",
       "mean        0.246895        0.409653       0.027455       0.181178   \n",
       "std         0.431205        0.491770       0.163405       0.385166   \n",
       "min         0.000000        0.000000       0.000000       0.000000   \n",
       "25%         0.000000        0.000000       0.000000       0.000000   \n",
       "50%         0.000000        0.000000       0.000000       0.000000   \n",
       "75%         0.000000        1.000000       0.000000       0.000000   \n",
       "max         1.000000        1.000000       1.000000       1.000000   \n",
       "\n",
       "           age_26-35      age_36-45      age_46-50      age_51-55  \\\n",
       "count  550068.000000  550068.000000  550068.000000  550068.000000   \n",
       "mean        0.399200       0.199999       0.083082       0.069993   \n",
       "std         0.489734       0.400000       0.276007       0.255136   \n",
       "min         0.000000       0.000000       0.000000       0.000000   \n",
       "25%         0.000000       0.000000       0.000000       0.000000   \n",
       "50%         0.000000       0.000000       0.000000       0.000000   \n",
       "75%         1.000000       0.000000       0.000000       0.000000   \n",
       "max         1.000000       1.000000       1.000000       1.000000   \n",
       "\n",
       "             age_55+   occupation_0  ...  product_category_1_11  \\\n",
       "count  550068.000000  550068.000000  ...          550068.000000   \n",
       "mean        0.039093       0.126599  ...               0.044153   \n",
       "std         0.193817       0.332523  ...               0.205435   \n",
       "min         0.000000       0.000000  ...               0.000000   \n",
       "25%         0.000000       0.000000  ...               0.000000   \n",
       "50%         0.000000       0.000000  ...               0.000000   \n",
       "75%         0.000000       0.000000  ...               0.000000   \n",
       "max         1.000000       1.000000  ...               1.000000   \n",
       "\n",
       "       product_category_1_12  product_category_1_13  product_category_1_14  \\\n",
       "count          550068.000000          550068.000000          550068.000000   \n",
       "mean                0.007175               0.010088               0.002769   \n",
       "std                 0.084404               0.099930               0.052546   \n",
       "min                 0.000000               0.000000               0.000000   \n",
       "25%                 0.000000               0.000000               0.000000   \n",
       "50%                 0.000000               0.000000               0.000000   \n",
       "75%                 0.000000               0.000000               0.000000   \n",
       "max                 1.000000               1.000000               1.000000   \n",
       "\n",
       "       product_category_1_15  product_category_1_16  product_category_1_17  \\\n",
       "count          550068.000000          550068.000000          550068.000000   \n",
       "mean                0.011435               0.017867               0.001051   \n",
       "std                 0.106321               0.132468               0.032399   \n",
       "min                 0.000000               0.000000               0.000000   \n",
       "25%                 0.000000               0.000000               0.000000   \n",
       "50%                 0.000000               0.000000               0.000000   \n",
       "75%                 0.000000               0.000000               0.000000   \n",
       "max                 1.000000               1.000000               1.000000   \n",
       "\n",
       "       product_category_1_18  product_category_1_19  product_category_1_20  \n",
       "count          550068.000000          550068.000000          550068.000000  \n",
       "mean                0.005681               0.002914               0.004636  \n",
       "std                 0.075159               0.053905               0.067929  \n",
       "min                 0.000000               0.000000               0.000000  \n",
       "25%                 0.000000               0.000000               0.000000  \n",
       "50%                 0.000000               0.000000               0.000000  \n",
       "75%                 0.000000               0.000000               0.000000  \n",
       "max                 1.000000               1.000000               1.000000  \n",
       "\n",
       "[8 rows x 58 columns]"
      ]
     },
     "execution_count": 28,
     "metadata": {},
     "output_type": "execute_result"
    }
   ],
   "source": [
    "X_norm.describe()"
   ]
  },
  {
   "cell_type": "markdown",
   "id": "1c0fcfeb",
   "metadata": {},
   "source": [
    "### Split"
   ]
  },
  {
   "cell_type": "code",
   "execution_count": 29,
   "id": "67ad0bd9",
   "metadata": {},
   "outputs": [
    {
     "name": "stdout",
     "output_type": "stream",
     "text": [
      "550068\n",
      "467557\n",
      "82511\n"
     ]
    }
   ],
   "source": [
    "X_norm = X_norm.to_numpy()\n",
    "y = y.to_numpy()\n",
    "n = X_norm.shape[0]\n",
    "print(n)\n",
    "idx = np.random.permutation(np.arange(0, n))\n",
    "train_idx = idx[0:int(0.85 * n)]\n",
    "valid_idx = idx[int(0.85 * n):]\n",
    "print(len(train_idx))\n",
    "print(len(valid_idx))\n",
    "\n",
    "# train -> entrenar tu modelo (80%)\n",
    "# valid -> encontrar los HPs (10%)\n",
    "# test -> calcular las metricas finales (10%)"
   ]
  },
  {
   "cell_type": "code",
   "execution_count": 30,
   "id": "ee552772",
   "metadata": {},
   "outputs": [
    {
     "name": "stdout",
     "output_type": "stream",
     "text": [
      "(467557, 58)\n",
      "(467557,)\n",
      "(82511, 58)\n",
      "(82511,)\n"
     ]
    }
   ],
   "source": [
    "X_train = X_norm[train_idx,:]\n",
    "y_train = y[train_idx]\n",
    "X_valid = X_norm[valid_idx,:]\n",
    "y_valid = y[valid_idx]\n",
    "\n",
    "print(X_train.shape)\n",
    "print(y_train.shape)\n",
    "print(X_valid.shape)\n",
    "print(y_valid.shape)"
   ]
  },
  {
   "cell_type": "markdown",
   "id": "0ab7bcaa",
   "metadata": {},
   "source": [
    "# NNet with embeddings"
   ]
  },
  {
   "cell_type": "code",
   "execution_count": 31,
   "id": "786a99cf",
   "metadata": {},
   "outputs": [],
   "source": [
    "user_ids_unique = np.unique(user_ids)\n",
    "index_user_ids = np.arange(0, len(user_ids_unique))\n",
    "user_id_to_index = {key: value for key, value in zip(user_ids_unique, index_user_ids)}\n",
    "\n",
    "product_ids_unique = np.unique(product_ids)\n",
    "index_product_ids = np.arange(0, len(product_ids_unique))\n",
    "product_id_to_index = {key: value for key, value in zip(product_ids_unique, index_product_ids)}"
   ]
  },
  {
   "cell_type": "code",
   "execution_count": 32,
   "id": "a5c09258",
   "metadata": {},
   "outputs": [],
   "source": [
    "users_idx = np.array([user_id_to_index[user] for user in user_ids])"
   ]
  },
  {
   "cell_type": "code",
   "execution_count": 33,
   "id": "2b184dc4",
   "metadata": {},
   "outputs": [],
   "source": [
    "products_idx = np.array([product_id_to_index[product] for product in product_ids])"
   ]
  },
  {
   "cell_type": "code",
   "execution_count": 34,
   "id": "aa686dfa",
   "metadata": {},
   "outputs": [],
   "source": [
    "class CustomDatasetWithEmb(Dataset):\n",
    "\n",
    "    def __init__(self, X, users_idx, products_idx, y):\n",
    "        super().__init__()\n",
    "        self.X = X\n",
    "        self.users_idx = users_idx\n",
    "        self.products_idx = products_idx\n",
    "        self.y = y\n",
    "\n",
    "    def __len__(self):\n",
    "        return self.X.shape[0]\n",
    "\n",
    "    def __getitem__(self, idx):\n",
    "        return self.X[idx], self.users_idx[idx], self.products_idx[idx], self.y[idx]"
   ]
  },
  {
   "cell_type": "code",
   "execution_count": 35,
   "id": "b537ab2e",
   "metadata": {},
   "outputs": [],
   "source": [
    "users_index_train = users_idx[train_idx]  \n",
    "users_index_val = users_idx[valid_idx]\n",
    "\n",
    "products_index_train = products_idx[train_idx]  \n",
    "products_index_val = products_idx[valid_idx]\n",
    "\n",
    "train = CustomDatasetWithEmb(X_train, users_index_train, products_index_train, y_train)\n",
    "valid = CustomDatasetWithEmb(X_valid, users_index_val, products_index_val, y_valid)"
   ]
  },
  {
   "cell_type": "code",
   "execution_count": 36,
   "id": "1a296f19",
   "metadata": {},
   "outputs": [],
   "source": [
    "train_dataloader = DataLoader(train, batch_size=64, shuffle=True)\n",
    "valid_dataloader = DataLoader(valid, batch_size=64, shuffle=True)"
   ]
  },
  {
   "cell_type": "code",
   "execution_count": 37,
   "id": "940a3dd0",
   "metadata": {},
   "outputs": [],
   "source": [
    "class NNetWithEmbeddings(torch.nn.Module):\n",
    "\n",
    "    def __init__(self, number_of_users, number_od_products, d):\n",
    "        super().__init__()\n",
    "        self.embedding_1 = torch.nn.Embedding(num_embeddings=number_of_users, embedding_dim=d)\n",
    "        self.embedding_2 = torch.nn.Embedding(num_embeddings=number_od_products, embedding_dim=d)\n",
    "        \n",
    "        self.linear_1 = torch.nn.Linear(in_features=(58+d+d), out_features=128, bias=True)\n",
    "        self.relu_1 = torch.nn.ReLU()\n",
    "        self.linear_2 = torch.nn.Linear(in_features=128, out_features=256, bias=True)\n",
    "        self.relu_2 = torch.nn.ReLU()\n",
    "        self.linear_3 = torch.nn.Linear(in_features=256, out_features=1, bias=True)\n",
    "        self.output = torch.nn.Sigmoid()\n",
    "\n",
    "    def forward(self, x, user_idx, product_idx):\n",
    "        user_emb = self.embedding_1(user_idx)\n",
    "        prod_emb = self.embedding_2(product_idx)\n",
    "\n",
    "        final_input = torch.cat([x, user_emb, prod_emb], dim=1)\n",
    "\n",
    "        x = self.linear_1(final_input) \n",
    "        x = self.relu_1(x)\n",
    "        x = self.linear_2(x)\n",
    "        x = self.relu_2(x)        \n",
    "        x = self.linear_3(x)\n",
    "        x = self.output(x)\n",
    "        return x"
   ]
  },
  {
   "cell_type": "code",
   "execution_count": 38,
   "id": "f7cb3c4e",
   "metadata": {},
   "outputs": [],
   "source": [
    "nnet2 = NNetWithEmbeddings(number_of_users=5891, number_od_products=3631, d=8)\n",
    "optimizer = torch.optim.Adam(nnet2.parameters(), lr=0.001)\n",
    "loss_function = torch.nn.BCEWithLogitsLoss(reduction=\"sum\")"
   ]
  },
  {
   "cell_type": "code",
   "execution_count": 39,
   "id": "53216292",
   "metadata": {},
   "outputs": [
    {
     "name": "stdout",
     "output_type": "stream",
     "text": [
      "cuda:0\n"
     ]
    }
   ],
   "source": [
    "device = \"\"\n",
    "if torch.cuda.is_available():\n",
    "    device = \"cuda:0\"\n",
    "else:\n",
    "    device = \"cpu\"\n",
    "\n",
    "print(device)"
   ]
  },
  {
   "cell_type": "code",
   "execution_count": 40,
   "id": "6a1c0965",
   "metadata": {},
   "outputs": [
    {
     "name": "stdout",
     "output_type": "stream",
     "text": [
      "NNetWithEmbeddings(\n",
      "  (embedding_1): Embedding(5891, 8)\n",
      "  (embedding_2): Embedding(3631, 8)\n",
      "  (linear_1): Linear(in_features=74, out_features=128, bias=True)\n",
      "  (relu_1): ReLU()\n",
      "  (linear_2): Linear(in_features=128, out_features=256, bias=True)\n",
      "  (relu_2): ReLU()\n",
      "  (linear_3): Linear(in_features=256, out_features=1, bias=True)\n",
      "  (output): Sigmoid()\n",
      ")\n"
     ]
    }
   ],
   "source": [
    "print(nnet2)"
   ]
  },
  {
   "cell_type": "code",
   "execution_count": 41,
   "id": "3fe3ca3b",
   "metadata": {},
   "outputs": [
    {
     "name": "stdout",
     "output_type": "stream",
     "text": [
      "Epoch 0 | Training loss: 286493.39155578613 | AUC: 0.874095300832982\n",
      "Epoch 1 | Training loss: 284476.14011764526 | AUC: 0.8863075611175634\n",
      "Epoch 2 | Training loss: 282717.5353717804 | AUC: 0.8919951037650569\n",
      "Epoch 3 | Training loss: 281722.4368724823 | AUC: 0.8985290387763407\n",
      "Epoch 4 | Training loss: 280875.32644844055 | AUC: 0.9062806139233899\n",
      "Epoch 5 | Training loss: 280272.88443756104 | AUC: 0.9124526493704088\n",
      "Epoch 6 | Training loss: 279770.99044418335 | AUC: 0.9139022389667931\n",
      "Epoch 7 | Training loss: 279398.25131988525 | AUC: 0.916998656986109\n",
      "Epoch 8 | Training loss: 278997.3756942749 | AUC: 0.9178283922903053\n",
      "Epoch 9 | Training loss: 278701.93734169006 | AUC: 0.9184379935232938\n",
      "Epoch 10 | Training loss: 278387.23546409607 | AUC: 0.9184643785331777\n",
      "Epoch 11 | Training loss: 278135.6034755707 | AUC: 0.918397874152945\n",
      "Epoch 12 | Training loss: 277923.32148361206 | AUC: 0.9180660671747264\n",
      "Epoch 13 | Training loss: 277686.6334400177 | AUC: 0.9192253412023055\n",
      "Epoch 14 | Training loss: 277448.1842727661 | AUC: 0.9195627333908001\n",
      "Epoch 15 | Training loss: 277247.61488723755 | AUC: 0.9181318349902358\n",
      "Epoch 16 | Training loss: 277059.98501968384 | AUC: 0.9184628866437068\n",
      "Epoch 17 | Training loss: 276894.6034965515 | AUC: 0.918818992853035\n",
      "Epoch 18 | Training loss: 276669.4852027893 | AUC: 0.9202179978197629\n",
      "Epoch 19 | Training loss: 276495.1986312866 | AUC: 0.9196895224494992\n",
      "Epoch 20 | Training loss: 276325.7053966522 | AUC: 0.9203995373975815\n",
      "Epoch 21 | Training loss: 276151.21002197266 | AUC: 0.9193678920685922\n",
      "Epoch 22 | Training loss: 276009.43723106384 | AUC: 0.9193874011098498\n",
      "Epoch 23 | Training loss: 275850.33121681213 | AUC: 0.9204324860779927\n",
      "Epoch 24 | Training loss: 275686.65771865845 | AUC: 0.9207396901245508\n",
      "Epoch 25 | Training loss: 275534.9786376953 | AUC: 0.9216089093629245\n",
      "Epoch 26 | Training loss: 275454.6418533325 | AUC: 0.923569301366018\n",
      "Epoch 27 | Training loss: 275267.28515815735 | AUC: 0.923224947195237\n",
      "Epoch 28 | Training loss: 275125.7307033539 | AUC: 0.9235399870824087\n",
      "Epoch 29 | Training loss: 275001.5383720398 | AUC: 0.923570821977601\n",
      "Epoch 30 | Training loss: 274886.54996681213 | AUC: 0.9240594693304206\n",
      "Epoch 31 | Training loss: 274725.28409957886 | AUC: 0.9246603307491915\n",
      "Epoch 32 | Training loss: 274640.6194667816 | AUC: 0.9246291699677643\n",
      "Epoch 33 | Training loss: 274515.11003685 | AUC: 0.9247579076547674\n",
      "Epoch 34 | Training loss: 274441.3190231323 | AUC: 0.9249661458192278\n",
      "Epoch 35 | Training loss: 274318.9763031006 | AUC: 0.9252492204481988\n",
      "Epoch 36 | Training loss: 274161.61339378357 | AUC: 0.9251731103631828\n",
      "Epoch 37 | Training loss: 274103.20101356506 | AUC: 0.9257414001532137\n",
      "Epoch 38 | Training loss: 273954.7516593933 | AUC: 0.9252207650511579\n",
      "Epoch 39 | Training loss: 273830.4125022888 | AUC: 0.9253466194866098\n",
      "Epoch 40 | Training loss: 273777.63213539124 | AUC: 0.9254694997712295\n",
      "Epoch 41 | Training loss: 273697.3209075928 | AUC: 0.9256553071208993\n",
      "Epoch 42 | Training loss: 273603.3684139252 | AUC: 0.9257317971870508\n",
      "Epoch 43 | Training loss: 273482.35911750793 | AUC: 0.9256568360819337\n",
      "Epoch 44 | Training loss: 273343.1795806885 | AUC: 0.9256960026415457\n",
      "Epoch 45 | Training loss: 273299.90382385254 | AUC: 0.9255093157845488\n",
      "Epoch 46 | Training loss: 273227.1300792694 | AUC: 0.9257442530127624\n",
      "Epoch 47 | Training loss: 273153.5873889923 | AUC: 0.9255242859687465\n",
      "Epoch 48 | Training loss: 273010.7693195343 | AUC: 0.9260869724564332\n",
      "Epoch 49 | Training loss: 272961.6870059967 | AUC: 0.9260645709649153\n",
      "Epoch 50 | Training loss: 272929.5801563263 | AUC: 0.9260190304152216\n",
      "Epoch 51 | Training loss: 272821.1019039154 | AUC: 0.9261257895414186\n",
      "Epoch 52 | Training loss: 272746.0537891388 | AUC: 0.9259777477897978\n",
      "Epoch 53 | Training loss: 272706.2518939972 | AUC: 0.9262199550807315\n",
      "Epoch 54 | Training loss: 272651.6999168396 | AUC: 0.9261686683433437\n",
      "Epoch 55 | Training loss: 272571.514005661 | AUC: 0.9260590286278777\n",
      "Epoch 56 | Training loss: 272535.2088508606 | AUC: 0.9259117266853389\n",
      "Epoch 57 | Training loss: 272499.8572292328 | AUC: 0.9262472848954214\n",
      "Epoch 58 | Training loss: 272373.1238498688 | AUC: 0.9263834163029011\n",
      "Epoch 59 | Training loss: 272294.6635723114 | AUC: 0.9262428034253323\n",
      "Epoch 60 | Training loss: 272323.18241119385 | AUC: 0.9265572077904521\n",
      "Epoch 61 | Training loss: 272216.45859336853 | AUC: 0.9262194491421617\n",
      "Epoch 62 | Training loss: 272176.18792915344 | AUC: 0.9261172933021605\n",
      "Epoch 63 | Training loss: 272146.5545578003 | AUC: 0.9263140180601577\n",
      "Epoch 64 | Training loss: 272051.577878952 | AUC: 0.9265122132471515\n",
      "Epoch 65 | Training loss: 272022.75375556946 | AUC: 0.9266423579645754\n",
      "Epoch 66 | Training loss: 271963.9624271393 | AUC: 0.9269542838022824\n",
      "Epoch 67 | Training loss: 271970.5524158478 | AUC: 0.9263490579965825\n",
      "Epoch 68 | Training loss: 271869.54450035095 | AUC: 0.9269013377092891\n",
      "Epoch 69 | Training loss: 271851.39327049255 | AUC: 0.9267300658666197\n",
      "Epoch 70 | Training loss: 271805.6135158539 | AUC: 0.9266022224392312\n",
      "Epoch 71 | Training loss: 271753.89775276184 | AUC: 0.9269063729722313\n",
      "Epoch 72 | Training loss: 271709.4108829498 | AUC: 0.9267930009280585\n",
      "Epoch 73 | Training loss: 271714.8947544098 | AUC: 0.9269611354286802\n",
      "Epoch 74 | Training loss: 271625.1039352417 | AUC: 0.9272109646520603\n",
      "Epoch 75 | Training loss: 271609.2705459595 | AUC: 0.9270892383474676\n",
      "Epoch 76 | Training loss: 271570.0170173645 | AUC: 0.9273216854353746\n",
      "Epoch 77 | Training loss: 271512.9221973419 | AUC: 0.9274068488064018\n",
      "Epoch 78 | Training loss: 271445.5642185211 | AUC: 0.9275068351918154\n",
      "Epoch 79 | Training loss: 271418.6103439331 | AUC: 0.9277020350823951\n",
      "Epoch 80 | Training loss: 271368.91072273254 | AUC: 0.9278208500431122\n",
      "Epoch 81 | Training loss: 271310.5870742798 | AUC: 0.9280895184336708\n",
      "Epoch 82 | Training loss: 271250.66334724426 | AUC: 0.9278571853849529\n",
      "Epoch 83 | Training loss: 271227.62091064453 | AUC: 0.9280749565614888\n",
      "Epoch 84 | Training loss: 271222.6117477417 | AUC: 0.9281205350415467\n",
      "Epoch 85 | Training loss: 271165.7630958557 | AUC: 0.928009310180397\n",
      "Epoch 86 | Training loss: 271143.86962509155 | AUC: 0.9285653381764185\n",
      "Epoch 87 | Training loss: 271121.8622493744 | AUC: 0.9283343292552289\n",
      "Epoch 88 | Training loss: 271060.65096092224 | AUC: 0.9283563457654825\n",
      "Epoch 89 | Training loss: 271019.1534729004 | AUC: 0.9282149705782534\n",
      "Epoch 90 | Training loss: 271012.9898262024 | AUC: 0.9283189831644273\n",
      "Epoch 91 | Training loss: 270943.88430404663 | AUC: 0.9286008743183389\n",
      "Epoch 92 | Training loss: 270948.19114112854 | AUC: 0.9284891479462143\n",
      "Epoch 93 | Training loss: 270851.08495521545 | AUC: 0.9284625132448012\n",
      "Epoch 94 | Training loss: 270896.676858902 | AUC: 0.928314268644458\n",
      "Epoch 95 | Training loss: 270791.492269516 | AUC: 0.9284165706523362\n",
      "Epoch 96 | Training loss: 270809.5248413086 | AUC: 0.9286395637282884\n",
      "Epoch 97 | Training loss: 270757.3902835846 | AUC: 0.9285295943764919\n",
      "Epoch 98 | Training loss: 270744.31842803955 | AUC: 0.9288363749388884\n",
      "Epoch 99 | Training loss: 270759.7913303375 | AUC: 0.9289404968790166\n"
     ]
    }
   ],
   "source": [
    "nnet = nnet2\n",
    "\n",
    "nnet.to(device)\n",
    "\n",
    "loss_list = []\n",
    "train_auc = []\n",
    "for epoch in range(100):\n",
    "\n",
    "    running_loss = 0\n",
    "    running_y_score = []\n",
    "    running_y_label = []\n",
    "\n",
    "    #### TRAINING ####\n",
    "\n",
    "    for i, data in enumerate(train_dataloader):\n",
    "\n",
    "        # datos del batch\n",
    "        X_batch, user_idx_batch, product_idx_batch, y_batch = data \n",
    "        X_batch = X_batch.to(device).float()\n",
    "        user_idx_batch = user_idx_batch.to(device)\n",
    "        product_idx_batch = product_idx_batch.to(device)\n",
    "        Y_batch = y_batch.to(device).float()\n",
    "\n",
    "        # forward\n",
    "        optimizer.zero_grad()\n",
    "        y_batch_score = nnet(X_batch, user_idx_batch, product_idx_batch).reshape(-1)\n",
    "        y_batch_hat = torch.sigmoid(y_batch_score).reshape(-1)\n",
    "\n",
    "        # backpropagation\n",
    "        loss = loss_function(y_batch_score, Y_batch) # calcula el loss\n",
    "        loss.backward() # hacer los gradientes del loss\n",
    "\n",
    "        # actualización de parametros\n",
    "        optimizer.step() \n",
    "\n",
    "        running_loss += loss.item()\n",
    "        running_y_score += list(y_batch_score.detach().cpu().numpy())  \n",
    "        running_y_label += list(Y_batch.detach().cpu().numpy()) \n",
    "\n",
    "    # metrics\n",
    "    loss_list.append(running_loss)\n",
    "    fpt, tpr, _ = metrics.roc_curve(running_y_label, running_y_score)\n",
    "    auc = metrics.auc(fpt, tpr)\n",
    "    train_auc.append(auc)\n",
    "    print(f\"Epoch {epoch} | Training loss: {running_loss} | AUC: {auc}\")"
   ]
  },
  {
   "cell_type": "code",
   "execution_count": 43,
   "id": "73bc6b3c",
   "metadata": {},
   "outputs": [
    {
     "data": {
      "text/plain": [
       "[<matplotlib.lines.Line2D at 0x1eef8b7e130>]"
      ]
     },
     "execution_count": 43,
     "metadata": {},
     "output_type": "execute_result"
    },
    {
     "data": {
      "image/png": "[encoded data removed]",
      "text/plain": [
       "<Figure size 640x480 with 1 Axes>"
      ]
     },
     "metadata": {},
     "output_type": "display_data"
    }
   ],
   "source": [
    "fig, ax1 = plt.subplots(1, 1)\n",
    "x = range(0, len(loss_list))\n",
    "ax1.plot(x, loss_list)"
   ]
  },
  {
   "cell_type": "code",
   "execution_count": 44,
   "id": "eb627a73",
   "metadata": {},
   "outputs": [
    {
     "data": {
      "text/plain": [
       "[<matplotlib.lines.Line2D at 0x1ee89d75ca0>]"
      ]
     },
     "execution_count": 44,
     "metadata": {},
     "output_type": "execute_result"
    },
    {
     "data": {
      "image/png": "[encoded data removed]",
      "text/plain": [
       "<Figure size 640x480 with 1 Axes>"
      ]
     },
     "metadata": {},
     "output_type": "display_data"
    }
   ],
   "source": [
    "fig, ax1 = plt.subplots(1, 1)\n",
    "x = range(0, len(train_auc))\n",
    "ax1.plot(x, train_auc)"
   ]
  },
  {
   "cell_type": "markdown",
   "id": "c5a138f2",
   "metadata": {},
   "source": [
    "### Conclusiones\n",
    "\n",
    "Es posible notar como al utilizar embeddings para el id de usuario y de productos, disminuya le pérdida y aumenta el AUC respecto al modelo que no los utiliza. Mientras el AUC es cercano al 0.93 emplando embeddings, es cercano a 0.87 sin utilizarlos (ambos casos tomando como ejemplo el conjunto de test)."
   ]
  }
 ],
 "metadata": {
  "kernelspec": {
   "display_name": "Python 3 (ipykernel)",
   "language": "python",
   "name": "python3"
  },
  "language_info": {
   "codemirror_mode": {
    "name": "ipython",
    "version": 3
   },
   "file_extension": ".py",
   "mimetype": "text/x-python",
   "name": "python",
   "nbconvert_exporter": "python",
   "pygments_lexer": "ipython3",
   "version": "3.9.13"
  }
 },
 "nbformat": 4,
 "nbformat_minor": 5
}
