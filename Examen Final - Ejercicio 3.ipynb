{
 "cells": [
  {
   "cell_type": "markdown",
   "id": "d7b3df5c",
   "metadata": {},
   "source": [
    "# Deep Learning"
   ]
  },
  {
   "cell_type": "markdown",
   "id": "c2b2459f",
   "metadata": {},
   "source": [
    "## Examen Agosto 2022"
   ]
  },
  {
   "cell_type": "markdown",
   "id": "36e8d623",
   "metadata": {},
   "source": [
    "## Ejercicio 3.\n",
    "\n",
    "Descargar el dataset desde el [siguiente link](https://drive.google.com/file/d/1r1vnIW0jL1LJBrT_QVcQz_Sjizwa0adR/view). El dataset son compras de productos que diferentes clientes realizaron durante un black sales. El dataset contiene información sobre las transacciones y el objetivo es poder utilizar el dataset para crear diferentes modelos que puedan predecir cuánto un cliente está dispuesto a gastar en un producto en el futuro.\n",
    "Particularmente, vamos a tratar este problema como una clasificación binaria donde queremos averiguar si el cliente va a gastar mucha plata (más de 9000) o poca plata (menos de 9000).\n",
    "- a) Entrenar un modelo de deep learning que no utilice embeddings.\n",
    "- b) Entrenar un modelo de deep learning que utilice embeddings tanto para los productos como los usuarios. Realizar el mapeo de identificador de producto y usuarios a indices antes de separar el dataset en training, validation y testing.\n",
    "- c) Compare el score de cada modelo y comente lo necesario."
   ]
  },
  {
   "cell_type": "markdown",
   "id": "96114ece",
   "metadata": {},
   "source": [
    "### Librerías y funciones globales"
   ]
  },
  {
   "cell_type": "code",
   "execution_count": 1,
   "id": "a05d492f",
   "metadata": {},
   "outputs": [],
   "source": [
    "import pandas as pd\n",
    "import numpy as np\n",
    "import matplotlib.pyplot as plt\n",
    "import seaborn as sns\n",
    "\n",
    "import torch"
   ]
  },
  {
   "cell_type": "markdown",
   "id": "86d0b2aa",
   "metadata": {},
   "source": [
    "### 1. EDA"
   ]
  },
  {
   "cell_type": "code",
   "execution_count": 2,
   "id": "a6ceec85",
   "metadata": {},
   "outputs": [],
   "source": [
    "dataset = pd.read_csv('data/dataset_2.csv')"
   ]
  },
  {
   "cell_type": "code",
   "execution_count": 3,
   "id": "fc58fa11",
   "metadata": {},
   "outputs": [],
   "source": [
    "df = dataset.copy(deep=True)"
   ]
  },
  {
   "cell_type": "code",
   "execution_count": 4,
   "id": "030551c3",
   "metadata": {},
   "outputs": [
    {
     "data": {
      "text/html": [
       "<div>\n",
       "<style scoped>\n",
       "    .dataframe tbody tr th:only-of-type {\n",
       "        vertical-align: middle;\n",
       "    }\n",
       "\n",
       "    .dataframe tbody tr th {\n",
       "        vertical-align: top;\n",
       "    }\n",
       "\n",
       "    .dataframe thead th {\n",
       "        text-align: right;\n",
       "    }\n",
       "</style>\n",
       "<table border=\"1\" class=\"dataframe\">\n",
       "  <thead>\n",
       "    <tr style=\"text-align: right;\">\n",
       "      <th></th>\n",
       "      <th>User_ID</th>\n",
       "      <th>Product_ID</th>\n",
       "      <th>Gender</th>\n",
       "      <th>Age</th>\n",
       "      <th>Occupation</th>\n",
       "      <th>City_Category</th>\n",
       "      <th>Stay_In_Current_City_Years</th>\n",
       "      <th>Marital_Status</th>\n",
       "      <th>Product_Category_1</th>\n",
       "      <th>Product_Category_2</th>\n",
       "      <th>Product_Category_3</th>\n",
       "      <th>Purchase</th>\n",
       "    </tr>\n",
       "  </thead>\n",
       "  <tbody>\n",
       "    <tr>\n",
       "      <th>0</th>\n",
       "      <td>1000001</td>\n",
       "      <td>P00069042</td>\n",
       "      <td>F</td>\n",
       "      <td>0-17</td>\n",
       "      <td>10</td>\n",
       "      <td>A</td>\n",
       "      <td>2</td>\n",
       "      <td>0</td>\n",
       "      <td>3</td>\n",
       "      <td>NaN</td>\n",
       "      <td>NaN</td>\n",
       "      <td>8370</td>\n",
       "    </tr>\n",
       "    <tr>\n",
       "      <th>1</th>\n",
       "      <td>1000001</td>\n",
       "      <td>P00248942</td>\n",
       "      <td>F</td>\n",
       "      <td>0-17</td>\n",
       "      <td>10</td>\n",
       "      <td>A</td>\n",
       "      <td>2</td>\n",
       "      <td>0</td>\n",
       "      <td>1</td>\n",
       "      <td>6.0</td>\n",
       "      <td>14.0</td>\n",
       "      <td>15200</td>\n",
       "    </tr>\n",
       "    <tr>\n",
       "      <th>2</th>\n",
       "      <td>1000001</td>\n",
       "      <td>P00087842</td>\n",
       "      <td>F</td>\n",
       "      <td>0-17</td>\n",
       "      <td>10</td>\n",
       "      <td>A</td>\n",
       "      <td>2</td>\n",
       "      <td>0</td>\n",
       "      <td>12</td>\n",
       "      <td>NaN</td>\n",
       "      <td>NaN</td>\n",
       "      <td>1422</td>\n",
       "    </tr>\n",
       "    <tr>\n",
       "      <th>3</th>\n",
       "      <td>1000001</td>\n",
       "      <td>P00085442</td>\n",
       "      <td>F</td>\n",
       "      <td>0-17</td>\n",
       "      <td>10</td>\n",
       "      <td>A</td>\n",
       "      <td>2</td>\n",
       "      <td>0</td>\n",
       "      <td>12</td>\n",
       "      <td>14.0</td>\n",
       "      <td>NaN</td>\n",
       "      <td>1057</td>\n",
       "    </tr>\n",
       "    <tr>\n",
       "      <th>4</th>\n",
       "      <td>1000002</td>\n",
       "      <td>P00285442</td>\n",
       "      <td>M</td>\n",
       "      <td>55+</td>\n",
       "      <td>16</td>\n",
       "      <td>C</td>\n",
       "      <td>4+</td>\n",
       "      <td>0</td>\n",
       "      <td>8</td>\n",
       "      <td>NaN</td>\n",
       "      <td>NaN</td>\n",
       "      <td>7969</td>\n",
       "    </tr>\n",
       "  </tbody>\n",
       "</table>\n",
       "</div>"
      ],
      "text/plain": [
       "   User_ID Product_ID Gender   Age  Occupation City_Category  \\\n",
       "0  1000001  P00069042      F  0-17          10             A   \n",
       "1  1000001  P00248942      F  0-17          10             A   \n",
       "2  1000001  P00087842      F  0-17          10             A   \n",
       "3  1000001  P00085442      F  0-17          10             A   \n",
       "4  1000002  P00285442      M   55+          16             C   \n",
       "\n",
       "  Stay_In_Current_City_Years  Marital_Status  Product_Category_1  \\\n",
       "0                          2               0                   3   \n",
       "1                          2               0                   1   \n",
       "2                          2               0                  12   \n",
       "3                          2               0                  12   \n",
       "4                         4+               0                   8   \n",
       "\n",
       "   Product_Category_2  Product_Category_3  Purchase  \n",
       "0                 NaN                 NaN      8370  \n",
       "1                 6.0                14.0     15200  \n",
       "2                 NaN                 NaN      1422  \n",
       "3                14.0                 NaN      1057  \n",
       "4                 NaN                 NaN      7969  "
      ]
     },
     "execution_count": 4,
     "metadata": {},
     "output_type": "execute_result"
    }
   ],
   "source": [
    "df.head()"
   ]
  },
  {
   "cell_type": "code",
   "execution_count": 5,
   "id": "14a629f1",
   "metadata": {},
   "outputs": [
    {
     "name": "stdout",
     "output_type": "stream",
     "text": [
      "<class 'pandas.core.frame.DataFrame'>\n",
      "RangeIndex: 550068 entries, 0 to 550067\n",
      "Data columns (total 12 columns):\n",
      " #   Column                      Non-Null Count   Dtype  \n",
      "---  ------                      --------------   -----  \n",
      " 0   User_ID                     550068 non-null  int64  \n",
      " 1   Product_ID                  550068 non-null  object \n",
      " 2   Gender                      550068 non-null  object \n",
      " 3   Age                         550068 non-null  object \n",
      " 4   Occupation                  550068 non-null  int64  \n",
      " 5   City_Category               550068 non-null  object \n",
      " 6   Stay_In_Current_City_Years  550068 non-null  object \n",
      " 7   Marital_Status              550068 non-null  int64  \n",
      " 8   Product_Category_1          550068 non-null  int64  \n",
      " 9   Product_Category_2          376430 non-null  float64\n",
      " 10  Product_Category_3          166821 non-null  float64\n",
      " 11  Purchase                    550068 non-null  int64  \n",
      "dtypes: float64(2), int64(5), object(5)\n",
      "memory usage: 50.4+ MB\n"
     ]
    }
   ],
   "source": [
    "df.info()"
   ]
  },
  {
   "cell_type": "code",
   "execution_count": 6,
   "id": "f3ee6c2f",
   "metadata": {},
   "outputs": [
    {
     "data": {
      "text/html": [
       "<div>\n",
       "<style scoped>\n",
       "    .dataframe tbody tr th:only-of-type {\n",
       "        vertical-align: middle;\n",
       "    }\n",
       "\n",
       "    .dataframe tbody tr th {\n",
       "        vertical-align: top;\n",
       "    }\n",
       "\n",
       "    .dataframe thead th {\n",
       "        text-align: right;\n",
       "    }\n",
       "</style>\n",
       "<table border=\"1\" class=\"dataframe\">\n",
       "  <thead>\n",
       "    <tr style=\"text-align: right;\">\n",
       "      <th></th>\n",
       "      <th>User_ID</th>\n",
       "      <th>Occupation</th>\n",
       "      <th>Marital_Status</th>\n",
       "      <th>Product_Category_1</th>\n",
       "      <th>Product_Category_2</th>\n",
       "      <th>Product_Category_3</th>\n",
       "      <th>Purchase</th>\n",
       "    </tr>\n",
       "  </thead>\n",
       "  <tbody>\n",
       "    <tr>\n",
       "      <th>count</th>\n",
       "      <td>5.500680e+05</td>\n",
       "      <td>550068.000000</td>\n",
       "      <td>550068.000000</td>\n",
       "      <td>550068.000000</td>\n",
       "      <td>376430.000000</td>\n",
       "      <td>166821.000000</td>\n",
       "      <td>550068.000000</td>\n",
       "    </tr>\n",
       "    <tr>\n",
       "      <th>mean</th>\n",
       "      <td>1.003029e+06</td>\n",
       "      <td>8.076707</td>\n",
       "      <td>0.409653</td>\n",
       "      <td>5.404270</td>\n",
       "      <td>9.842329</td>\n",
       "      <td>12.668243</td>\n",
       "      <td>9263.968713</td>\n",
       "    </tr>\n",
       "    <tr>\n",
       "      <th>std</th>\n",
       "      <td>1.727592e+03</td>\n",
       "      <td>6.522660</td>\n",
       "      <td>0.491770</td>\n",
       "      <td>3.936211</td>\n",
       "      <td>5.086590</td>\n",
       "      <td>4.125338</td>\n",
       "      <td>5023.065394</td>\n",
       "    </tr>\n",
       "    <tr>\n",
       "      <th>min</th>\n",
       "      <td>1.000001e+06</td>\n",
       "      <td>0.000000</td>\n",
       "      <td>0.000000</td>\n",
       "      <td>1.000000</td>\n",
       "      <td>2.000000</td>\n",
       "      <td>3.000000</td>\n",
       "      <td>12.000000</td>\n",
       "    </tr>\n",
       "    <tr>\n",
       "      <th>25%</th>\n",
       "      <td>1.001516e+06</td>\n",
       "      <td>2.000000</td>\n",
       "      <td>0.000000</td>\n",
       "      <td>1.000000</td>\n",
       "      <td>5.000000</td>\n",
       "      <td>9.000000</td>\n",
       "      <td>5823.000000</td>\n",
       "    </tr>\n",
       "    <tr>\n",
       "      <th>50%</th>\n",
       "      <td>1.003077e+06</td>\n",
       "      <td>7.000000</td>\n",
       "      <td>0.000000</td>\n",
       "      <td>5.000000</td>\n",
       "      <td>9.000000</td>\n",
       "      <td>14.000000</td>\n",
       "      <td>8047.000000</td>\n",
       "    </tr>\n",
       "    <tr>\n",
       "      <th>75%</th>\n",
       "      <td>1.004478e+06</td>\n",
       "      <td>14.000000</td>\n",
       "      <td>1.000000</td>\n",
       "      <td>8.000000</td>\n",
       "      <td>15.000000</td>\n",
       "      <td>16.000000</td>\n",
       "      <td>12054.000000</td>\n",
       "    </tr>\n",
       "    <tr>\n",
       "      <th>max</th>\n",
       "      <td>1.006040e+06</td>\n",
       "      <td>20.000000</td>\n",
       "      <td>1.000000</td>\n",
       "      <td>20.000000</td>\n",
       "      <td>18.000000</td>\n",
       "      <td>18.000000</td>\n",
       "      <td>23961.000000</td>\n",
       "    </tr>\n",
       "  </tbody>\n",
       "</table>\n",
       "</div>"
      ],
      "text/plain": [
       "            User_ID     Occupation  Marital_Status  Product_Category_1  \\\n",
       "count  5.500680e+05  550068.000000   550068.000000       550068.000000   \n",
       "mean   1.003029e+06       8.076707        0.409653            5.404270   \n",
       "std    1.727592e+03       6.522660        0.491770            3.936211   \n",
       "min    1.000001e+06       0.000000        0.000000            1.000000   \n",
       "25%    1.001516e+06       2.000000        0.000000            1.000000   \n",
       "50%    1.003077e+06       7.000000        0.000000            5.000000   \n",
       "75%    1.004478e+06      14.000000        1.000000            8.000000   \n",
       "max    1.006040e+06      20.000000        1.000000           20.000000   \n",
       "\n",
       "       Product_Category_2  Product_Category_3       Purchase  \n",
       "count       376430.000000       166821.000000  550068.000000  \n",
       "mean             9.842329           12.668243    9263.968713  \n",
       "std              5.086590            4.125338    5023.065394  \n",
       "min              2.000000            3.000000      12.000000  \n",
       "25%              5.000000            9.000000    5823.000000  \n",
       "50%              9.000000           14.000000    8047.000000  \n",
       "75%             15.000000           16.000000   12054.000000  \n",
       "max             18.000000           18.000000   23961.000000  "
      ]
     },
     "execution_count": 6,
     "metadata": {},
     "output_type": "execute_result"
    }
   ],
   "source": [
    "df.describe()"
   ]
  },
  {
   "cell_type": "code",
   "execution_count": 7,
   "id": "0975c37e",
   "metadata": {},
   "outputs": [
    {
     "data": {
      "text/plain": [
       "User_ID                            0\n",
       "Product_ID                         0\n",
       "Gender                             0\n",
       "Age                                0\n",
       "Occupation                         0\n",
       "City_Category                      0\n",
       "Stay_In_Current_City_Years         0\n",
       "Marital_Status                     0\n",
       "Product_Category_1                 0\n",
       "Product_Category_2            173638\n",
       "Product_Category_3            383247\n",
       "Purchase                           0\n",
       "dtype: int64"
      ]
     },
     "execution_count": 7,
     "metadata": {},
     "output_type": "execute_result"
    }
   ],
   "source": [
    "df.isna().sum()"
   ]
  },
  {
   "cell_type": "markdown",
   "id": "a873d204",
   "metadata": {},
   "source": [
    "### Creamos la variable target y analizamos su distrbución"
   ]
  },
  {
   "cell_type": "code",
   "execution_count": 8,
   "id": "9b460ba0",
   "metadata": {},
   "outputs": [],
   "source": [
    "df['target'] = df['Purchase'].apply(lambda x: 1 if x >= 9000 else 0)"
   ]
  },
  {
   "cell_type": "code",
   "execution_count": 9,
   "id": "5b71d093",
   "metadata": {},
   "outputs": [
    {
     "data": {
      "text/plain": [
       "<AxesSubplot:ylabel='target'>"
      ]
     },
     "execution_count": 9,
     "metadata": {},
     "output_type": "execute_result"
    },
    {
     "data": {
      "image/png": "[encoded data removed]",
      "text/plain": [
       "<Figure size 400x400 with 1 Axes>"
      ]
     },
     "metadata": {},
     "output_type": "display_data"
    }
   ],
   "source": [
    "df['target'].value_counts().plot.pie(autopct='%1.0f%%', figsize=(4,4))"
   ]
  },
  {
   "cell_type": "code",
   "execution_count": 10,
   "id": "52d6c84e",
   "metadata": {},
   "outputs": [
    {
     "data": {
      "text/plain": [
       "0    330871\n",
       "1    219197\n",
       "Name: target, dtype: int64"
      ]
     },
     "execution_count": 10,
     "metadata": {},
     "output_type": "execute_result"
    }
   ],
   "source": [
    "# 0 -> compra menos de 9000\n",
    "# 1 -> compra 9000 o más\n",
    "df['target'].value_counts()"
   ]
  },
  {
   "cell_type": "markdown",
   "id": "b6aaa5e7",
   "metadata": {},
   "source": [
    "### Eliminamos la variable Purchase"
   ]
  },
  {
   "cell_type": "code",
   "execution_count": 11,
   "id": "456f4a57",
   "metadata": {},
   "outputs": [],
   "source": [
    "df.drop(['Purchase'], axis=1, inplace=True)"
   ]
  },
  {
   "cell_type": "markdown",
   "id": "4dcce2fb",
   "metadata": {},
   "source": [
    "### Eliminamos la variable Product_Category_2 y Product_Category_3\n",
    "- Las eliminamos ya que superan el 25% de valores nulos"
   ]
  },
  {
   "cell_type": "code",
   "execution_count": 12,
   "id": "0bf073ea",
   "metadata": {},
   "outputs": [],
   "source": [
    "df.drop(['Product_Category_2'], axis=1, inplace=True)\n",
    "df.drop(['Product_Category_3'], axis=1, inplace=True)"
   ]
  },
  {
   "cell_type": "markdown",
   "id": "bddd39d9",
   "metadata": {},
   "source": [
    "### Renombramos las columnas restantes"
   ]
  },
  {
   "cell_type": "code",
   "execution_count": 13,
   "id": "a8dc9d53",
   "metadata": {},
   "outputs": [
    {
     "data": {
      "text/plain": [
       "Index(['User_ID', 'Product_ID', 'Gender', 'Age', 'Occupation', 'City_Category',\n",
       "       'Stay_In_Current_City_Years', 'Marital_Status', 'Product_Category_1',\n",
       "       'target'],\n",
       "      dtype='object')"
      ]
     },
     "execution_count": 13,
     "metadata": {},
     "output_type": "execute_result"
    }
   ],
   "source": [
    "df.columns"
   ]
  },
  {
   "cell_type": "code",
   "execution_count": 14,
   "id": "46386a1d",
   "metadata": {},
   "outputs": [],
   "source": [
    "columns = {\n",
    "    'User_ID': 'user_id',\n",
    "    'Product_ID': 'product_id',\n",
    "    'Gender': 'gender',\n",
    "    'Age': 'age',\n",
    "    'Occupation': 'occupation',\n",
    "    'City_Category': 'city_category',\n",
    "    'Stay_In_Current_City_Years': 'stay_in_current_city_years',\n",
    "    'Marital_Status': 'marital_status',\n",
    "    'Product_Category_1': 'product_category_1',\n",
    "    'target': 'target',\n",
    "}"
   ]
  },
  {
   "cell_type": "code",
   "execution_count": 15,
   "id": "b9e3cd9a",
   "metadata": {},
   "outputs": [],
   "source": [
    "df.rename(columns=columns, inplace=True)"
   ]
  },
  {
   "cell_type": "markdown",
   "id": "9e6566cc",
   "metadata": {},
   "source": [
    "### Ingeniería de features"
   ]
  },
  {
   "cell_type": "code",
   "execution_count": 16,
   "id": "ebbb2127",
   "metadata": {},
   "outputs": [
    {
     "data": {
      "text/html": [
       "<div>\n",
       "<style scoped>\n",
       "    .dataframe tbody tr th:only-of-type {\n",
       "        vertical-align: middle;\n",
       "    }\n",
       "\n",
       "    .dataframe tbody tr th {\n",
       "        vertical-align: top;\n",
       "    }\n",
       "\n",
       "    .dataframe thead th {\n",
       "        text-align: right;\n",
       "    }\n",
       "</style>\n",
       "<table border=\"1\" class=\"dataframe\">\n",
       "  <thead>\n",
       "    <tr style=\"text-align: right;\">\n",
       "      <th></th>\n",
       "      <th>user_id</th>\n",
       "      <th>product_id</th>\n",
       "      <th>gender</th>\n",
       "      <th>age</th>\n",
       "      <th>occupation</th>\n",
       "      <th>city_category</th>\n",
       "      <th>stay_in_current_city_years</th>\n",
       "      <th>marital_status</th>\n",
       "      <th>product_category_1</th>\n",
       "      <th>target</th>\n",
       "    </tr>\n",
       "  </thead>\n",
       "  <tbody>\n",
       "    <tr>\n",
       "      <th>0</th>\n",
       "      <td>1000001</td>\n",
       "      <td>P00069042</td>\n",
       "      <td>F</td>\n",
       "      <td>0-17</td>\n",
       "      <td>10</td>\n",
       "      <td>A</td>\n",
       "      <td>2</td>\n",
       "      <td>0</td>\n",
       "      <td>3</td>\n",
       "      <td>0</td>\n",
       "    </tr>\n",
       "    <tr>\n",
       "      <th>1</th>\n",
       "      <td>1000001</td>\n",
       "      <td>P00248942</td>\n",
       "      <td>F</td>\n",
       "      <td>0-17</td>\n",
       "      <td>10</td>\n",
       "      <td>A</td>\n",
       "      <td>2</td>\n",
       "      <td>0</td>\n",
       "      <td>1</td>\n",
       "      <td>1</td>\n",
       "    </tr>\n",
       "    <tr>\n",
       "      <th>2</th>\n",
       "      <td>1000001</td>\n",
       "      <td>P00087842</td>\n",
       "      <td>F</td>\n",
       "      <td>0-17</td>\n",
       "      <td>10</td>\n",
       "      <td>A</td>\n",
       "      <td>2</td>\n",
       "      <td>0</td>\n",
       "      <td>12</td>\n",
       "      <td>0</td>\n",
       "    </tr>\n",
       "    <tr>\n",
       "      <th>3</th>\n",
       "      <td>1000001</td>\n",
       "      <td>P00085442</td>\n",
       "      <td>F</td>\n",
       "      <td>0-17</td>\n",
       "      <td>10</td>\n",
       "      <td>A</td>\n",
       "      <td>2</td>\n",
       "      <td>0</td>\n",
       "      <td>12</td>\n",
       "      <td>0</td>\n",
       "    </tr>\n",
       "    <tr>\n",
       "      <th>4</th>\n",
       "      <td>1000002</td>\n",
       "      <td>P00285442</td>\n",
       "      <td>M</td>\n",
       "      <td>55+</td>\n",
       "      <td>16</td>\n",
       "      <td>C</td>\n",
       "      <td>4+</td>\n",
       "      <td>0</td>\n",
       "      <td>8</td>\n",
       "      <td>0</td>\n",
       "    </tr>\n",
       "  </tbody>\n",
       "</table>\n",
       "</div>"
      ],
      "text/plain": [
       "   user_id product_id gender   age  occupation city_category  \\\n",
       "0  1000001  P00069042      F  0-17          10             A   \n",
       "1  1000001  P00248942      F  0-17          10             A   \n",
       "2  1000001  P00087842      F  0-17          10             A   \n",
       "3  1000001  P00085442      F  0-17          10             A   \n",
       "4  1000002  P00285442      M   55+          16             C   \n",
       "\n",
       "  stay_in_current_city_years  marital_status  product_category_1  target  \n",
       "0                          2               0                   3       0  \n",
       "1                          2               0                   1       1  \n",
       "2                          2               0                  12       0  \n",
       "3                          2               0                  12       0  \n",
       "4                         4+               0                   8       0  "
      ]
     },
     "execution_count": 16,
     "metadata": {},
     "output_type": "execute_result"
    }
   ],
   "source": [
    "df.head()"
   ]
  },
  {
   "cell_type": "markdown",
   "id": "013780b1",
   "metadata": {},
   "source": [
    "#### Variable user_id: eliminada por alta cardinalidad"
   ]
  },
  {
   "cell_type": "code",
   "execution_count": 17,
   "id": "f46fe96e",
   "metadata": {},
   "outputs": [
    {
     "name": "stdout",
     "output_type": "stream",
     "text": [
      "Cantidad de elementos únicos: 5891\n"
     ]
    }
   ],
   "source": [
    "# Analicemos la variable user_id\n",
    "print(f'Cantidad de elementos únicos: {len(df[\"user_id\"].unique())}')\n",
    "df.drop(['user_id'], axis=1, inplace=True)"
   ]
  },
  {
   "cell_type": "markdown",
   "id": "0b04c48a",
   "metadata": {},
   "source": [
    "#### Variable product_id: eliminada por alta cardinalidad"
   ]
  },
  {
   "cell_type": "code",
   "execution_count": 18,
   "id": "d760859c",
   "metadata": {},
   "outputs": [
    {
     "name": "stdout",
     "output_type": "stream",
     "text": [
      "Cantidad de elementos únicos: 3631\n"
     ]
    }
   ],
   "source": [
    "# Analicemos la variable product_id\n",
    "print(f'Cantidad de elementos únicos: {len(df[\"product_id\"].unique())}')\n",
    "df.drop(['product_id'], axis=1, inplace=True)"
   ]
  },
  {
   "cell_type": "markdown",
   "id": "7df9e5de",
   "metadata": {},
   "source": [
    "#### Variables gender: binarización"
   ]
  },
  {
   "cell_type": "code",
   "execution_count": 19,
   "id": "71f64bff",
   "metadata": {},
   "outputs": [],
   "source": [
    "df['gender'] = df['gender'].apply(lambda x: 1 if x == 'F' else 0)"
   ]
  },
  {
   "cell_type": "markdown",
   "id": "9a01a16e",
   "metadata": {},
   "source": [
    "#### One hot enconder de variables categóricas:"
   ]
  },
  {
   "cell_type": "code",
   "execution_count": 20,
   "id": "a692e690",
   "metadata": {},
   "outputs": [],
   "source": [
    "categorical_columns = ['age', 'occupation', 'city_category', 'stay_in_current_city_years', 'product_category_1']"
   ]
  },
  {
   "cell_type": "code",
   "execution_count": 21,
   "id": "562898cc",
   "metadata": {},
   "outputs": [],
   "source": [
    "for column in categorical_columns:\n",
    "    dummies = pd.get_dummies(df[column], prefix=column) \n",
    "    df = pd.concat([df, dummies], axis=1)\n",
    "    df.drop([column], axis=1, inplace=True)"
   ]
  },
  {
   "cell_type": "markdown",
   "id": "1981952c",
   "metadata": {},
   "source": [
    "### Normalización"
   ]
  },
  {
   "cell_type": "code",
   "execution_count": 22,
   "id": "1d5e572b",
   "metadata": {},
   "outputs": [],
   "source": [
    "X_columns = list(df.columns)"
   ]
  },
  {
   "cell_type": "code",
   "execution_count": 23,
   "id": "473b7770",
   "metadata": {},
   "outputs": [],
   "source": [
    "X_columns.remove('target')"
   ]
  },
  {
   "cell_type": "code",
   "execution_count": 24,
   "id": "447a8fcb",
   "metadata": {},
   "outputs": [],
   "source": [
    "X = df[X_columns]"
   ]
  },
  {
   "cell_type": "code",
   "execution_count": 25,
   "id": "46d87bf4",
   "metadata": {},
   "outputs": [],
   "source": [
    "y = df['target']"
   ]
  },
  {
   "cell_type": "code",
   "execution_count": 26,
   "id": "cd03b7ea",
   "metadata": {},
   "outputs": [],
   "source": [
    "X_norm = (X - np.min(X, axis=0)) / (np.max(X, axis=0) - np.min(X, axis=0))"
   ]
  },
  {
   "cell_type": "code",
   "execution_count": 27,
   "id": "b030c70a",
   "metadata": {},
   "outputs": [
    {
     "name": "stdout",
     "output_type": "stream",
     "text": [
      "gender                           0.0\n",
      "marital_status                   0.0\n",
      "age_0-17                         0.0\n",
      "age_18-25                        0.0\n",
      "age_26-35                        0.0\n",
      "age_36-45                        0.0\n",
      "age_46-50                        0.0\n",
      "age_51-55                        0.0\n",
      "age_55+                          0.0\n",
      "occupation_0                     0.0\n",
      "occupation_1                     0.0\n",
      "occupation_2                     0.0\n",
      "occupation_3                     0.0\n",
      "occupation_4                     0.0\n",
      "occupation_5                     0.0\n",
      "occupation_6                     0.0\n",
      "occupation_7                     0.0\n",
      "occupation_8                     0.0\n",
      "occupation_9                     0.0\n",
      "occupation_10                    0.0\n",
      "occupation_11                    0.0\n",
      "occupation_12                    0.0\n",
      "occupation_13                    0.0\n",
      "occupation_14                    0.0\n",
      "occupation_15                    0.0\n",
      "occupation_16                    0.0\n",
      "occupation_17                    0.0\n",
      "occupation_18                    0.0\n",
      "occupation_19                    0.0\n",
      "occupation_20                    0.0\n",
      "city_category_A                  0.0\n",
      "city_category_B                  0.0\n",
      "city_category_C                  0.0\n",
      "stay_in_current_city_years_0     0.0\n",
      "stay_in_current_city_years_1     0.0\n",
      "stay_in_current_city_years_2     0.0\n",
      "stay_in_current_city_years_3     0.0\n",
      "stay_in_current_city_years_4+    0.0\n",
      "product_category_1_1             0.0\n",
      "product_category_1_2             0.0\n",
      "product_category_1_3             0.0\n",
      "product_category_1_4             0.0\n",
      "product_category_1_5             0.0\n",
      "product_category_1_6             0.0\n",
      "product_category_1_7             0.0\n",
      "product_category_1_8             0.0\n",
      "product_category_1_9             0.0\n",
      "product_category_1_10            0.0\n",
      "product_category_1_11            0.0\n",
      "product_category_1_12            0.0\n",
      "product_category_1_13            0.0\n",
      "product_category_1_14            0.0\n",
      "product_category_1_15            0.0\n",
      "product_category_1_16            0.0\n",
      "product_category_1_17            0.0\n",
      "product_category_1_18            0.0\n",
      "product_category_1_19            0.0\n",
      "product_category_1_20            0.0\n",
      "dtype: float64\n",
      "gender                           1.0\n",
      "marital_status                   1.0\n",
      "age_0-17                         1.0\n",
      "age_18-25                        1.0\n",
      "age_26-35                        1.0\n",
      "age_36-45                        1.0\n",
      "age_46-50                        1.0\n",
      "age_51-55                        1.0\n",
      "age_55+                          1.0\n",
      "occupation_0                     1.0\n",
      "occupation_1                     1.0\n",
      "occupation_2                     1.0\n",
      "occupation_3                     1.0\n",
      "occupation_4                     1.0\n",
      "occupation_5                     1.0\n",
      "occupation_6                     1.0\n",
      "occupation_7                     1.0\n",
      "occupation_8                     1.0\n",
      "occupation_9                     1.0\n",
      "occupation_10                    1.0\n",
      "occupation_11                    1.0\n",
      "occupation_12                    1.0\n",
      "occupation_13                    1.0\n",
      "occupation_14                    1.0\n",
      "occupation_15                    1.0\n",
      "occupation_16                    1.0\n",
      "occupation_17                    1.0\n",
      "occupation_18                    1.0\n",
      "occupation_19                    1.0\n",
      "occupation_20                    1.0\n",
      "city_category_A                  1.0\n",
      "city_category_B                  1.0\n",
      "city_category_C                  1.0\n",
      "stay_in_current_city_years_0     1.0\n",
      "stay_in_current_city_years_1     1.0\n",
      "stay_in_current_city_years_2     1.0\n",
      "stay_in_current_city_years_3     1.0\n",
      "stay_in_current_city_years_4+    1.0\n",
      "product_category_1_1             1.0\n",
      "product_category_1_2             1.0\n",
      "product_category_1_3             1.0\n",
      "product_category_1_4             1.0\n",
      "product_category_1_5             1.0\n",
      "product_category_1_6             1.0\n",
      "product_category_1_7             1.0\n",
      "product_category_1_8             1.0\n",
      "product_category_1_9             1.0\n",
      "product_category_1_10            1.0\n",
      "product_category_1_11            1.0\n",
      "product_category_1_12            1.0\n",
      "product_category_1_13            1.0\n",
      "product_category_1_14            1.0\n",
      "product_category_1_15            1.0\n",
      "product_category_1_16            1.0\n",
      "product_category_1_17            1.0\n",
      "product_category_1_18            1.0\n",
      "product_category_1_19            1.0\n",
      "product_category_1_20            1.0\n",
      "dtype: float64\n"
     ]
    }
   ],
   "source": [
    "print(np.min(X_norm, axis=0))\n",
    "print(np.max(X_norm, axis=0))"
   ]
  },
  {
   "cell_type": "code",
   "execution_count": 28,
   "id": "729ce2b0",
   "metadata": {},
   "outputs": [
    {
     "data": {
      "text/html": [
       "<div>\n",
       "<style scoped>\n",
       "    .dataframe tbody tr th:only-of-type {\n",
       "        vertical-align: middle;\n",
       "    }\n",
       "\n",
       "    .dataframe tbody tr th {\n",
       "        vertical-align: top;\n",
       "    }\n",
       "\n",
       "    .dataframe thead th {\n",
       "        text-align: right;\n",
       "    }\n",
       "</style>\n",
       "<table border=\"1\" class=\"dataframe\">\n",
       "  <thead>\n",
       "    <tr style=\"text-align: right;\">\n",
       "      <th></th>\n",
       "      <th>gender</th>\n",
       "      <th>marital_status</th>\n",
       "      <th>age_0-17</th>\n",
       "      <th>age_18-25</th>\n",
       "      <th>age_26-35</th>\n",
       "      <th>age_36-45</th>\n",
       "      <th>age_46-50</th>\n",
       "      <th>age_51-55</th>\n",
       "      <th>age_55+</th>\n",
       "      <th>occupation_0</th>\n",
       "      <th>...</th>\n",
       "      <th>product_category_1_11</th>\n",
       "      <th>product_category_1_12</th>\n",
       "      <th>product_category_1_13</th>\n",
       "      <th>product_category_1_14</th>\n",
       "      <th>product_category_1_15</th>\n",
       "      <th>product_category_1_16</th>\n",
       "      <th>product_category_1_17</th>\n",
       "      <th>product_category_1_18</th>\n",
       "      <th>product_category_1_19</th>\n",
       "      <th>product_category_1_20</th>\n",
       "    </tr>\n",
       "  </thead>\n",
       "  <tbody>\n",
       "    <tr>\n",
       "      <th>count</th>\n",
       "      <td>550068.000000</td>\n",
       "      <td>550068.000000</td>\n",
       "      <td>550068.000000</td>\n",
       "      <td>550068.000000</td>\n",
       "      <td>550068.000000</td>\n",
       "      <td>550068.000000</td>\n",
       "      <td>550068.000000</td>\n",
       "      <td>550068.000000</td>\n",
       "      <td>550068.000000</td>\n",
       "      <td>550068.000000</td>\n",
       "      <td>...</td>\n",
       "      <td>550068.000000</td>\n",
       "      <td>550068.000000</td>\n",
       "      <td>550068.000000</td>\n",
       "      <td>550068.000000</td>\n",
       "      <td>550068.000000</td>\n",
       "      <td>550068.000000</td>\n",
       "      <td>550068.000000</td>\n",
       "      <td>550068.000000</td>\n",
       "      <td>550068.000000</td>\n",
       "      <td>550068.000000</td>\n",
       "    </tr>\n",
       "    <tr>\n",
       "      <th>mean</th>\n",
       "      <td>0.246895</td>\n",
       "      <td>0.409653</td>\n",
       "      <td>0.027455</td>\n",
       "      <td>0.181178</td>\n",
       "      <td>0.399200</td>\n",
       "      <td>0.199999</td>\n",
       "      <td>0.083082</td>\n",
       "      <td>0.069993</td>\n",
       "      <td>0.039093</td>\n",
       "      <td>0.126599</td>\n",
       "      <td>...</td>\n",
       "      <td>0.044153</td>\n",
       "      <td>0.007175</td>\n",
       "      <td>0.010088</td>\n",
       "      <td>0.002769</td>\n",
       "      <td>0.011435</td>\n",
       "      <td>0.017867</td>\n",
       "      <td>0.001051</td>\n",
       "      <td>0.005681</td>\n",
       "      <td>0.002914</td>\n",
       "      <td>0.004636</td>\n",
       "    </tr>\n",
       "    <tr>\n",
       "      <th>std</th>\n",
       "      <td>0.431205</td>\n",
       "      <td>0.491770</td>\n",
       "      <td>0.163405</td>\n",
       "      <td>0.385166</td>\n",
       "      <td>0.489734</td>\n",
       "      <td>0.400000</td>\n",
       "      <td>0.276007</td>\n",
       "      <td>0.255136</td>\n",
       "      <td>0.193817</td>\n",
       "      <td>0.332523</td>\n",
       "      <td>...</td>\n",
       "      <td>0.205435</td>\n",
       "      <td>0.084404</td>\n",
       "      <td>0.099930</td>\n",
       "      <td>0.052546</td>\n",
       "      <td>0.106321</td>\n",
       "      <td>0.132468</td>\n",
       "      <td>0.032399</td>\n",
       "      <td>0.075159</td>\n",
       "      <td>0.053905</td>\n",
       "      <td>0.067929</td>\n",
       "    </tr>\n",
       "    <tr>\n",
       "      <th>min</th>\n",
       "      <td>0.000000</td>\n",
       "      <td>0.000000</td>\n",
       "      <td>0.000000</td>\n",
       "      <td>0.000000</td>\n",
       "      <td>0.000000</td>\n",
       "      <td>0.000000</td>\n",
       "      <td>0.000000</td>\n",
       "      <td>0.000000</td>\n",
       "      <td>0.000000</td>\n",
       "      <td>0.000000</td>\n",
       "      <td>...</td>\n",
       "      <td>0.000000</td>\n",
       "      <td>0.000000</td>\n",
       "      <td>0.000000</td>\n",
       "      <td>0.000000</td>\n",
       "      <td>0.000000</td>\n",
       "      <td>0.000000</td>\n",
       "      <td>0.000000</td>\n",
       "      <td>0.000000</td>\n",
       "      <td>0.000000</td>\n",
       "      <td>0.000000</td>\n",
       "    </tr>\n",
       "    <tr>\n",
       "      <th>25%</th>\n",
       "      <td>0.000000</td>\n",
       "      <td>0.000000</td>\n",
       "      <td>0.000000</td>\n",
       "      <td>0.000000</td>\n",
       "      <td>0.000000</td>\n",
       "      <td>0.000000</td>\n",
       "      <td>0.000000</td>\n",
       "      <td>0.000000</td>\n",
       "      <td>0.000000</td>\n",
       "      <td>0.000000</td>\n",
       "      <td>...</td>\n",
       "      <td>0.000000</td>\n",
       "      <td>0.000000</td>\n",
       "      <td>0.000000</td>\n",
       "      <td>0.000000</td>\n",
       "      <td>0.000000</td>\n",
       "      <td>0.000000</td>\n",
       "      <td>0.000000</td>\n",
       "      <td>0.000000</td>\n",
       "      <td>0.000000</td>\n",
       "      <td>0.000000</td>\n",
       "    </tr>\n",
       "    <tr>\n",
       "      <th>50%</th>\n",
       "      <td>0.000000</td>\n",
       "      <td>0.000000</td>\n",
       "      <td>0.000000</td>\n",
       "      <td>0.000000</td>\n",
       "      <td>0.000000</td>\n",
       "      <td>0.000000</td>\n",
       "      <td>0.000000</td>\n",
       "      <td>0.000000</td>\n",
       "      <td>0.000000</td>\n",
       "      <td>0.000000</td>\n",
       "      <td>...</td>\n",
       "      <td>0.000000</td>\n",
       "      <td>0.000000</td>\n",
       "      <td>0.000000</td>\n",
       "      <td>0.000000</td>\n",
       "      <td>0.000000</td>\n",
       "      <td>0.000000</td>\n",
       "      <td>0.000000</td>\n",
       "      <td>0.000000</td>\n",
       "      <td>0.000000</td>\n",
       "      <td>0.000000</td>\n",
       "    </tr>\n",
       "    <tr>\n",
       "      <th>75%</th>\n",
       "      <td>0.000000</td>\n",
       "      <td>1.000000</td>\n",
       "      <td>0.000000</td>\n",
       "      <td>0.000000</td>\n",
       "      <td>1.000000</td>\n",
       "      <td>0.000000</td>\n",
       "      <td>0.000000</td>\n",
       "      <td>0.000000</td>\n",
       "      <td>0.000000</td>\n",
       "      <td>0.000000</td>\n",
       "      <td>...</td>\n",
       "      <td>0.000000</td>\n",
       "      <td>0.000000</td>\n",
       "      <td>0.000000</td>\n",
       "      <td>0.000000</td>\n",
       "      <td>0.000000</td>\n",
       "      <td>0.000000</td>\n",
       "      <td>0.000000</td>\n",
       "      <td>0.000000</td>\n",
       "      <td>0.000000</td>\n",
       "      <td>0.000000</td>\n",
       "    </tr>\n",
       "    <tr>\n",
       "      <th>max</th>\n",
       "      <td>1.000000</td>\n",
       "      <td>1.000000</td>\n",
       "      <td>1.000000</td>\n",
       "      <td>1.000000</td>\n",
       "      <td>1.000000</td>\n",
       "      <td>1.000000</td>\n",
       "      <td>1.000000</td>\n",
       "      <td>1.000000</td>\n",
       "      <td>1.000000</td>\n",
       "      <td>1.000000</td>\n",
       "      <td>...</td>\n",
       "      <td>1.000000</td>\n",
       "      <td>1.000000</td>\n",
       "      <td>1.000000</td>\n",
       "      <td>1.000000</td>\n",
       "      <td>1.000000</td>\n",
       "      <td>1.000000</td>\n",
       "      <td>1.000000</td>\n",
       "      <td>1.000000</td>\n",
       "      <td>1.000000</td>\n",
       "      <td>1.000000</td>\n",
       "    </tr>\n",
       "  </tbody>\n",
       "</table>\n",
       "<p>8 rows × 58 columns</p>\n",
       "</div>"
      ],
      "text/plain": [
       "              gender  marital_status       age_0-17      age_18-25  \\\n",
       "count  550068.000000   550068.000000  550068.000000  550068.000000   \n",
       "mean        0.246895        0.409653       0.027455       0.181178   \n",
       "std         0.431205        0.491770       0.163405       0.385166   \n",
       "min         0.000000        0.000000       0.000000       0.000000   \n",
       "25%         0.000000        0.000000       0.000000       0.000000   \n",
       "50%         0.000000        0.000000       0.000000       0.000000   \n",
       "75%         0.000000        1.000000       0.000000       0.000000   \n",
       "max         1.000000        1.000000       1.000000       1.000000   \n",
       "\n",
       "           age_26-35      age_36-45      age_46-50      age_51-55  \\\n",
       "count  550068.000000  550068.000000  550068.000000  550068.000000   \n",
       "mean        0.399200       0.199999       0.083082       0.069993   \n",
       "std         0.489734       0.400000       0.276007       0.255136   \n",
       "min         0.000000       0.000000       0.000000       0.000000   \n",
       "25%         0.000000       0.000000       0.000000       0.000000   \n",
       "50%         0.000000       0.000000       0.000000       0.000000   \n",
       "75%         1.000000       0.000000       0.000000       0.000000   \n",
       "max         1.000000       1.000000       1.000000       1.000000   \n",
       "\n",
       "             age_55+   occupation_0  ...  product_category_1_11  \\\n",
       "count  550068.000000  550068.000000  ...          550068.000000   \n",
       "mean        0.039093       0.126599  ...               0.044153   \n",
       "std         0.193817       0.332523  ...               0.205435   \n",
       "min         0.000000       0.000000  ...               0.000000   \n",
       "25%         0.000000       0.000000  ...               0.000000   \n",
       "50%         0.000000       0.000000  ...               0.000000   \n",
       "75%         0.000000       0.000000  ...               0.000000   \n",
       "max         1.000000       1.000000  ...               1.000000   \n",
       "\n",
       "       product_category_1_12  product_category_1_13  product_category_1_14  \\\n",
       "count          550068.000000          550068.000000          550068.000000   \n",
       "mean                0.007175               0.010088               0.002769   \n",
       "std                 0.084404               0.099930               0.052546   \n",
       "min                 0.000000               0.000000               0.000000   \n",
       "25%                 0.000000               0.000000               0.000000   \n",
       "50%                 0.000000               0.000000               0.000000   \n",
       "75%                 0.000000               0.000000               0.000000   \n",
       "max                 1.000000               1.000000               1.000000   \n",
       "\n",
       "       product_category_1_15  product_category_1_16  product_category_1_17  \\\n",
       "count          550068.000000          550068.000000          550068.000000   \n",
       "mean                0.011435               0.017867               0.001051   \n",
       "std                 0.106321               0.132468               0.032399   \n",
       "min                 0.000000               0.000000               0.000000   \n",
       "25%                 0.000000               0.000000               0.000000   \n",
       "50%                 0.000000               0.000000               0.000000   \n",
       "75%                 0.000000               0.000000               0.000000   \n",
       "max                 1.000000               1.000000               1.000000   \n",
       "\n",
       "       product_category_1_18  product_category_1_19  product_category_1_20  \n",
       "count          550068.000000          550068.000000          550068.000000  \n",
       "mean                0.005681               0.002914               0.004636  \n",
       "std                 0.075159               0.053905               0.067929  \n",
       "min                 0.000000               0.000000               0.000000  \n",
       "25%                 0.000000               0.000000               0.000000  \n",
       "50%                 0.000000               0.000000               0.000000  \n",
       "75%                 0.000000               0.000000               0.000000  \n",
       "max                 1.000000               1.000000               1.000000  \n",
       "\n",
       "[8 rows x 58 columns]"
      ]
     },
     "execution_count": 28,
     "metadata": {},
     "output_type": "execute_result"
    }
   ],
   "source": [
    "X_norm.describe()"
   ]
  },
  {
   "cell_type": "markdown",
   "id": "a4aceb72",
   "metadata": {},
   "source": [
    "### Split"
   ]
  },
  {
   "cell_type": "code",
   "execution_count": 29,
   "id": "6fcdecd7",
   "metadata": {},
   "outputs": [
    {
     "name": "stdout",
     "output_type": "stream",
     "text": [
      "550068\n",
      "467557\n",
      "82511\n"
     ]
    }
   ],
   "source": [
    "X_norm = X_norm.to_numpy()\n",
    "y = y.to_numpy()\n",
    "n = X_norm.shape[0]\n",
    "print(n)\n",
    "idx = np.random.permutation(np.arange(0, n))\n",
    "train_idx = idx[0:int(0.85 * n)]\n",
    "valid_idx = idx[int(0.85 * n):]\n",
    "print(len(train_idx))\n",
    "print(len(valid_idx))\n",
    "\n",
    "# train -> entrenar tu modelo (80%)\n",
    "# valid -> encontrar los HPs (10%)\n",
    "# test -> calcular las metricas finales (10%)"
   ]
  },
  {
   "cell_type": "code",
   "execution_count": 30,
   "id": "18d6c6a9",
   "metadata": {},
   "outputs": [
    {
     "name": "stdout",
     "output_type": "stream",
     "text": [
      "(467557, 58)\n",
      "(467557,)\n",
      "(82511, 58)\n",
      "(82511,)\n"
     ]
    }
   ],
   "source": [
    "X_train = X_norm[train_idx,:]\n",
    "y_train = y[train_idx]\n",
    "X_valid = X_norm[valid_idx,:]\n",
    "y_valid = y[valid_idx]\n",
    "\n",
    "print(X_train.shape)\n",
    "print(y_train.shape)\n",
    "print(X_valid.shape)\n",
    "print(y_valid.shape)"
   ]
  },
  {
   "cell_type": "markdown",
   "id": "34c19053",
   "metadata": {},
   "source": [
    "# NNet sin embeddings"
   ]
  },
  {
   "cell_type": "code",
   "execution_count": 31,
   "id": "3000df08",
   "metadata": {},
   "outputs": [],
   "source": [
    "import torch\n",
    "from torch.utils.data import Dataset, DataLoader\n",
    "from sklearn import metrics"
   ]
  },
  {
   "cell_type": "code",
   "execution_count": 32,
   "id": "8a3889d5",
   "metadata": {},
   "outputs": [],
   "source": [
    "class MyDataset(Dataset):\n",
    "\n",
    "    def __init__(self, X, y):\n",
    "        super().__init__()\n",
    "        self.X = X\n",
    "        self.y = y\n",
    "\n",
    "    def __len__(self):\n",
    "        return self.X.shape[0]\n",
    "\n",
    "    def __getitem__(self, idx):\n",
    "        return self.X[idx], self.y[idx]"
   ]
  },
  {
   "cell_type": "code",
   "execution_count": 33,
   "id": "75dffa79",
   "metadata": {},
   "outputs": [],
   "source": [
    "train = MyDataset(X_train, y_train)"
   ]
  },
  {
   "cell_type": "code",
   "execution_count": 34,
   "id": "611a800b",
   "metadata": {},
   "outputs": [],
   "source": [
    "valid = MyDataset(X_valid, y_valid)"
   ]
  },
  {
   "cell_type": "code",
   "execution_count": 35,
   "id": "a0a42e23",
   "metadata": {},
   "outputs": [],
   "source": [
    "train_dataloader = DataLoader(train, batch_size=64, shuffle=True)\n",
    "valid_dataloader = DataLoader(valid, batch_size=64, shuffle=True)"
   ]
  },
  {
   "cell_type": "code",
   "execution_count": 36,
   "id": "f8878133",
   "metadata": {},
   "outputs": [],
   "source": [
    "class NNet(torch.nn.Module):\n",
    "\n",
    "    def __init__(self):\n",
    "        super().__init__()\n",
    "        self.linear_1 = torch.nn.Linear(in_features=58, out_features=128, bias=True)\n",
    "        self.relu_1 = torch.nn.ReLU()\n",
    "        self.linear_2 = torch.nn.Linear(in_features=128, out_features=256, bias=True)\n",
    "        self.relu_2 = torch.nn.ReLU()\n",
    "        self.linear_3 = torch.nn.Linear(in_features=256, out_features=1, bias=True)\n",
    "        self.output = torch.nn.Sigmoid()\n",
    "\n",
    "    def forward(self, x): \n",
    "        x = self.linear_1(x) \n",
    "        x = self.relu_1(x)\n",
    "        x = self.linear_2(x)\n",
    "        x = self.relu_2(x)\n",
    "        x = self.linear_3(x)\n",
    "        x = self.output(x)\n",
    "        return x"
   ]
  },
  {
   "cell_type": "code",
   "execution_count": 37,
   "id": "6ea35399",
   "metadata": {},
   "outputs": [],
   "source": [
    "nnet = NNet()"
   ]
  },
  {
   "cell_type": "code",
   "execution_count": 38,
   "id": "8c6a7506",
   "metadata": {},
   "outputs": [
    {
     "name": "stdout",
     "output_type": "stream",
     "text": [
      "<class 'torch.Tensor'>\n",
      "torch.Size([64, 58])\n",
      "torch.Size([64, 1])\n"
     ]
    }
   ],
   "source": [
    "x_batch = next(iter(train_dataloader))[0]\n",
    "print(type(x_batch))\n",
    "x_batch = x_batch.float()\n",
    "y_batch = nnet(x_batch)\n",
    "print(x_batch.shape)\n",
    "print(y_batch.shape)"
   ]
  },
  {
   "cell_type": "code",
   "execution_count": 39,
   "id": "eebad428",
   "metadata": {},
   "outputs": [],
   "source": [
    "optimizer = torch.optim.Adam(nnet.parameters(), lr=0.001)\n",
    "loss_function = torch.nn.BCEWithLogitsLoss(reduction=\"sum\")"
   ]
  },
  {
   "cell_type": "code",
   "execution_count": 40,
   "id": "a22908cc",
   "metadata": {},
   "outputs": [
    {
     "name": "stdout",
     "output_type": "stream",
     "text": [
      "cuda:0\n"
     ]
    }
   ],
   "source": [
    "device = \"\"\n",
    "if torch.cuda.is_available():\n",
    "    device = \"cuda:0\"\n",
    "else:\n",
    "    device = \"cpu\"\n",
    "\n",
    "print(device)"
   ]
  },
  {
   "cell_type": "code",
   "execution_count": 41,
   "id": "5d87f4de",
   "metadata": {},
   "outputs": [
    {
     "name": "stdout",
     "output_type": "stream",
     "text": [
      "Epoch 0 | Training loss: 286607.4152317047 | AUC: 0.874084783435658\n",
      "Epoch 1 | Training loss: 285755.93556022644 | AUC: 0.8818518295628632\n",
      "Epoch 2 | Training loss: 285643.55913734436 | AUC: 0.891467286731865\n",
      "Epoch 3 | Training loss: 285534.96100234985 | AUC: 0.8891307389715868\n",
      "Epoch 4 | Training loss: 285472.02223587036 | AUC: 0.8875172097031978\n",
      "Epoch 5 | Training loss: 285403.6693572998 | AUC: 0.8872097598448527\n",
      "Epoch 6 | Training loss: 285345.49691200256 | AUC: 0.8784123805113486\n",
      "Epoch 7 | Training loss: 285304.91746902466 | AUC: 0.87187501833297\n",
      "Epoch 8 | Training loss: 285233.73723220825 | AUC: 0.8731591927920082\n",
      "Epoch 9 | Training loss: 285215.80749320984 | AUC: 0.8740423478675963\n",
      "Epoch 10 | Training loss: 285200.8635005951 | AUC: 0.8762081681438352\n",
      "Epoch 11 | Training loss: 285159.0519104004 | AUC: 0.8818129957558145\n",
      "Epoch 12 | Training loss: 285141.4153556824 | AUC: 0.8777462478631246\n",
      "Epoch 13 | Training loss: 285139.4464607239 | AUC: 0.8735616510131761\n",
      "Epoch 14 | Training loss: 285104.7863731384 | AUC: 0.8749633223547547\n",
      "Epoch 15 | Training loss: 285089.7717399597 | AUC: 0.8761711710384046\n",
      "Epoch 16 | Training loss: 285069.9832229614 | AUC: 0.8775276992664867\n",
      "Epoch 17 | Training loss: 285065.746843338 | AUC: 0.877074064295718\n",
      "Epoch 18 | Training loss: 285068.3369731903 | AUC: 0.8776019298766442\n",
      "Epoch 19 | Training loss: 285027.17695999146 | AUC: 0.8759114644376877\n",
      "Epoch 20 | Training loss: 284977.55846595764 | AUC: 0.8741855042709048\n",
      "Epoch 21 | Training loss: 284997.9266605377 | AUC: 0.8764763248908916\n",
      "Epoch 22 | Training loss: 285002.8384799957 | AUC: 0.8755995560510121\n",
      "Epoch 23 | Training loss: 285009.86298942566 | AUC: 0.876920085917984\n",
      "Epoch 24 | Training loss: 284972.86126327515 | AUC: 0.876531514673867\n",
      "Epoch 25 | Training loss: 284958.45442199707 | AUC: 0.8763543278326694\n",
      "Epoch 26 | Training loss: 284961.7415866852 | AUC: 0.8757109844163604\n",
      "Epoch 27 | Training loss: 284956.55898857117 | AUC: 0.8747018165483963\n",
      "Epoch 28 | Training loss: 284956.0692176819 | AUC: 0.8712775451028145\n",
      "Epoch 29 | Training loss: 284930.1075191498 | AUC: 0.8723949348336688\n",
      "Epoch 30 | Training loss: 284934.9141769409 | AUC: 0.8731878659719663\n",
      "Epoch 31 | Training loss: 284933.5540447235 | AUC: 0.8720409467232886\n",
      "Epoch 32 | Training loss: 284941.3711528778 | AUC: 0.874926576593568\n",
      "Epoch 33 | Training loss: 284945.1650352478 | AUC: 0.8744802441479452\n",
      "Epoch 34 | Training loss: 284911.2076206207 | AUC: 0.8738028615329154\n",
      "Epoch 35 | Training loss: 284902.33531951904 | AUC: 0.8742590694777868\n",
      "Epoch 36 | Training loss: 284922.1903266907 | AUC: 0.8729477954005354\n",
      "Epoch 37 | Training loss: 284919.58717536926 | AUC: 0.872907478903895\n",
      "Epoch 38 | Training loss: 284914.85217666626 | AUC: 0.8721510103457932\n",
      "Epoch 39 | Training loss: 284936.1340084076 | AUC: 0.8731717390564695\n",
      "Epoch 40 | Training loss: 284921.2387943268 | AUC: 0.8738615155662071\n",
      "Epoch 41 | Training loss: 284916.97863960266 | AUC: 0.8725010585251609\n",
      "Epoch 42 | Training loss: 284937.81347465515 | AUC: 0.8711130766983649\n",
      "Epoch 43 | Training loss: 284914.77837371826 | AUC: 0.8713958969107986\n",
      "Epoch 44 | Training loss: 284903.81112098694 | AUC: 0.8713702148676324\n",
      "Epoch 45 | Training loss: 284898.0938491821 | AUC: 0.8719554937076335\n",
      "Epoch 46 | Training loss: 284902.7427177429 | AUC: 0.8718739450547792\n",
      "Epoch 47 | Training loss: 284888.6429004669 | AUC: 0.8710809690816388\n",
      "Epoch 48 | Training loss: 284909.92794799805 | AUC: 0.8709727146376175\n",
      "Epoch 49 | Training loss: 284876.7377529144 | AUC: 0.8710240149073062\n",
      "Epoch 50 | Training loss: 284886.17496299744 | AUC: 0.8710881881975622\n",
      "Epoch 51 | Training loss: 284854.1979408264 | AUC: 0.8710175148285063\n",
      "Epoch 52 | Training loss: 284854.6729106903 | AUC: 0.8715099541554242\n",
      "Epoch 53 | Training loss: 284932.0013999939 | AUC: 0.8717323000380347\n",
      "Epoch 54 | Training loss: 284878.18947410583 | AUC: 0.872670984440846\n",
      "Epoch 55 | Training loss: 284901.6330795288 | AUC: 0.8723165420365053\n",
      "Epoch 56 | Training loss: 284872.1032409668 | AUC: 0.8720693699714243\n",
      "Epoch 57 | Training loss: 284903.6048088074 | AUC: 0.8723105393782425\n",
      "Epoch 58 | Training loss: 284866.1993923187 | AUC: 0.8721493283902326\n",
      "Epoch 59 | Training loss: 284879.63356399536 | AUC: 0.8721053916947514\n",
      "Epoch 60 | Training loss: 284831.75061035156 | AUC: 0.8720647621558548\n",
      "Epoch 61 | Training loss: 284913.5257663727 | AUC: 0.8716108340407971\n",
      "Epoch 62 | Training loss: 284863.4133644104 | AUC: 0.8715746227284982\n",
      "Epoch 63 | Training loss: 284845.4389743805 | AUC: 0.8715098370675807\n",
      "Epoch 64 | Training loss: 284827.1675720215 | AUC: 0.8713627017580583\n",
      "Epoch 65 | Training loss: 284806.8605995178 | AUC: 0.8713037902822968\n",
      "Epoch 66 | Training loss: 284811.4716644287 | AUC: 0.8710668896335128\n",
      "Epoch 67 | Training loss: 284823.83445739746 | AUC: 0.8710692794890614\n",
      "Epoch 68 | Training loss: 284837.94156455994 | AUC: 0.8708000871697452\n",
      "Epoch 69 | Training loss: 284833.0557785034 | AUC: 0.870624982953765\n",
      "Epoch 70 | Training loss: 284822.90564727783 | AUC: 0.8705577881405658\n",
      "Epoch 71 | Training loss: 284822.25975227356 | AUC: 0.8707849292231945\n",
      "Epoch 72 | Training loss: 284841.7203979492 | AUC: 0.8703163239384519\n",
      "Epoch 73 | Training loss: 284832.28038597107 | AUC: 0.8704400386922272\n",
      "Epoch 74 | Training loss: 284854.8196468353 | AUC: 0.8704495246971286\n",
      "Epoch 75 | Training loss: 284854.5693759918 | AUC: 0.8706375145691237\n",
      "Epoch 76 | Training loss: 284825.32288742065 | AUC: 0.870442293890553\n",
      "Epoch 77 | Training loss: 284826.70304489136 | AUC: 0.8704596232826453\n",
      "Epoch 78 | Training loss: 284838.59781837463 | AUC: 0.8702895800309883\n",
      "Epoch 79 | Training loss: 284820.9163951874 | AUC: 0.8702859902851028\n",
      "Epoch 80 | Training loss: 284834.924495697 | AUC: 0.8703244922207883\n",
      "Epoch 81 | Training loss: 284831.38533592224 | AUC: 0.8707441646167093\n",
      "Epoch 82 | Training loss: 284831.5480365753 | AUC: 0.8707447205763964\n",
      "Epoch 83 | Training loss: 284830.79863357544 | AUC: 0.8707336533750392\n",
      "Epoch 84 | Training loss: 284808.89241218567 | AUC: 0.8709402235007057\n",
      "Epoch 85 | Training loss: 284804.09958457947 | AUC: 0.8711417445053947\n",
      "Epoch 86 | Training loss: 284791.0612449646 | AUC: 0.8712026321594089\n",
      "Epoch 87 | Training loss: 284791.54581069946 | AUC: 0.870972473237585\n",
      "Epoch 88 | Training loss: 284794.51453590393 | AUC: 0.8709611111359552\n",
      "Epoch 89 | Training loss: 284791.72051239014 | AUC: 0.8711235594053011\n",
      "Epoch 90 | Training loss: 284800.3185081482 | AUC: 0.8713234576520733\n",
      "Epoch 91 | Training loss: 284804.4123649597 | AUC: 0.8712843670705921\n",
      "Epoch 92 | Training loss: 284820.99783325195 | AUC: 0.8712245581535878\n",
      "Epoch 93 | Training loss: 284812.5713367462 | AUC: 0.8711848428332127\n",
      "Epoch 94 | Training loss: 284811.7826080322 | AUC: 0.8711848413826176\n",
      "Epoch 95 | Training loss: 284806.3124599457 | AUC: 0.871576064400603\n",
      "Epoch 96 | Training loss: 284789.49914741516 | AUC: 0.8712615040969082\n",
      "Epoch 97 | Training loss: 284788.8801345825 | AUC: 0.8712221886922619\n",
      "Epoch 98 | Training loss: 284785.603969574 | AUC: 0.8713820561523826\n",
      "Epoch 99 | Training loss: 284789.0384025574 | AUC: 0.8713800906627259\n"
     ]
    }
   ],
   "source": [
    "nnet.to(device)\n",
    "\n",
    "loss_list = []\n",
    "train_auc = []\n",
    "for epoch in range(100):\n",
    "\n",
    "    running_loss = 0\n",
    "    running_y_score = []\n",
    "    running_y_label = []\n",
    "    for i, data in enumerate(train_dataloader):\n",
    "\n",
    "        # datos del batch\n",
    "        X_batch, y_batch = data \n",
    "        X_batch = X_batch.to(device).float()\n",
    "        Y_batch = y_batch.to(device).float()\n",
    "\n",
    "        # forward\n",
    "        optimizer.zero_grad()\n",
    "        y_batch_score = nnet(X_batch).reshape(-1)\n",
    "        y_batch_hat = torch.sigmoid(y_batch_score).reshape(-1)\n",
    "\n",
    "        # backpropagation\n",
    "        loss = loss_function(y_batch_score, Y_batch) # calcula el loss\n",
    "        loss.backward() # hacer los gradientes del loss\n",
    "\n",
    "        # actualización de parametros\n",
    "        optimizer.step() \n",
    "\n",
    "        running_loss += loss.item()\n",
    "        running_y_score += list(y_batch_score.detach().cpu().numpy())  \n",
    "        running_y_label += list(Y_batch.detach().cpu().numpy()) \n",
    "\n",
    "    # metrics\n",
    "    loss_list.append(running_loss)\n",
    "    fpt, tpr, _ = metrics.roc_curve(running_y_label, running_y_score)\n",
    "    auc = metrics.auc(fpt, tpr)\n",
    "    train_auc.append(auc)\n",
    "    print(f\"Epoch {epoch} | Training loss: {running_loss} | AUC: {auc}\")"
   ]
  },
  {
   "cell_type": "code",
   "execution_count": 43,
   "id": "e44b2125",
   "metadata": {},
   "outputs": [
    {
     "data": {
      "text/plain": [
       "[<matplotlib.lines.Line2D at 0x1c5e2bd6d30>]"
      ]
     },
     "execution_count": 43,
     "metadata": {},
     "output_type": "execute_result"
    },
    {
     "data": {
      "image/png": "[encoded data removed]",
      "text/plain": [
       "<Figure size 640x480 with 1 Axes>"
      ]
     },
     "metadata": {},
     "output_type": "display_data"
    }
   ],
   "source": [
    "fig, ax1 = plt.subplots(1, 1)\n",
    "x = range(0, len(loss_list))\n",
    "ax1.plot(x, loss_list)"
   ]
  },
  {
   "cell_type": "code",
   "execution_count": 54,
   "id": "31d2c148",
   "metadata": {},
   "outputs": [
    {
     "data": {
      "text/plain": [
       "[<matplotlib.lines.Line2D at 0x1c667357940>]"
      ]
     },
     "execution_count": 54,
     "metadata": {},
     "output_type": "execute_result"
    },
    {
     "data": {
      "image/png": "[encoded data removed]",
      "text/plain": [
       "<Figure size 640x480 with 1 Axes>"
      ]
     },
     "metadata": {},
     "output_type": "display_data"
    }
   ],
   "source": [
    "fig, ax1 = plt.subplots(1, 1)\n",
    "x = range(0, len(train_auc))\n",
    "ax1.plot(x, train_auc)"
   ]
  },
  {
   "cell_type": "markdown",
   "id": "63e24c58",
   "metadata": {},
   "source": [
    "### Conclusiones\n",
    "\n",
    "Podemos ver que luego de aproximadamente 40 épocas de entrenamiento la pérdida comienza a estancarse, por lo que el modelo deja de \"aprender\", también es posible notar como empeora la métrica AUC con el pasar de las épocas, sin lograr estabilizarse. Para intentar revertir esa situación, añadiremos embeddings al modelo."
   ]
  }
 ],
 "metadata": {
  "kernelspec": {
   "display_name": "Python 3 (ipykernel)",
   "language": "python",
   "name": "python3"
  },
  "language_info": {
   "codemirror_mode": {
    "name": "ipython",
    "version": 3
   },
   "file_extension": ".py",
   "mimetype": "text/x-python",
   "name": "python",
   "nbconvert_exporter": "python",
   "pygments_lexer": "ipython3",
   "version": "3.9.13"
  }
 },
 "nbformat": 4,
 "nbformat_minor": 5
}
